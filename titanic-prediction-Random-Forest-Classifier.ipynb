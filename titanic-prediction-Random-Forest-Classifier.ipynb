{
 "cells": [
  {
   "cell_type": "code",
   "execution_count": 1,
   "id": "bd50dc13",
   "metadata": {
    "_cell_guid": "b1076dfc-b9ad-4769-8c92-a6c4dae69d19",
    "_uuid": "8f2839f25d086af736a60e9eeb907d3b93b6e0e5",
    "execution": {
     "iopub.execute_input": "2025-02-01T01:20:15.674312Z",
     "iopub.status.busy": "2025-02-01T01:20:15.673967Z",
     "iopub.status.idle": "2025-02-01T01:20:18.347547Z",
     "shell.execute_reply": "2025-02-01T01:20:18.346237Z"
    },
    "papermill": {
     "duration": 2.682294,
     "end_time": "2025-02-01T01:20:18.349365",
     "exception": false,
     "start_time": "2025-02-01T01:20:15.667071",
     "status": "completed"
    },
    "tags": []
   },
   "outputs": [
    {
     "name": "stdout",
     "output_type": "stream",
     "text": [
      "/kaggle/input/titanic/train.csv\n",
      "/kaggle/input/titanic/test.csv\n",
      "/kaggle/input/titanic/gender_submission.csv\n"
     ]
    }
   ],
   "source": [
    "# This Python 3 environment comes with many helpful analytics libraries installed\n",
    "# It is defined by the kaggle/python Docker image: https://github.com/kaggle/docker-python\n",
    "# For example, here's several helpful packages to load\n",
    "\n",
    "import numpy as np # linear algebra\n",
    "import pandas as pd # data processing, CSV file I/O (e.g. pd.read_csv)\n",
    "from sklearn.tree import DecisionTreeClassifier\n",
    "from sklearn.ensemble import RandomForestClassifier\n",
    "from sklearn.metrics import mean_absolute_error\n",
    "from sklearn.model_selection import train_test_split\n",
    "from sklearn.preprocessing import OneHotEncoder\n",
    "\n",
    "# Input data files are available in the read-only \"../input/\" directory\n",
    "# For example, running this (by clicking run or pressing Shift+Enter) will list all files under the input directory\n",
    "\n",
    "import os\n",
    "for dirname, _, filenames in os.walk('/kaggle/input'):\n",
    "    for filename in filenames:\n",
    "        print(os.path.join(dirname, filename))\n",
    "\n",
    "# You can write up to 20GB to the current directory (/kaggle/working/) that gets preserved as output when you create a version using \"Save & Run All\" \n",
    "# You can also write temporary files to /kaggle/temp/, but they won't be saved outside of the current session"
   ]
  },
  {
   "cell_type": "markdown",
   "id": "496fa7d0",
   "metadata": {
    "papermill": {
     "duration": 0.004479,
     "end_time": "2025-02-01T01:20:18.358918",
     "exception": false,
     "start_time": "2025-02-01T01:20:18.354439",
     "status": "completed"
    },
    "tags": []
   },
   "source": [
    "Upload the csv and replace any NaN in the Embarked column with Unknown"
   ]
  },
  {
   "cell_type": "code",
   "execution_count": 2,
   "id": "59c272cf",
   "metadata": {
    "execution": {
     "iopub.execute_input": "2025-02-01T01:20:18.369478Z",
     "iopub.status.busy": "2025-02-01T01:20:18.369009Z",
     "iopub.status.idle": "2025-02-01T01:20:18.422096Z",
     "shell.execute_reply": "2025-02-01T01:20:18.421154Z"
    },
    "papermill": {
     "duration": 0.060209,
     "end_time": "2025-02-01T01:20:18.423742",
     "exception": false,
     "start_time": "2025-02-01T01:20:18.363533",
     "status": "completed"
    },
    "tags": []
   },
   "outputs": [
    {
     "data": {
      "text/html": [
       "<div>\n",
       "<style scoped>\n",
       "    .dataframe tbody tr th:only-of-type {\n",
       "        vertical-align: middle;\n",
       "    }\n",
       "\n",
       "    .dataframe tbody tr th {\n",
       "        vertical-align: top;\n",
       "    }\n",
       "\n",
       "    .dataframe thead th {\n",
       "        text-align: right;\n",
       "    }\n",
       "</style>\n",
       "<table border=\"1\" class=\"dataframe\">\n",
       "  <thead>\n",
       "    <tr style=\"text-align: right;\">\n",
       "      <th></th>\n",
       "      <th>PassengerId</th>\n",
       "      <th>Pclass</th>\n",
       "      <th>Name</th>\n",
       "      <th>Sex</th>\n",
       "      <th>Age</th>\n",
       "      <th>SibSp</th>\n",
       "      <th>Parch</th>\n",
       "      <th>Ticket</th>\n",
       "      <th>Fare</th>\n",
       "      <th>Cabin</th>\n",
       "      <th>Embarked</th>\n",
       "    </tr>\n",
       "  </thead>\n",
       "  <tbody>\n",
       "    <tr>\n",
       "      <th>0</th>\n",
       "      <td>892</td>\n",
       "      <td>3</td>\n",
       "      <td>Kelly, Mr. James</td>\n",
       "      <td>male</td>\n",
       "      <td>34.5</td>\n",
       "      <td>0</td>\n",
       "      <td>0</td>\n",
       "      <td>330911</td>\n",
       "      <td>7.8292</td>\n",
       "      <td>NaN</td>\n",
       "      <td>Q</td>\n",
       "    </tr>\n",
       "    <tr>\n",
       "      <th>1</th>\n",
       "      <td>893</td>\n",
       "      <td>3</td>\n",
       "      <td>Wilkes, Mrs. James (Ellen Needs)</td>\n",
       "      <td>female</td>\n",
       "      <td>47.0</td>\n",
       "      <td>1</td>\n",
       "      <td>0</td>\n",
       "      <td>363272</td>\n",
       "      <td>7.0000</td>\n",
       "      <td>NaN</td>\n",
       "      <td>S</td>\n",
       "    </tr>\n",
       "    <tr>\n",
       "      <th>2</th>\n",
       "      <td>894</td>\n",
       "      <td>2</td>\n",
       "      <td>Myles, Mr. Thomas Francis</td>\n",
       "      <td>male</td>\n",
       "      <td>62.0</td>\n",
       "      <td>0</td>\n",
       "      <td>0</td>\n",
       "      <td>240276</td>\n",
       "      <td>9.6875</td>\n",
       "      <td>NaN</td>\n",
       "      <td>Q</td>\n",
       "    </tr>\n",
       "    <tr>\n",
       "      <th>3</th>\n",
       "      <td>895</td>\n",
       "      <td>3</td>\n",
       "      <td>Wirz, Mr. Albert</td>\n",
       "      <td>male</td>\n",
       "      <td>27.0</td>\n",
       "      <td>0</td>\n",
       "      <td>0</td>\n",
       "      <td>315154</td>\n",
       "      <td>8.6625</td>\n",
       "      <td>NaN</td>\n",
       "      <td>S</td>\n",
       "    </tr>\n",
       "    <tr>\n",
       "      <th>4</th>\n",
       "      <td>896</td>\n",
       "      <td>3</td>\n",
       "      <td>Hirvonen, Mrs. Alexander (Helga E Lindqvist)</td>\n",
       "      <td>female</td>\n",
       "      <td>22.0</td>\n",
       "      <td>1</td>\n",
       "      <td>1</td>\n",
       "      <td>3101298</td>\n",
       "      <td>12.2875</td>\n",
       "      <td>NaN</td>\n",
       "      <td>S</td>\n",
       "    </tr>\n",
       "  </tbody>\n",
       "</table>\n",
       "</div>"
      ],
      "text/plain": [
       "   PassengerId  Pclass                                          Name     Sex  \\\n",
       "0          892       3                              Kelly, Mr. James    male   \n",
       "1          893       3              Wilkes, Mrs. James (Ellen Needs)  female   \n",
       "2          894       2                     Myles, Mr. Thomas Francis    male   \n",
       "3          895       3                              Wirz, Mr. Albert    male   \n",
       "4          896       3  Hirvonen, Mrs. Alexander (Helga E Lindqvist)  female   \n",
       "\n",
       "    Age  SibSp  Parch   Ticket     Fare Cabin Embarked  \n",
       "0  34.5      0      0   330911   7.8292   NaN        Q  \n",
       "1  47.0      1      0   363272   7.0000   NaN        S  \n",
       "2  62.0      0      0   240276   9.6875   NaN        Q  \n",
       "3  27.0      0      0   315154   8.6625   NaN        S  \n",
       "4  22.0      1      1  3101298  12.2875   NaN        S  "
      ]
     },
     "execution_count": 2,
     "metadata": {},
     "output_type": "execute_result"
    }
   ],
   "source": [
    "train_data = pd.read_csv(\"/kaggle/input/titanic/train.csv\")\n",
    "train_data['Embarked'] = train_data['Embarked'].fillna('Unknown')\n",
    "train_data.head()\n",
    "test_data = pd.read_csv(\"/kaggle/input/titanic/test.csv\")\n",
    "test_data.head()"
   ]
  },
  {
   "cell_type": "markdown",
   "id": "0f1d7869",
   "metadata": {
    "papermill": {
     "duration": 0.004549,
     "end_time": "2025-02-01T01:20:18.433534",
     "exception": false,
     "start_time": "2025-02-01T01:20:18.428985",
     "status": "completed"
    },
    "tags": []
   },
   "source": [
    "## Import One Hot Encoder in order to transform columns with categorical data like Embarked and Sex to quantitative data"
   ]
  },
  {
   "cell_type": "code",
   "execution_count": 3,
   "id": "e81441de",
   "metadata": {
    "execution": {
     "iopub.execute_input": "2025-02-01T01:20:18.444489Z",
     "iopub.status.busy": "2025-02-01T01:20:18.444119Z",
     "iopub.status.idle": "2025-02-01T01:20:18.473500Z",
     "shell.execute_reply": "2025-02-01T01:20:18.472491Z"
    },
    "papermill": {
     "duration": 0.037069,
     "end_time": "2025-02-01T01:20:18.475420",
     "exception": false,
     "start_time": "2025-02-01T01:20:18.438351",
     "status": "completed"
    },
    "tags": []
   },
   "outputs": [],
   "source": [
    "ohe = OneHotEncoder(handle_unknown = 'ignore',sparse_output = False).set_output(transform=\"pandas\")\n",
    "ohetransform = ohe.fit_transform(train_data[[\"Sex\"]])\n",
    "ohetransformtwo = ohe.fit_transform(train_data[[\"Embarked\"]])\n",
    "ohetransformthree = ohe.fit_transform(test_data[[\"Sex\"]])\n",
    "ohetransformfour = ohe.fit_transform(test_data[[\"Embarked\"]])\n",
    "train_data = pd.concat([train_data,ohetransformtwo],axis=1).drop(columns = [\"Embarked\"])\n",
    "train_data = pd.concat([train_data,ohetransform],axis=1).drop(columns= [\"Sex\"])\n",
    "test_data = pd.concat([test_data,ohetransformthree],axis=1).drop(columns = [\"Embarked\"])\n",
    "test_data = pd.concat([test_data,ohetransformfour],axis=1).drop(columns= [\"Sex\"])"
   ]
  },
  {
   "cell_type": "markdown",
   "id": "ede03ba6",
   "metadata": {
    "papermill": {
     "duration": 0.004559,
     "end_time": "2025-02-01T01:20:18.485081",
     "exception": false,
     "start_time": "2025-02-01T01:20:18.480522",
     "status": "completed"
    },
    "tags": []
   },
   "source": [
    "## For the missing values in Age and Fare, use the median to insert a value"
   ]
  },
  {
   "cell_type": "code",
   "execution_count": 4,
   "id": "a8c7318a",
   "metadata": {
    "execution": {
     "iopub.execute_input": "2025-02-01T01:20:18.496116Z",
     "iopub.status.busy": "2025-02-01T01:20:18.495748Z",
     "iopub.status.idle": "2025-02-01T01:20:18.510931Z",
     "shell.execute_reply": "2025-02-01T01:20:18.509944Z"
    },
    "papermill": {
     "duration": 0.022683,
     "end_time": "2025-02-01T01:20:18.512724",
     "exception": false,
     "start_time": "2025-02-01T01:20:18.490041",
     "status": "completed"
    },
    "tags": []
   },
   "outputs": [],
   "source": [
    "train_data['Age'] = train_data['Age'].fillna(train_data.groupby('Pclass')['Age'].transform('median'))\n",
    "test_data['Age'] = test_data['Age'].fillna(test_data.groupby('Pclass')['Age'].transform('median'))\n",
    "test_data['Fare'] = test_data['Fare'].fillna(test_data.groupby('Pclass')['Fare'].transform('median'))"
   ]
  },
  {
   "cell_type": "markdown",
   "id": "3b511fbb",
   "metadata": {
    "papermill": {
     "duration": 0.004696,
     "end_time": "2025-02-01T01:20:18.522508",
     "exception": false,
     "start_time": "2025-02-01T01:20:18.517812",
     "status": "completed"
    },
    "tags": []
   },
   "source": [
    "## Ensure that all columns are as wanted"
   ]
  },
  {
   "cell_type": "code",
   "execution_count": 5,
   "id": "21ecb622",
   "metadata": {
    "execution": {
     "iopub.execute_input": "2025-02-01T01:20:18.533452Z",
     "iopub.status.busy": "2025-02-01T01:20:18.533122Z",
     "iopub.status.idle": "2025-02-01T01:20:18.550886Z",
     "shell.execute_reply": "2025-02-01T01:20:18.550015Z"
    },
    "papermill": {
     "duration": 0.025078,
     "end_time": "2025-02-01T01:20:18.552477",
     "exception": false,
     "start_time": "2025-02-01T01:20:18.527399",
     "status": "completed"
    },
    "tags": []
   },
   "outputs": [
    {
     "data": {
      "text/html": [
       "<div>\n",
       "<style scoped>\n",
       "    .dataframe tbody tr th:only-of-type {\n",
       "        vertical-align: middle;\n",
       "    }\n",
       "\n",
       "    .dataframe tbody tr th {\n",
       "        vertical-align: top;\n",
       "    }\n",
       "\n",
       "    .dataframe thead th {\n",
       "        text-align: right;\n",
       "    }\n",
       "</style>\n",
       "<table border=\"1\" class=\"dataframe\">\n",
       "  <thead>\n",
       "    <tr style=\"text-align: right;\">\n",
       "      <th></th>\n",
       "      <th>PassengerId</th>\n",
       "      <th>Survived</th>\n",
       "      <th>Pclass</th>\n",
       "      <th>Name</th>\n",
       "      <th>Age</th>\n",
       "      <th>SibSp</th>\n",
       "      <th>Parch</th>\n",
       "      <th>Ticket</th>\n",
       "      <th>Fare</th>\n",
       "      <th>Cabin</th>\n",
       "      <th>Embarked_C</th>\n",
       "      <th>Embarked_Q</th>\n",
       "      <th>Embarked_S</th>\n",
       "      <th>Embarked_Unknown</th>\n",
       "      <th>Sex_female</th>\n",
       "      <th>Sex_male</th>\n",
       "    </tr>\n",
       "  </thead>\n",
       "  <tbody>\n",
       "    <tr>\n",
       "      <th>0</th>\n",
       "      <td>1</td>\n",
       "      <td>0</td>\n",
       "      <td>3</td>\n",
       "      <td>Braund, Mr. Owen Harris</td>\n",
       "      <td>22.0</td>\n",
       "      <td>1</td>\n",
       "      <td>0</td>\n",
       "      <td>A/5 21171</td>\n",
       "      <td>7.2500</td>\n",
       "      <td>NaN</td>\n",
       "      <td>0.0</td>\n",
       "      <td>0.0</td>\n",
       "      <td>1.0</td>\n",
       "      <td>0.0</td>\n",
       "      <td>0.0</td>\n",
       "      <td>1.0</td>\n",
       "    </tr>\n",
       "    <tr>\n",
       "      <th>1</th>\n",
       "      <td>2</td>\n",
       "      <td>1</td>\n",
       "      <td>1</td>\n",
       "      <td>Cumings, Mrs. John Bradley (Florence Briggs Th...</td>\n",
       "      <td>38.0</td>\n",
       "      <td>1</td>\n",
       "      <td>0</td>\n",
       "      <td>PC 17599</td>\n",
       "      <td>71.2833</td>\n",
       "      <td>C85</td>\n",
       "      <td>1.0</td>\n",
       "      <td>0.0</td>\n",
       "      <td>0.0</td>\n",
       "      <td>0.0</td>\n",
       "      <td>1.0</td>\n",
       "      <td>0.0</td>\n",
       "    </tr>\n",
       "    <tr>\n",
       "      <th>2</th>\n",
       "      <td>3</td>\n",
       "      <td>1</td>\n",
       "      <td>3</td>\n",
       "      <td>Heikkinen, Miss. Laina</td>\n",
       "      <td>26.0</td>\n",
       "      <td>0</td>\n",
       "      <td>0</td>\n",
       "      <td>STON/O2. 3101282</td>\n",
       "      <td>7.9250</td>\n",
       "      <td>NaN</td>\n",
       "      <td>0.0</td>\n",
       "      <td>0.0</td>\n",
       "      <td>1.0</td>\n",
       "      <td>0.0</td>\n",
       "      <td>1.0</td>\n",
       "      <td>0.0</td>\n",
       "    </tr>\n",
       "    <tr>\n",
       "      <th>3</th>\n",
       "      <td>4</td>\n",
       "      <td>1</td>\n",
       "      <td>1</td>\n",
       "      <td>Futrelle, Mrs. Jacques Heath (Lily May Peel)</td>\n",
       "      <td>35.0</td>\n",
       "      <td>1</td>\n",
       "      <td>0</td>\n",
       "      <td>113803</td>\n",
       "      <td>53.1000</td>\n",
       "      <td>C123</td>\n",
       "      <td>0.0</td>\n",
       "      <td>0.0</td>\n",
       "      <td>1.0</td>\n",
       "      <td>0.0</td>\n",
       "      <td>1.0</td>\n",
       "      <td>0.0</td>\n",
       "    </tr>\n",
       "    <tr>\n",
       "      <th>4</th>\n",
       "      <td>5</td>\n",
       "      <td>0</td>\n",
       "      <td>3</td>\n",
       "      <td>Allen, Mr. William Henry</td>\n",
       "      <td>35.0</td>\n",
       "      <td>0</td>\n",
       "      <td>0</td>\n",
       "      <td>373450</td>\n",
       "      <td>8.0500</td>\n",
       "      <td>NaN</td>\n",
       "      <td>0.0</td>\n",
       "      <td>0.0</td>\n",
       "      <td>1.0</td>\n",
       "      <td>0.0</td>\n",
       "      <td>0.0</td>\n",
       "      <td>1.0</td>\n",
       "    </tr>\n",
       "  </tbody>\n",
       "</table>\n",
       "</div>"
      ],
      "text/plain": [
       "   PassengerId  Survived  Pclass  \\\n",
       "0            1         0       3   \n",
       "1            2         1       1   \n",
       "2            3         1       3   \n",
       "3            4         1       1   \n",
       "4            5         0       3   \n",
       "\n",
       "                                                Name   Age  SibSp  Parch  \\\n",
       "0                            Braund, Mr. Owen Harris  22.0      1      0   \n",
       "1  Cumings, Mrs. John Bradley (Florence Briggs Th...  38.0      1      0   \n",
       "2                             Heikkinen, Miss. Laina  26.0      0      0   \n",
       "3       Futrelle, Mrs. Jacques Heath (Lily May Peel)  35.0      1      0   \n",
       "4                           Allen, Mr. William Henry  35.0      0      0   \n",
       "\n",
       "             Ticket     Fare Cabin  Embarked_C  Embarked_Q  Embarked_S  \\\n",
       "0         A/5 21171   7.2500   NaN         0.0         0.0         1.0   \n",
       "1          PC 17599  71.2833   C85         1.0         0.0         0.0   \n",
       "2  STON/O2. 3101282   7.9250   NaN         0.0         0.0         1.0   \n",
       "3            113803  53.1000  C123         0.0         0.0         1.0   \n",
       "4            373450   8.0500   NaN         0.0         0.0         1.0   \n",
       "\n",
       "   Embarked_Unknown  Sex_female  Sex_male  \n",
       "0               0.0         0.0       1.0  \n",
       "1               0.0         1.0       0.0  \n",
       "2               0.0         1.0       0.0  \n",
       "3               0.0         1.0       0.0  \n",
       "4               0.0         0.0       1.0  "
      ]
     },
     "execution_count": 5,
     "metadata": {},
     "output_type": "execute_result"
    }
   ],
   "source": [
    "train_data.head()"
   ]
  },
  {
   "cell_type": "code",
   "execution_count": 6,
   "id": "2e644872",
   "metadata": {
    "execution": {
     "iopub.execute_input": "2025-02-01T01:20:18.564675Z",
     "iopub.status.busy": "2025-02-01T01:20:18.564295Z",
     "iopub.status.idle": "2025-02-01T01:20:18.582147Z",
     "shell.execute_reply": "2025-02-01T01:20:18.581177Z"
    },
    "papermill": {
     "duration": 0.025772,
     "end_time": "2025-02-01T01:20:18.583877",
     "exception": false,
     "start_time": "2025-02-01T01:20:18.558105",
     "status": "completed"
    },
    "tags": []
   },
   "outputs": [
    {
     "data": {
      "text/html": [
       "<div>\n",
       "<style scoped>\n",
       "    .dataframe tbody tr th:only-of-type {\n",
       "        vertical-align: middle;\n",
       "    }\n",
       "\n",
       "    .dataframe tbody tr th {\n",
       "        vertical-align: top;\n",
       "    }\n",
       "\n",
       "    .dataframe thead th {\n",
       "        text-align: right;\n",
       "    }\n",
       "</style>\n",
       "<table border=\"1\" class=\"dataframe\">\n",
       "  <thead>\n",
       "    <tr style=\"text-align: right;\">\n",
       "      <th></th>\n",
       "      <th>PassengerId</th>\n",
       "      <th>Pclass</th>\n",
       "      <th>Name</th>\n",
       "      <th>Age</th>\n",
       "      <th>SibSp</th>\n",
       "      <th>Parch</th>\n",
       "      <th>Ticket</th>\n",
       "      <th>Fare</th>\n",
       "      <th>Cabin</th>\n",
       "      <th>Sex_female</th>\n",
       "      <th>Sex_male</th>\n",
       "      <th>Embarked_C</th>\n",
       "      <th>Embarked_Q</th>\n",
       "      <th>Embarked_S</th>\n",
       "    </tr>\n",
       "  </thead>\n",
       "  <tbody>\n",
       "    <tr>\n",
       "      <th>0</th>\n",
       "      <td>892</td>\n",
       "      <td>3</td>\n",
       "      <td>Kelly, Mr. James</td>\n",
       "      <td>34.5</td>\n",
       "      <td>0</td>\n",
       "      <td>0</td>\n",
       "      <td>330911</td>\n",
       "      <td>7.8292</td>\n",
       "      <td>NaN</td>\n",
       "      <td>0.0</td>\n",
       "      <td>1.0</td>\n",
       "      <td>0.0</td>\n",
       "      <td>1.0</td>\n",
       "      <td>0.0</td>\n",
       "    </tr>\n",
       "    <tr>\n",
       "      <th>1</th>\n",
       "      <td>893</td>\n",
       "      <td>3</td>\n",
       "      <td>Wilkes, Mrs. James (Ellen Needs)</td>\n",
       "      <td>47.0</td>\n",
       "      <td>1</td>\n",
       "      <td>0</td>\n",
       "      <td>363272</td>\n",
       "      <td>7.0000</td>\n",
       "      <td>NaN</td>\n",
       "      <td>1.0</td>\n",
       "      <td>0.0</td>\n",
       "      <td>0.0</td>\n",
       "      <td>0.0</td>\n",
       "      <td>1.0</td>\n",
       "    </tr>\n",
       "    <tr>\n",
       "      <th>2</th>\n",
       "      <td>894</td>\n",
       "      <td>2</td>\n",
       "      <td>Myles, Mr. Thomas Francis</td>\n",
       "      <td>62.0</td>\n",
       "      <td>0</td>\n",
       "      <td>0</td>\n",
       "      <td>240276</td>\n",
       "      <td>9.6875</td>\n",
       "      <td>NaN</td>\n",
       "      <td>0.0</td>\n",
       "      <td>1.0</td>\n",
       "      <td>0.0</td>\n",
       "      <td>1.0</td>\n",
       "      <td>0.0</td>\n",
       "    </tr>\n",
       "    <tr>\n",
       "      <th>3</th>\n",
       "      <td>895</td>\n",
       "      <td>3</td>\n",
       "      <td>Wirz, Mr. Albert</td>\n",
       "      <td>27.0</td>\n",
       "      <td>0</td>\n",
       "      <td>0</td>\n",
       "      <td>315154</td>\n",
       "      <td>8.6625</td>\n",
       "      <td>NaN</td>\n",
       "      <td>0.0</td>\n",
       "      <td>1.0</td>\n",
       "      <td>0.0</td>\n",
       "      <td>0.0</td>\n",
       "      <td>1.0</td>\n",
       "    </tr>\n",
       "    <tr>\n",
       "      <th>4</th>\n",
       "      <td>896</td>\n",
       "      <td>3</td>\n",
       "      <td>Hirvonen, Mrs. Alexander (Helga E Lindqvist)</td>\n",
       "      <td>22.0</td>\n",
       "      <td>1</td>\n",
       "      <td>1</td>\n",
       "      <td>3101298</td>\n",
       "      <td>12.2875</td>\n",
       "      <td>NaN</td>\n",
       "      <td>1.0</td>\n",
       "      <td>0.0</td>\n",
       "      <td>0.0</td>\n",
       "      <td>0.0</td>\n",
       "      <td>1.0</td>\n",
       "    </tr>\n",
       "  </tbody>\n",
       "</table>\n",
       "</div>"
      ],
      "text/plain": [
       "   PassengerId  Pclass                                          Name   Age  \\\n",
       "0          892       3                              Kelly, Mr. James  34.5   \n",
       "1          893       3              Wilkes, Mrs. James (Ellen Needs)  47.0   \n",
       "2          894       2                     Myles, Mr. Thomas Francis  62.0   \n",
       "3          895       3                              Wirz, Mr. Albert  27.0   \n",
       "4          896       3  Hirvonen, Mrs. Alexander (Helga E Lindqvist)  22.0   \n",
       "\n",
       "   SibSp  Parch   Ticket     Fare Cabin  Sex_female  Sex_male  Embarked_C  \\\n",
       "0      0      0   330911   7.8292   NaN         0.0       1.0         0.0   \n",
       "1      1      0   363272   7.0000   NaN         1.0       0.0         0.0   \n",
       "2      0      0   240276   9.6875   NaN         0.0       1.0         0.0   \n",
       "3      0      0   315154   8.6625   NaN         0.0       1.0         0.0   \n",
       "4      1      1  3101298  12.2875   NaN         1.0       0.0         0.0   \n",
       "\n",
       "   Embarked_Q  Embarked_S  \n",
       "0         1.0         0.0  \n",
       "1         0.0         1.0  \n",
       "2         1.0         0.0  \n",
       "3         0.0         1.0  \n",
       "4         0.0         1.0  "
      ]
     },
     "execution_count": 6,
     "metadata": {},
     "output_type": "execute_result"
    }
   ],
   "source": [
    "test_data.head()"
   ]
  },
  {
   "cell_type": "markdown",
   "id": "47b9a60f",
   "metadata": {
    "papermill": {
     "duration": 0.00499,
     "end_time": "2025-02-01T01:20:18.594386",
     "exception": false,
     "start_time": "2025-02-01T01:20:18.589396",
     "status": "completed"
    },
    "tags": []
   },
   "source": [
    "## Preprocess data in order to train model, split into 2 sections"
   ]
  },
  {
   "cell_type": "code",
   "execution_count": 7,
   "id": "3c5a3188",
   "metadata": {
    "execution": {
     "iopub.execute_input": "2025-02-01T01:20:18.606485Z",
     "iopub.status.busy": "2025-02-01T01:20:18.606125Z",
     "iopub.status.idle": "2025-02-01T01:20:18.613820Z",
     "shell.execute_reply": "2025-02-01T01:20:18.612959Z"
    },
    "papermill": {
     "duration": 0.015802,
     "end_time": "2025-02-01T01:20:18.615613",
     "exception": false,
     "start_time": "2025-02-01T01:20:18.599811",
     "status": "completed"
    },
    "tags": []
   },
   "outputs": [],
   "source": [
    "Y = train_data.Survived\n",
    "feature_names = [\"Pclass\",\"Sex_female\",\"Sex_male\",\"Age\",\"SibSp\",\"Parch\",\"Fare\",\"Embarked_C\",\"Embarked_Q\",\"Embarked_S\"]\n",
    "X = train_data[feature_names]\n",
    "train_X, val_X, train_y, val_y = train_test_split(X,Y)"
   ]
  },
  {
   "cell_type": "code",
   "execution_count": 8,
   "id": "a007d271",
   "metadata": {
    "execution": {
     "iopub.execute_input": "2025-02-01T01:20:18.628184Z",
     "iopub.status.busy": "2025-02-01T01:20:18.627797Z",
     "iopub.status.idle": "2025-02-01T01:20:18.662507Z",
     "shell.execute_reply": "2025-02-01T01:20:18.661424Z"
    },
    "papermill": {
     "duration": 0.043013,
     "end_time": "2025-02-01T01:20:18.664270",
     "exception": false,
     "start_time": "2025-02-01T01:20:18.621257",
     "status": "completed"
    },
    "tags": []
   },
   "outputs": [
    {
     "name": "stdout",
     "output_type": "stream",
     "text": [
      "           Pclass  Sex_female    Sex_male         Age       SibSp       Parch  \\\n",
      "count  891.000000  891.000000  891.000000  891.000000  891.000000  891.000000   \n",
      "mean     2.308642    0.352413    0.647587   29.066409    0.523008    0.381594   \n",
      "std      0.836071    0.477990    0.477990   13.244532    1.102743    0.806057   \n",
      "min      1.000000    0.000000    0.000000    0.420000    0.000000    0.000000   \n",
      "25%      2.000000    0.000000    0.000000   22.000000    0.000000    0.000000   \n",
      "50%      3.000000    0.000000    1.000000   26.000000    0.000000    0.000000   \n",
      "75%      3.000000    1.000000    1.000000   37.000000    1.000000    0.000000   \n",
      "max      3.000000    1.000000    1.000000   80.000000    8.000000    6.000000   \n",
      "\n",
      "             Fare  Embarked_C  Embarked_Q  Embarked_S  \n",
      "count  891.000000  891.000000  891.000000  891.000000  \n",
      "mean    32.204208    0.188552    0.086420    0.722783  \n",
      "std     49.693429    0.391372    0.281141    0.447876  \n",
      "min      0.000000    0.000000    0.000000    0.000000  \n",
      "25%      7.910400    0.000000    0.000000    0.000000  \n",
      "50%     14.454200    0.000000    0.000000    1.000000  \n",
      "75%     31.000000    0.000000    0.000000    1.000000  \n",
      "max    512.329200    1.000000    1.000000    1.000000  \n",
      "   Pclass  Sex_female  Sex_male   Age  SibSp  Parch     Fare  Embarked_C  \\\n",
      "0       3         0.0       1.0  22.0      1      0   7.2500         0.0   \n",
      "1       1         1.0       0.0  38.0      1      0  71.2833         1.0   \n",
      "2       3         1.0       0.0  26.0      0      0   7.9250         0.0   \n",
      "3       1         1.0       0.0  35.0      1      0  53.1000         0.0   \n",
      "4       3         0.0       1.0  35.0      0      0   8.0500         0.0   \n",
      "\n",
      "   Embarked_Q  Embarked_S  \n",
      "0         0.0         1.0  \n",
      "1         0.0         0.0  \n",
      "2         0.0         1.0  \n",
      "3         0.0         1.0  \n",
      "4         0.0         1.0  \n"
     ]
    }
   ],
   "source": [
    "print(X.describe())\n",
    "print(X.head())"
   ]
  },
  {
   "cell_type": "markdown",
   "id": "3757964f",
   "metadata": {
    "papermill": {
     "duration": 0.005488,
     "end_time": "2025-02-01T01:20:18.675736",
     "exception": false,
     "start_time": "2025-02-01T01:20:18.670248",
     "status": "completed"
    },
    "tags": []
   },
   "source": [
    "## Ensure no columns are empty"
   ]
  },
  {
   "cell_type": "code",
   "execution_count": 9,
   "id": "04b00d3b",
   "metadata": {
    "execution": {
     "iopub.execute_input": "2025-02-01T01:20:18.687754Z",
     "iopub.status.busy": "2025-02-01T01:20:18.687365Z",
     "iopub.status.idle": "2025-02-01T01:20:18.694257Z",
     "shell.execute_reply": "2025-02-01T01:20:18.693166Z"
    },
    "papermill": {
     "duration": 0.01469,
     "end_time": "2025-02-01T01:20:18.695889",
     "exception": false,
     "start_time": "2025-02-01T01:20:18.681199",
     "status": "completed"
    },
    "tags": []
   },
   "outputs": [
    {
     "name": "stdout",
     "output_type": "stream",
     "text": [
      "Pclass        0\n",
      "Sex_female    0\n",
      "Sex_male      0\n",
      "Age           0\n",
      "SibSp         0\n",
      "Parch         0\n",
      "Fare          0\n",
      "Embarked_C    0\n",
      "Embarked_Q    0\n",
      "Embarked_S    0\n",
      "dtype: int64\n"
     ]
    }
   ],
   "source": [
    "#titanic_model.fit(X,Y)\n",
    "print(X.isna().sum())"
   ]
  },
  {
   "cell_type": "code",
   "execution_count": 10,
   "id": "3f05c170",
   "metadata": {
    "execution": {
     "iopub.execute_input": "2025-02-01T01:20:18.708146Z",
     "iopub.status.busy": "2025-02-01T01:20:18.707784Z",
     "iopub.status.idle": "2025-02-01T01:20:18.715829Z",
     "shell.execute_reply": "2025-02-01T01:20:18.714837Z"
    },
    "papermill": {
     "duration": 0.016048,
     "end_time": "2025-02-01T01:20:18.717475",
     "exception": false,
     "start_time": "2025-02-01T01:20:18.701427",
     "status": "completed"
    },
    "tags": []
   },
   "outputs": [
    {
     "name": "stdout",
     "output_type": "stream",
     "text": [
      "Pclass        0\n",
      "Sex_female    0\n",
      "Sex_male      0\n",
      "Age           0\n",
      "SibSp         0\n",
      "Parch         0\n",
      "Fare          0\n",
      "Embarked_C    0\n",
      "Embarked_Q    0\n",
      "Embarked_S    0\n",
      "dtype: int64\n"
     ]
    }
   ],
   "source": [
    "print(test_data[feature_names].isna().sum())"
   ]
  },
  {
   "cell_type": "code",
   "execution_count": 11,
   "id": "7a557a72",
   "metadata": {
    "execution": {
     "iopub.execute_input": "2025-02-01T01:20:18.730079Z",
     "iopub.status.busy": "2025-02-01T01:20:18.729742Z",
     "iopub.status.idle": "2025-02-01T01:20:18.748790Z",
     "shell.execute_reply": "2025-02-01T01:20:18.747922Z"
    },
    "papermill": {
     "duration": 0.026961,
     "end_time": "2025-02-01T01:20:18.750318",
     "exception": false,
     "start_time": "2025-02-01T01:20:18.723357",
     "status": "completed"
    },
    "tags": []
   },
   "outputs": [
    {
     "data": {
      "text/html": [
       "<div>\n",
       "<style scoped>\n",
       "    .dataframe tbody tr th:only-of-type {\n",
       "        vertical-align: middle;\n",
       "    }\n",
       "\n",
       "    .dataframe tbody tr th {\n",
       "        vertical-align: top;\n",
       "    }\n",
       "\n",
       "    .dataframe thead th {\n",
       "        text-align: right;\n",
       "    }\n",
       "</style>\n",
       "<table border=\"1\" class=\"dataframe\">\n",
       "  <thead>\n",
       "    <tr style=\"text-align: right;\">\n",
       "      <th></th>\n",
       "      <th>PassengerId</th>\n",
       "      <th>Survived</th>\n",
       "      <th>Pclass</th>\n",
       "      <th>Name</th>\n",
       "      <th>Age</th>\n",
       "      <th>SibSp</th>\n",
       "      <th>Parch</th>\n",
       "      <th>Ticket</th>\n",
       "      <th>Fare</th>\n",
       "      <th>Cabin</th>\n",
       "      <th>Embarked_C</th>\n",
       "      <th>Embarked_Q</th>\n",
       "      <th>Embarked_S</th>\n",
       "      <th>Embarked_Unknown</th>\n",
       "      <th>Sex_female</th>\n",
       "      <th>Sex_male</th>\n",
       "    </tr>\n",
       "  </thead>\n",
       "  <tbody>\n",
       "    <tr>\n",
       "      <th>0</th>\n",
       "      <td>1</td>\n",
       "      <td>0</td>\n",
       "      <td>3</td>\n",
       "      <td>Braund, Mr. Owen Harris</td>\n",
       "      <td>22.0</td>\n",
       "      <td>1</td>\n",
       "      <td>0</td>\n",
       "      <td>A/5 21171</td>\n",
       "      <td>7.2500</td>\n",
       "      <td>NaN</td>\n",
       "      <td>0.0</td>\n",
       "      <td>0.0</td>\n",
       "      <td>1.0</td>\n",
       "      <td>0.0</td>\n",
       "      <td>0.0</td>\n",
       "      <td>1.0</td>\n",
       "    </tr>\n",
       "    <tr>\n",
       "      <th>1</th>\n",
       "      <td>2</td>\n",
       "      <td>1</td>\n",
       "      <td>1</td>\n",
       "      <td>Cumings, Mrs. John Bradley (Florence Briggs Th...</td>\n",
       "      <td>38.0</td>\n",
       "      <td>1</td>\n",
       "      <td>0</td>\n",
       "      <td>PC 17599</td>\n",
       "      <td>71.2833</td>\n",
       "      <td>C85</td>\n",
       "      <td>1.0</td>\n",
       "      <td>0.0</td>\n",
       "      <td>0.0</td>\n",
       "      <td>0.0</td>\n",
       "      <td>1.0</td>\n",
       "      <td>0.0</td>\n",
       "    </tr>\n",
       "    <tr>\n",
       "      <th>2</th>\n",
       "      <td>3</td>\n",
       "      <td>1</td>\n",
       "      <td>3</td>\n",
       "      <td>Heikkinen, Miss. Laina</td>\n",
       "      <td>26.0</td>\n",
       "      <td>0</td>\n",
       "      <td>0</td>\n",
       "      <td>STON/O2. 3101282</td>\n",
       "      <td>7.9250</td>\n",
       "      <td>NaN</td>\n",
       "      <td>0.0</td>\n",
       "      <td>0.0</td>\n",
       "      <td>1.0</td>\n",
       "      <td>0.0</td>\n",
       "      <td>1.0</td>\n",
       "      <td>0.0</td>\n",
       "    </tr>\n",
       "    <tr>\n",
       "      <th>3</th>\n",
       "      <td>4</td>\n",
       "      <td>1</td>\n",
       "      <td>1</td>\n",
       "      <td>Futrelle, Mrs. Jacques Heath (Lily May Peel)</td>\n",
       "      <td>35.0</td>\n",
       "      <td>1</td>\n",
       "      <td>0</td>\n",
       "      <td>113803</td>\n",
       "      <td>53.1000</td>\n",
       "      <td>C123</td>\n",
       "      <td>0.0</td>\n",
       "      <td>0.0</td>\n",
       "      <td>1.0</td>\n",
       "      <td>0.0</td>\n",
       "      <td>1.0</td>\n",
       "      <td>0.0</td>\n",
       "    </tr>\n",
       "    <tr>\n",
       "      <th>4</th>\n",
       "      <td>5</td>\n",
       "      <td>0</td>\n",
       "      <td>3</td>\n",
       "      <td>Allen, Mr. William Henry</td>\n",
       "      <td>35.0</td>\n",
       "      <td>0</td>\n",
       "      <td>0</td>\n",
       "      <td>373450</td>\n",
       "      <td>8.0500</td>\n",
       "      <td>NaN</td>\n",
       "      <td>0.0</td>\n",
       "      <td>0.0</td>\n",
       "      <td>1.0</td>\n",
       "      <td>0.0</td>\n",
       "      <td>0.0</td>\n",
       "      <td>1.0</td>\n",
       "    </tr>\n",
       "  </tbody>\n",
       "</table>\n",
       "</div>"
      ],
      "text/plain": [
       "   PassengerId  Survived  Pclass  \\\n",
       "0            1         0       3   \n",
       "1            2         1       1   \n",
       "2            3         1       3   \n",
       "3            4         1       1   \n",
       "4            5         0       3   \n",
       "\n",
       "                                                Name   Age  SibSp  Parch  \\\n",
       "0                            Braund, Mr. Owen Harris  22.0      1      0   \n",
       "1  Cumings, Mrs. John Bradley (Florence Briggs Th...  38.0      1      0   \n",
       "2                             Heikkinen, Miss. Laina  26.0      0      0   \n",
       "3       Futrelle, Mrs. Jacques Heath (Lily May Peel)  35.0      1      0   \n",
       "4                           Allen, Mr. William Henry  35.0      0      0   \n",
       "\n",
       "             Ticket     Fare Cabin  Embarked_C  Embarked_Q  Embarked_S  \\\n",
       "0         A/5 21171   7.2500   NaN         0.0         0.0         1.0   \n",
       "1          PC 17599  71.2833   C85         1.0         0.0         0.0   \n",
       "2  STON/O2. 3101282   7.9250   NaN         0.0         0.0         1.0   \n",
       "3            113803  53.1000  C123         0.0         0.0         1.0   \n",
       "4            373450   8.0500   NaN         0.0         0.0         1.0   \n",
       "\n",
       "   Embarked_Unknown  Sex_female  Sex_male  \n",
       "0               0.0         0.0       1.0  \n",
       "1               0.0         1.0       0.0  \n",
       "2               0.0         1.0       0.0  \n",
       "3               0.0         1.0       0.0  \n",
       "4               0.0         0.0       1.0  "
      ]
     },
     "execution_count": 11,
     "metadata": {},
     "output_type": "execute_result"
    }
   ],
   "source": [
    "train_data.head()\n",
    "train_data.dropna(axis=1)\n",
    "train_data.head()"
   ]
  },
  {
   "cell_type": "markdown",
   "id": "232d368e",
   "metadata": {
    "papermill": {
     "duration": 0.005675,
     "end_time": "2025-02-01T01:20:18.761941",
     "exception": false,
     "start_time": "2025-02-01T01:20:18.756266",
     "status": "completed"
    },
    "tags": []
   },
   "source": []
  },
  {
   "cell_type": "markdown",
   "id": "3b72c3e3",
   "metadata": {
    "papermill": {
     "duration": 0.005519,
     "end_time": "2025-02-01T01:20:18.773189",
     "exception": false,
     "start_time": "2025-02-01T01:20:18.767670",
     "status": "completed"
    },
    "tags": []
   },
   "source": [
    "## Feature engineer the max_leaf_nodes sizes of a DecisionTreeClassifier and a RandomForestClassifier model to see which is the lowest"
   ]
  },
  {
   "cell_type": "code",
   "execution_count": 12,
   "id": "6610ce0c",
   "metadata": {
    "execution": {
     "iopub.execute_input": "2025-02-01T01:20:18.786069Z",
     "iopub.status.busy": "2025-02-01T01:20:18.785708Z",
     "iopub.status.idle": "2025-02-01T01:20:37.620780Z",
     "shell.execute_reply": "2025-02-01T01:20:37.619655Z"
    },
    "papermill": {
     "duration": 18.8436,
     "end_time": "2025-02-01T01:20:37.622594",
     "exception": false,
     "start_time": "2025-02-01T01:20:18.778994",
     "status": "completed"
    },
    "tags": []
   },
   "outputs": [
    {
     "name": "stdout",
     "output_type": "stream",
     "text": [
      "0.21973094170403587 the number is:  2\n",
      "0.21973094170403587 the number is:  3\n",
      "0.2242152466367713 the number is:  4\n",
      "0.20179372197309417 the number is:  5\n",
      "0.17937219730941703 the number is:  6\n",
      "0.17937219730941703 the number is:  7\n",
      "0.17488789237668162 the number is:  8\n",
      "0.17488789237668162 the number is:  9\n",
      "0.17488789237668162 the number is:  10\n",
      "0.17488789237668162 the number is:  11\n",
      "0.16591928251121077 the number is:  12\n",
      "0.16591928251121077 the number is:  13\n",
      "0.17040358744394618 the number is:  14\n",
      "0.17040358744394618 the number is:  15\n",
      "0.17040358744394618 the number is:  16\n",
      "0.17040358744394618 the number is:  17\n",
      "0.16591928251121077 the number is:  18\n",
      "0.16591928251121077 the number is:  19\n",
      "0.16591928251121077 the number is:  20\n",
      "0.17040358744394618 the number is:  21\n",
      "0.16591928251121077 the number is:  22\n",
      "0.16591928251121077 the number is:  23\n",
      "0.16591928251121077 the number is:  24\n",
      "0.17040358744394618 the number is:  25\n",
      "0.17040358744394618 the number is:  26\n",
      "0.17488789237668162 the number is:  27\n",
      "0.17488789237668162 the number is:  28\n",
      "0.18385650224215247 the number is:  29\n",
      "0.17488789237668162 the number is:  30\n",
      "0.17488789237668162 the number is:  31\n",
      "0.17488789237668162 the number is:  32\n",
      "0.17488789237668162 the number is:  33\n",
      "0.16143497757847533 the number is:  34\n",
      "0.17488789237668162 the number is:  35\n",
      "0.16143497757847533 the number is:  36\n",
      "0.16591928251121077 the number is:  37\n",
      "0.16591928251121077 the number is:  38\n",
      "0.17488789237668162 the number is:  39\n",
      "0.17488789237668162 the number is:  40\n",
      "0.17488789237668162 the number is:  41\n",
      "0.17488789237668162 the number is:  42\n",
      "0.17488789237668162 the number is:  43\n",
      "0.18834080717488788 the number is:  44\n",
      "0.17488789237668162 the number is:  45\n",
      "0.17488789237668162 the number is:  46\n",
      "0.17937219730941703 the number is:  47\n",
      "0.17937219730941703 the number is:  48\n",
      "0.17937219730941703 the number is:  49\n",
      "0.17937219730941703 the number is:  50\n",
      "0.18834080717488788 the number is:  51\n",
      "0.18834080717488788 the number is:  52\n",
      "0.18834080717488788 the number is:  53\n",
      "0.18834080717488788 the number is:  54\n",
      "0.18834080717488788 the number is:  55\n",
      "0.18834080717488788 the number is:  56\n",
      "0.18834080717488788 the number is:  57\n",
      "0.18834080717488788 the number is:  58\n",
      "0.18834080717488788 the number is:  59\n",
      "0.18834080717488788 the number is:  60\n",
      "0.18834080717488788 the number is:  61\n",
      "0.18834080717488788 the number is:  62\n",
      "0.18834080717488788 the number is:  63\n",
      "0.18834080717488788 the number is:  64\n",
      "0.18834080717488788 the number is:  65\n",
      "0.18834080717488788 the number is:  66\n",
      "0.18834080717488788 the number is:  67\n",
      "0.18834080717488788 the number is:  68\n",
      "0.18834080717488788 the number is:  69\n",
      "0.19282511210762332 the number is:  70\n",
      "0.19282511210762332 the number is:  71\n",
      "0.19282511210762332 the number is:  72\n",
      "0.18834080717488788 the number is:  73\n",
      "0.18834080717488788 the number is:  74\n",
      "0.18834080717488788 the number is:  75\n",
      "0.18834080717488788 the number is:  76\n",
      "0.18834080717488788 the number is:  77\n",
      "0.18385650224215247 the number is:  78\n",
      "0.18385650224215247 the number is:  79\n",
      "0.18834080717488788 the number is:  80\n",
      "0.19730941704035873 the number is:  81\n",
      "0.18834080717488788 the number is:  82\n",
      "0.19730941704035873 the number is:  83\n",
      "0.19282511210762332 the number is:  84\n",
      "0.19282511210762332 the number is:  85\n",
      "0.19282511210762332 the number is:  86\n",
      "0.19282511210762332 the number is:  87\n",
      "0.19282511210762332 the number is:  88\n",
      "0.18834080717488788 the number is:  89\n",
      "0.18834080717488788 the number is:  90\n",
      "0.18834080717488788 the number is:  91\n",
      "0.18834080717488788 the number is:  92\n",
      "0.18834080717488788 the number is:  93\n",
      "0.18385650224215247 the number is:  94\n",
      "0.18385650224215247 the number is:  95\n",
      "0.18385650224215247 the number is:  96\n",
      "0.18385650224215247 the number is:  97\n",
      "0.18385650224215247 the number is:  98\n",
      "0.18385650224215247 the number is:  99\n",
      "0.18385650224215247 the number is:  100\n",
      "0.18385650224215247 the number is:  101\n",
      "0.16143497757847533 at index: 32\n",
      "0.21973094170403587 the number is:  2\n",
      "0.21973094170403587 the number is:  3\n",
      "0.21076233183856502 the number is:  4\n",
      "0.20179372197309417 the number is:  5\n",
      "0.19730941704035873 the number is:  6\n",
      "0.20179372197309417 the number is:  7\n",
      "0.18834080717488788 the number is:  8\n",
      "0.18834080717488788 the number is:  9\n",
      "0.18834080717488788 the number is:  10\n",
      "0.18385650224215247 the number is:  11\n",
      "0.18385650224215247 the number is:  12\n",
      "0.17937219730941703 the number is:  13\n",
      "0.17937219730941703 the number is:  14\n",
      "0.17488789237668162 the number is:  15\n",
      "0.17488789237668162 the number is:  16\n",
      "0.17488789237668162 the number is:  17\n",
      "0.17040358744394618 the number is:  18\n",
      "0.17040358744394618 the number is:  19\n",
      "0.16591928251121077 the number is:  20\n",
      "0.16591928251121077 the number is:  21\n",
      "0.16591928251121077 the number is:  22\n",
      "0.16591928251121077 the number is:  23\n",
      "0.16591928251121077 the number is:  24\n",
      "0.16143497757847533 the number is:  25\n",
      "0.16591928251121077 the number is:  26\n",
      "0.16591928251121077 the number is:  27\n",
      "0.16591928251121077 the number is:  28\n",
      "0.15695067264573992 the number is:  29\n",
      "0.15695067264573992 the number is:  30\n",
      "0.16143497757847533 the number is:  31\n",
      "0.15695067264573992 the number is:  32\n",
      "0.16591928251121077 the number is:  33\n",
      "0.15695067264573992 the number is:  34\n",
      "0.15695067264573992 the number is:  35\n",
      "0.14798206278026907 the number is:  36\n",
      "0.14798206278026907 the number is:  37\n",
      "0.15246636771300448 the number is:  38\n",
      "0.15695067264573992 the number is:  39\n",
      "0.15246636771300448 the number is:  40\n",
      "0.16143497757847533 the number is:  41\n",
      "0.16143497757847533 the number is:  42\n",
      "0.16143497757847533 the number is:  43\n",
      "0.16143497757847533 the number is:  44\n",
      "0.15695067264573992 the number is:  45\n",
      "0.16143497757847533 the number is:  46\n",
      "0.16143497757847533 the number is:  47\n",
      "0.16143497757847533 the number is:  48\n",
      "0.16143497757847533 the number is:  49\n",
      "0.16143497757847533 the number is:  50\n",
      "0.15695067264573992 the number is:  51\n",
      "0.15695067264573992 the number is:  52\n",
      "0.15695067264573992 the number is:  53\n",
      "0.15695067264573992 the number is:  54\n",
      "0.15695067264573992 the number is:  55\n",
      "0.15695067264573992 the number is:  56\n",
      "0.15695067264573992 the number is:  57\n",
      "0.15695067264573992 the number is:  58\n",
      "0.15695067264573992 the number is:  59\n",
      "0.15695067264573992 the number is:  60\n",
      "0.15246636771300448 the number is:  61\n",
      "0.15246636771300448 the number is:  62\n",
      "0.15246636771300448 the number is:  63\n",
      "0.15246636771300448 the number is:  64\n",
      "0.15246636771300448 the number is:  65\n",
      "0.15695067264573992 the number is:  66\n",
      "0.15695067264573992 the number is:  67\n",
      "0.15695067264573992 the number is:  68\n",
      "0.15695067264573992 the number is:  69\n",
      "0.15695067264573992 the number is:  70\n",
      "0.15695067264573992 the number is:  71\n",
      "0.15695067264573992 the number is:  72\n",
      "0.15695067264573992 the number is:  73\n",
      "0.15695067264573992 the number is:  74\n",
      "0.15695067264573992 the number is:  75\n",
      "0.15695067264573992 the number is:  76\n",
      "0.15695067264573992 the number is:  77\n",
      "0.15695067264573992 the number is:  78\n",
      "0.15695067264573992 the number is:  79\n",
      "0.15246636771300448 the number is:  80\n",
      "0.15246636771300448 the number is:  81\n",
      "0.15695067264573992 the number is:  82\n",
      "0.15246636771300448 the number is:  83\n",
      "0.15695067264573992 the number is:  84\n",
      "0.15695067264573992 the number is:  85\n",
      "0.15246636771300448 the number is:  86\n",
      "0.15246636771300448 the number is:  87\n",
      "0.15246636771300448 the number is:  88\n",
      "0.14798206278026907 the number is:  89\n",
      "0.15695067264573992 the number is:  90\n",
      "0.15246636771300448 the number is:  91\n",
      "0.14798206278026907 the number is:  92\n",
      "0.14798206278026907 the number is:  93\n",
      "0.14798206278026907 the number is:  94\n",
      "0.14798206278026907 the number is:  95\n",
      "0.15246636771300448 the number is:  96\n",
      "0.15246636771300448 the number is:  97\n",
      "0.15695067264573992 the number is:  98\n",
      "0.15695067264573992 the number is:  99\n",
      "0.15695067264573992 the number is:  100\n",
      "0.15695067264573992 the number is:  101\n",
      "0.16143497757847533 at index: 34\n",
      "0.14798206278026907  at index:  36\n"
     ]
    }
   ],
   "source": [
    "feature_names = [\"Pclass\",\"Sex_female\",\"Sex_male\",\"Age\",\"SibSp\",\"Parch\",\"Fare\",\"Embarked_C\",\"Embarked_Q\",\"Embarked_S\"]\n",
    "X = train_data[feature_names]\n",
    "train_X, val_X, train_y, val_y = train_test_split(X,Y,random_state=0)\n",
    "\n",
    "def get_mae(max_leaf_nodes,train_X,val_X,train_y,val_y):\n",
    "    model = DecisionTreeClassifier(max_leaf_nodes = max_leaf_nodes,random_state =25)\n",
    "    model.fit(train_X,train_y)\n",
    "    prediction = model.predict(val_X)\n",
    "    mae = mean_absolute_error(val_y,prediction)\n",
    "    return mae\n",
    "\n",
    "def get_mae_rf(max_leaf_nodes,train_X,val_X,train_y,val_y):\n",
    "    model = RandomForestClassifier(max_leaf_nodes = max_leaf_nodes,random_state =25)\n",
    "    model.fit(train_X,train_y)\n",
    "    prediction = model.predict(val_X)\n",
    "    mae = mean_absolute_error(val_y,prediction)\n",
    "    return mae\n",
    "\n",
    "\n",
    "\n",
    "list = []\n",
    "list_two = []\n",
    "x = range(100)\n",
    "for i in x:\n",
    "    i = i +2\n",
    "    mae = get_mae(i,train_X,val_X,train_y,val_y)\n",
    "    list.append(mae)\n",
    "    print(mae, \"the number is: \", i)\n",
    "    \n",
    "print(min(list),\"at index:\", np.argmin(list))\n",
    "for a in x:\n",
    "    a = a +2\n",
    "    mae = get_mae_rf(a,train_X,val_X,train_y,val_y)\n",
    "    list_two.append(mae)\n",
    "    print(mae, \"the number is: \", a)\n",
    "    \n",
    "print(min(list),\"at index:\", np.argmin(list)+2)\n",
    "print(min(list_two),\" at index: \", np.argmin(list_two)+2)"
   ]
  },
  {
   "cell_type": "markdown",
   "id": "8f871710",
   "metadata": {
    "papermill": {
     "duration": 0.010295,
     "end_time": "2025-02-01T01:20:37.644408",
     "exception": false,
     "start_time": "2025-02-01T01:20:37.634113",
     "status": "completed"
    },
    "tags": []
   },
   "source": [
    "## Random Forest Model was the lowest mean absolute error with 36 leaf nodes, create and train model"
   ]
  },
  {
   "cell_type": "code",
   "execution_count": 13,
   "id": "c963cc54",
   "metadata": {
    "execution": {
     "iopub.execute_input": "2025-02-01T01:20:37.667119Z",
     "iopub.status.busy": "2025-02-01T01:20:37.666763Z",
     "iopub.status.idle": "2025-02-01T01:20:38.029329Z",
     "shell.execute_reply": "2025-02-01T01:20:38.028256Z"
    },
    "papermill": {
     "duration": 0.376103,
     "end_time": "2025-02-01T01:20:38.031356",
     "exception": false,
     "start_time": "2025-02-01T01:20:37.655253",
     "status": "completed"
    },
    "tags": []
   },
   "outputs": [
    {
     "data": {
      "text/html": [
       "<style>#sk-container-id-1 {color: black;background-color: white;}#sk-container-id-1 pre{padding: 0;}#sk-container-id-1 div.sk-toggleable {background-color: white;}#sk-container-id-1 label.sk-toggleable__label {cursor: pointer;display: block;width: 100%;margin-bottom: 0;padding: 0.3em;box-sizing: border-box;text-align: center;}#sk-container-id-1 label.sk-toggleable__label-arrow:before {content: \"▸\";float: left;margin-right: 0.25em;color: #696969;}#sk-container-id-1 label.sk-toggleable__label-arrow:hover:before {color: black;}#sk-container-id-1 div.sk-estimator:hover label.sk-toggleable__label-arrow:before {color: black;}#sk-container-id-1 div.sk-toggleable__content {max-height: 0;max-width: 0;overflow: hidden;text-align: left;background-color: #f0f8ff;}#sk-container-id-1 div.sk-toggleable__content pre {margin: 0.2em;color: black;border-radius: 0.25em;background-color: #f0f8ff;}#sk-container-id-1 input.sk-toggleable__control:checked~div.sk-toggleable__content {max-height: 200px;max-width: 100%;overflow: auto;}#sk-container-id-1 input.sk-toggleable__control:checked~label.sk-toggleable__label-arrow:before {content: \"▾\";}#sk-container-id-1 div.sk-estimator input.sk-toggleable__control:checked~label.sk-toggleable__label {background-color: #d4ebff;}#sk-container-id-1 div.sk-label input.sk-toggleable__control:checked~label.sk-toggleable__label {background-color: #d4ebff;}#sk-container-id-1 input.sk-hidden--visually {border: 0;clip: rect(1px 1px 1px 1px);clip: rect(1px, 1px, 1px, 1px);height: 1px;margin: -1px;overflow: hidden;padding: 0;position: absolute;width: 1px;}#sk-container-id-1 div.sk-estimator {font-family: monospace;background-color: #f0f8ff;border: 1px dotted black;border-radius: 0.25em;box-sizing: border-box;margin-bottom: 0.5em;}#sk-container-id-1 div.sk-estimator:hover {background-color: #d4ebff;}#sk-container-id-1 div.sk-parallel-item::after {content: \"\";width: 100%;border-bottom: 1px solid gray;flex-grow: 1;}#sk-container-id-1 div.sk-label:hover label.sk-toggleable__label {background-color: #d4ebff;}#sk-container-id-1 div.sk-serial::before {content: \"\";position: absolute;border-left: 1px solid gray;box-sizing: border-box;top: 0;bottom: 0;left: 50%;z-index: 0;}#sk-container-id-1 div.sk-serial {display: flex;flex-direction: column;align-items: center;background-color: white;padding-right: 0.2em;padding-left: 0.2em;position: relative;}#sk-container-id-1 div.sk-item {position: relative;z-index: 1;}#sk-container-id-1 div.sk-parallel {display: flex;align-items: stretch;justify-content: center;background-color: white;position: relative;}#sk-container-id-1 div.sk-item::before, #sk-container-id-1 div.sk-parallel-item::before {content: \"\";position: absolute;border-left: 1px solid gray;box-sizing: border-box;top: 0;bottom: 0;left: 50%;z-index: -1;}#sk-container-id-1 div.sk-parallel-item {display: flex;flex-direction: column;z-index: 1;position: relative;background-color: white;}#sk-container-id-1 div.sk-parallel-item:first-child::after {align-self: flex-end;width: 50%;}#sk-container-id-1 div.sk-parallel-item:last-child::after {align-self: flex-start;width: 50%;}#sk-container-id-1 div.sk-parallel-item:only-child::after {width: 0;}#sk-container-id-1 div.sk-dashed-wrapped {border: 1px dashed gray;margin: 0 0.4em 0.5em 0.4em;box-sizing: border-box;padding-bottom: 0.4em;background-color: white;}#sk-container-id-1 div.sk-label label {font-family: monospace;font-weight: bold;display: inline-block;line-height: 1.2em;}#sk-container-id-1 div.sk-label-container {text-align: center;}#sk-container-id-1 div.sk-container {/* jupyter's `normalize.less` sets `[hidden] { display: none; }` but bootstrap.min.css set `[hidden] { display: none !important; }` so we also need the `!important` here to be able to override the default hidden behavior on the sphinx rendered scikit-learn.org. See: https://github.com/scikit-learn/scikit-learn/issues/21755 */display: inline-block !important;position: relative;}#sk-container-id-1 div.sk-text-repr-fallback {display: none;}</style><div id=\"sk-container-id-1\" class=\"sk-top-container\"><div class=\"sk-text-repr-fallback\"><pre>RandomForestClassifier(max_leaf_nodes=36, random_state=25)</pre><b>In a Jupyter environment, please rerun this cell to show the HTML representation or trust the notebook. <br />On GitHub, the HTML representation is unable to render, please try loading this page with nbviewer.org.</b></div><div class=\"sk-container\" hidden><div class=\"sk-item\"><div class=\"sk-estimator sk-toggleable\"><input class=\"sk-toggleable__control sk-hidden--visually\" id=\"sk-estimator-id-1\" type=\"checkbox\" checked><label for=\"sk-estimator-id-1\" class=\"sk-toggleable__label sk-toggleable__label-arrow\">RandomForestClassifier</label><div class=\"sk-toggleable__content\"><pre>RandomForestClassifier(max_leaf_nodes=36, random_state=25)</pre></div></div></div></div></div>"
      ],
      "text/plain": [
       "RandomForestClassifier(max_leaf_nodes=36, random_state=25)"
      ]
     },
     "execution_count": 13,
     "metadata": {},
     "output_type": "execute_result"
    }
   ],
   "source": [
    "rf_model = RandomForestClassifier(max_leaf_nodes =36,random_state=25)\n",
    "rf_model.fit(train_X,train_y)\n",
    "rf_prediction = rf_model.predict(val_X)\n",
    "rf_mae = mean_absolute_error(rf_prediction,val_y)\n",
    "rf_model.fit(X,Y)"
   ]
  },
  {
   "cell_type": "code",
   "execution_count": 14,
   "id": "1cc2004c",
   "metadata": {
    "execution": {
     "iopub.execute_input": "2025-02-01T01:20:38.055081Z",
     "iopub.status.busy": "2025-02-01T01:20:38.054721Z",
     "iopub.status.idle": "2025-02-01T01:20:38.070037Z",
     "shell.execute_reply": "2025-02-01T01:20:38.069205Z"
    },
    "papermill": {
     "duration": 0.029154,
     "end_time": "2025-02-01T01:20:38.072044",
     "exception": false,
     "start_time": "2025-02-01T01:20:38.042890",
     "status": "completed"
    },
    "tags": []
   },
   "outputs": [],
   "source": [
    "predictions = rf_model.predict(test_data[feature_names])"
   ]
  },
  {
   "cell_type": "code",
   "execution_count": 15,
   "id": "3da015a3",
   "metadata": {
    "execution": {
     "iopub.execute_input": "2025-02-01T01:20:38.095946Z",
     "iopub.status.busy": "2025-02-01T01:20:38.095553Z",
     "iopub.status.idle": "2025-02-01T01:20:38.107553Z",
     "shell.execute_reply": "2025-02-01T01:20:38.106268Z"
    },
    "papermill": {
     "duration": 0.025908,
     "end_time": "2025-02-01T01:20:38.109495",
     "exception": false,
     "start_time": "2025-02-01T01:20:38.083587",
     "status": "completed"
    },
    "tags": []
   },
   "outputs": [
    {
     "name": "stdout",
     "output_type": "stream",
     "text": [
      "Your submission was successfully saved!\n"
     ]
    }
   ],
   "source": [
    "#output = pd.DataFrame({'PassengerId': test_data.PassengerId, 'Survived': predictions})\n",
    "#output['Survived'] = output['Survived'].round().astype(int)\n",
    "#output.to_csv('submission.csv', index=False)\n",
    "output = pd.DataFrame({'PassengerID': test_data.PassengerId, 'Survived': predictions})\n",
    "output.to_csv('submission.csv',index=False)\n",
    "print(\"Your submission was successfully saved!\")"
   ]
  }
 ],
 "metadata": {
  "kaggle": {
   "accelerator": "none",
   "dataSources": [
    {
     "databundleVersionId": 26502,
     "sourceId": 3136,
     "sourceType": "competition"
    }
   ],
   "dockerImageVersionId": 30839,
   "isGpuEnabled": false,
   "isInternetEnabled": false,
   "language": "python",
   "sourceType": "notebook"
  },
  "kernelspec": {
   "display_name": "Python 3",
   "language": "python",
   "name": "python3"
  },
  "language_info": {
   "codemirror_mode": {
    "name": "ipython",
    "version": 3
   },
   "file_extension": ".py",
   "mimetype": "text/x-python",
   "name": "python",
   "nbconvert_exporter": "python",
   "pygments_lexer": "ipython3",
   "version": "3.10.12"
  },
  "papermill": {
   "default_parameters": {},
   "duration": 25.925595,
   "end_time": "2025-02-01T01:20:38.841614",
   "environment_variables": {},
   "exception": null,
   "input_path": "__notebook__.ipynb",
   "output_path": "__notebook__.ipynb",
   "parameters": {},
   "start_time": "2025-02-01T01:20:12.916019",
   "version": "2.6.0"
  }
 },
 "nbformat": 4,
 "nbformat_minor": 5
}
