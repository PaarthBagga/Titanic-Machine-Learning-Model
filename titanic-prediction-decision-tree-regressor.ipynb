{
 "cells": [
  {
   "cell_type": "code",
   "execution_count": 1,
   "id": "627ac86d",
   "metadata": {
    "_cell_guid": "b1076dfc-b9ad-4769-8c92-a6c4dae69d19",
    "_uuid": "8f2839f25d086af736a60e9eeb907d3b93b6e0e5",
    "execution": {
     "iopub.execute_input": "2025-01-28T15:17:51.438796Z",
     "iopub.status.busy": "2025-01-28T15:17:51.438396Z",
     "iopub.status.idle": "2025-01-28T15:17:54.238320Z",
     "shell.execute_reply": "2025-01-28T15:17:54.237197Z"
    },
    "papermill": {
     "duration": 2.807946,
     "end_time": "2025-01-28T15:17:54.239991",
     "exception": false,
     "start_time": "2025-01-28T15:17:51.432045",
     "status": "completed"
    },
    "tags": []
   },
   "outputs": [
    {
     "name": "stdout",
     "output_type": "stream",
     "text": [
      "/kaggle/input/titanic/train.csv\n",
      "/kaggle/input/titanic/test.csv\n",
      "/kaggle/input/titanic/gender_submission.csv\n"
     ]
    }
   ],
   "source": [
    "# This Python 3 environment comes with many helpful analytics libraries installed\n",
    "# It is defined by the kaggle/python Docker image: https://github.com/kaggle/docker-python\n",
    "# For example, here's several helpful packages to load\n",
    "\n",
    "import numpy as np # linear algebra\n",
    "import pandas as pd # data processing, CSV file I/O (e.g. pd.read_csv)\n",
    "from sklearn.tree import DecisionTreeRegressor\n",
    "\n",
    "# Input data files are available in the read-only \"../input/\" directory\n",
    "# For example, running this (by clicking run or pressing Shift+Enter) will list all files under the input directory\n",
    "\n",
    "import os\n",
    "for dirname, _, filenames in os.walk('/kaggle/input'):\n",
    "    for filename in filenames:\n",
    "        print(os.path.join(dirname, filename))\n",
    "\n",
    "# You can write up to 20GB to the current directory (/kaggle/working/) that gets preserved as output when you create a version using \"Save & Run All\" \n",
    "# You can also write temporary files to /kaggle/temp/, but they won't be saved outside of the current session"
   ]
  },
  {
   "cell_type": "code",
   "execution_count": 2,
   "id": "44ac7da4",
   "metadata": {
    "execution": {
     "iopub.execute_input": "2025-01-28T15:17:54.250696Z",
     "iopub.status.busy": "2025-01-28T15:17:54.250172Z",
     "iopub.status.idle": "2025-01-28T15:17:54.307359Z",
     "shell.execute_reply": "2025-01-28T15:17:54.306213Z"
    },
    "papermill": {
     "duration": 0.064189,
     "end_time": "2025-01-28T15:17:54.309045",
     "exception": false,
     "start_time": "2025-01-28T15:17:54.244856",
     "status": "completed"
    },
    "tags": []
   },
   "outputs": [
    {
     "data": {
      "text/html": [
       "<div>\n",
       "<style scoped>\n",
       "    .dataframe tbody tr th:only-of-type {\n",
       "        vertical-align: middle;\n",
       "    }\n",
       "\n",
       "    .dataframe tbody tr th {\n",
       "        vertical-align: top;\n",
       "    }\n",
       "\n",
       "    .dataframe thead th {\n",
       "        text-align: right;\n",
       "    }\n",
       "</style>\n",
       "<table border=\"1\" class=\"dataframe\">\n",
       "  <thead>\n",
       "    <tr style=\"text-align: right;\">\n",
       "      <th></th>\n",
       "      <th>PassengerId</th>\n",
       "      <th>Pclass</th>\n",
       "      <th>Name</th>\n",
       "      <th>Sex</th>\n",
       "      <th>Age</th>\n",
       "      <th>SibSp</th>\n",
       "      <th>Parch</th>\n",
       "      <th>Ticket</th>\n",
       "      <th>Fare</th>\n",
       "      <th>Cabin</th>\n",
       "      <th>Embarked</th>\n",
       "    </tr>\n",
       "  </thead>\n",
       "  <tbody>\n",
       "    <tr>\n",
       "      <th>0</th>\n",
       "      <td>892</td>\n",
       "      <td>3</td>\n",
       "      <td>Kelly, Mr. James</td>\n",
       "      <td>male</td>\n",
       "      <td>34.5</td>\n",
       "      <td>0</td>\n",
       "      <td>0</td>\n",
       "      <td>330911</td>\n",
       "      <td>7.8292</td>\n",
       "      <td>NaN</td>\n",
       "      <td>Q</td>\n",
       "    </tr>\n",
       "    <tr>\n",
       "      <th>1</th>\n",
       "      <td>893</td>\n",
       "      <td>3</td>\n",
       "      <td>Wilkes, Mrs. James (Ellen Needs)</td>\n",
       "      <td>female</td>\n",
       "      <td>47.0</td>\n",
       "      <td>1</td>\n",
       "      <td>0</td>\n",
       "      <td>363272</td>\n",
       "      <td>7.0000</td>\n",
       "      <td>NaN</td>\n",
       "      <td>S</td>\n",
       "    </tr>\n",
       "    <tr>\n",
       "      <th>2</th>\n",
       "      <td>894</td>\n",
       "      <td>2</td>\n",
       "      <td>Myles, Mr. Thomas Francis</td>\n",
       "      <td>male</td>\n",
       "      <td>62.0</td>\n",
       "      <td>0</td>\n",
       "      <td>0</td>\n",
       "      <td>240276</td>\n",
       "      <td>9.6875</td>\n",
       "      <td>NaN</td>\n",
       "      <td>Q</td>\n",
       "    </tr>\n",
       "    <tr>\n",
       "      <th>3</th>\n",
       "      <td>895</td>\n",
       "      <td>3</td>\n",
       "      <td>Wirz, Mr. Albert</td>\n",
       "      <td>male</td>\n",
       "      <td>27.0</td>\n",
       "      <td>0</td>\n",
       "      <td>0</td>\n",
       "      <td>315154</td>\n",
       "      <td>8.6625</td>\n",
       "      <td>NaN</td>\n",
       "      <td>S</td>\n",
       "    </tr>\n",
       "    <tr>\n",
       "      <th>4</th>\n",
       "      <td>896</td>\n",
       "      <td>3</td>\n",
       "      <td>Hirvonen, Mrs. Alexander (Helga E Lindqvist)</td>\n",
       "      <td>female</td>\n",
       "      <td>22.0</td>\n",
       "      <td>1</td>\n",
       "      <td>1</td>\n",
       "      <td>3101298</td>\n",
       "      <td>12.2875</td>\n",
       "      <td>NaN</td>\n",
       "      <td>S</td>\n",
       "    </tr>\n",
       "  </tbody>\n",
       "</table>\n",
       "</div>"
      ],
      "text/plain": [
       "   PassengerId  Pclass                                          Name     Sex  \\\n",
       "0          892       3                              Kelly, Mr. James    male   \n",
       "1          893       3              Wilkes, Mrs. James (Ellen Needs)  female   \n",
       "2          894       2                     Myles, Mr. Thomas Francis    male   \n",
       "3          895       3                              Wirz, Mr. Albert    male   \n",
       "4          896       3  Hirvonen, Mrs. Alexander (Helga E Lindqvist)  female   \n",
       "\n",
       "    Age  SibSp  Parch   Ticket     Fare Cabin Embarked  \n",
       "0  34.5      0      0   330911   7.8292   NaN        Q  \n",
       "1  47.0      1      0   363272   7.0000   NaN        S  \n",
       "2  62.0      0      0   240276   9.6875   NaN        Q  \n",
       "3  27.0      0      0   315154   8.6625   NaN        S  \n",
       "4  22.0      1      1  3101298  12.2875   NaN        S  "
      ]
     },
     "execution_count": 2,
     "metadata": {},
     "output_type": "execute_result"
    }
   ],
   "source": [
    "train_data = pd.read_csv(\"/kaggle/input/titanic/train.csv\")\n",
    "train_data['Embarked'] = train_data['Embarked'].fillna('Unknown')\n",
    "train_data.head()\n",
    "test_data = pd.read_csv(\"/kaggle/input/titanic/test.csv\")\n",
    "test_data.head()"
   ]
  },
  {
   "cell_type": "code",
   "execution_count": 3,
   "id": "c58c064f",
   "metadata": {
    "execution": {
     "iopub.execute_input": "2025-01-28T15:17:54.319837Z",
     "iopub.status.busy": "2025-01-28T15:17:54.319478Z",
     "iopub.status.idle": "2025-01-28T15:17:54.354880Z",
     "shell.execute_reply": "2025-01-28T15:17:54.353883Z"
    },
    "papermill": {
     "duration": 0.043039,
     "end_time": "2025-01-28T15:17:54.356930",
     "exception": false,
     "start_time": "2025-01-28T15:17:54.313891",
     "status": "completed"
    },
    "tags": []
   },
   "outputs": [],
   "source": [
    "train_data.columns\n",
    "test_data.columns\n",
    "titanic_model = DecisionTreeRegressor(random_state =1)\n",
    "from sklearn.preprocessing import OneHotEncoder\n",
    "ohe = OneHotEncoder(handle_unknown = 'ignore',sparse_output = False).set_output(transform=\"pandas\")\n",
    "ohetransform = ohe.fit_transform(train_data[[\"Sex\"]])\n",
    "ohetransformtwo = ohe.fit_transform(train_data[[\"Embarked\"]])\n",
    "ohetransformthree = ohe.fit_transform(test_data[[\"Sex\"]])\n",
    "ohetransformfour = ohe.fit_transform(test_data[[\"Embarked\"]])\n",
    "train_data = pd.concat([train_data,ohetransformtwo],axis=1).drop(columns = [\"Embarked\"])\n",
    "train_data = pd.concat([train_data,ohetransform],axis=1).drop(columns= [\"Sex\"])\n",
    "test_data = pd.concat([test_data,ohetransformthree],axis=1).drop(columns = [\"Embarked\"])\n",
    "test_data = pd.concat([test_data,ohetransformfour],axis=1).drop(columns= [\"Sex\"])"
   ]
  },
  {
   "cell_type": "code",
   "execution_count": 4,
   "id": "9a2969c1",
   "metadata": {
    "execution": {
     "iopub.execute_input": "2025-01-28T15:17:54.370862Z",
     "iopub.status.busy": "2025-01-28T15:17:54.370507Z",
     "iopub.status.idle": "2025-01-28T15:17:54.386830Z",
     "shell.execute_reply": "2025-01-28T15:17:54.385796Z"
    },
    "papermill": {
     "duration": 0.023952,
     "end_time": "2025-01-28T15:17:54.388673",
     "exception": false,
     "start_time": "2025-01-28T15:17:54.364721",
     "status": "completed"
    },
    "tags": []
   },
   "outputs": [],
   "source": [
    "train_data['Age'] = train_data['Age'].fillna(train_data.groupby('Pclass')['Age'].transform('median'))\n",
    "test_data['Age'] = test_data['Age'].fillna(test_data.groupby('Pclass')['Age'].transform('median'))\n",
    "test_data['Fare'] = test_data['Fare'].fillna(test_data.groupby('Pclass')['Fare'].transform('median'))"
   ]
  },
  {
   "cell_type": "code",
   "execution_count": 5,
   "id": "f174cfac",
   "metadata": {
    "execution": {
     "iopub.execute_input": "2025-01-28T15:17:54.399584Z",
     "iopub.status.busy": "2025-01-28T15:17:54.399185Z",
     "iopub.status.idle": "2025-01-28T15:17:54.417871Z",
     "shell.execute_reply": "2025-01-28T15:17:54.416587Z"
    },
    "papermill": {
     "duration": 0.026298,
     "end_time": "2025-01-28T15:17:54.419797",
     "exception": false,
     "start_time": "2025-01-28T15:17:54.393499",
     "status": "completed"
    },
    "tags": []
   },
   "outputs": [
    {
     "data": {
      "text/html": [
       "<div>\n",
       "<style scoped>\n",
       "    .dataframe tbody tr th:only-of-type {\n",
       "        vertical-align: middle;\n",
       "    }\n",
       "\n",
       "    .dataframe tbody tr th {\n",
       "        vertical-align: top;\n",
       "    }\n",
       "\n",
       "    .dataframe thead th {\n",
       "        text-align: right;\n",
       "    }\n",
       "</style>\n",
       "<table border=\"1\" class=\"dataframe\">\n",
       "  <thead>\n",
       "    <tr style=\"text-align: right;\">\n",
       "      <th></th>\n",
       "      <th>PassengerId</th>\n",
       "      <th>Survived</th>\n",
       "      <th>Pclass</th>\n",
       "      <th>Name</th>\n",
       "      <th>Age</th>\n",
       "      <th>SibSp</th>\n",
       "      <th>Parch</th>\n",
       "      <th>Ticket</th>\n",
       "      <th>Fare</th>\n",
       "      <th>Cabin</th>\n",
       "      <th>Embarked_C</th>\n",
       "      <th>Embarked_Q</th>\n",
       "      <th>Embarked_S</th>\n",
       "      <th>Embarked_Unknown</th>\n",
       "      <th>Sex_female</th>\n",
       "      <th>Sex_male</th>\n",
       "    </tr>\n",
       "  </thead>\n",
       "  <tbody>\n",
       "    <tr>\n",
       "      <th>0</th>\n",
       "      <td>1</td>\n",
       "      <td>0</td>\n",
       "      <td>3</td>\n",
       "      <td>Braund, Mr. Owen Harris</td>\n",
       "      <td>22.0</td>\n",
       "      <td>1</td>\n",
       "      <td>0</td>\n",
       "      <td>A/5 21171</td>\n",
       "      <td>7.2500</td>\n",
       "      <td>NaN</td>\n",
       "      <td>0.0</td>\n",
       "      <td>0.0</td>\n",
       "      <td>1.0</td>\n",
       "      <td>0.0</td>\n",
       "      <td>0.0</td>\n",
       "      <td>1.0</td>\n",
       "    </tr>\n",
       "    <tr>\n",
       "      <th>1</th>\n",
       "      <td>2</td>\n",
       "      <td>1</td>\n",
       "      <td>1</td>\n",
       "      <td>Cumings, Mrs. John Bradley (Florence Briggs Th...</td>\n",
       "      <td>38.0</td>\n",
       "      <td>1</td>\n",
       "      <td>0</td>\n",
       "      <td>PC 17599</td>\n",
       "      <td>71.2833</td>\n",
       "      <td>C85</td>\n",
       "      <td>1.0</td>\n",
       "      <td>0.0</td>\n",
       "      <td>0.0</td>\n",
       "      <td>0.0</td>\n",
       "      <td>1.0</td>\n",
       "      <td>0.0</td>\n",
       "    </tr>\n",
       "    <tr>\n",
       "      <th>2</th>\n",
       "      <td>3</td>\n",
       "      <td>1</td>\n",
       "      <td>3</td>\n",
       "      <td>Heikkinen, Miss. Laina</td>\n",
       "      <td>26.0</td>\n",
       "      <td>0</td>\n",
       "      <td>0</td>\n",
       "      <td>STON/O2. 3101282</td>\n",
       "      <td>7.9250</td>\n",
       "      <td>NaN</td>\n",
       "      <td>0.0</td>\n",
       "      <td>0.0</td>\n",
       "      <td>1.0</td>\n",
       "      <td>0.0</td>\n",
       "      <td>1.0</td>\n",
       "      <td>0.0</td>\n",
       "    </tr>\n",
       "    <tr>\n",
       "      <th>3</th>\n",
       "      <td>4</td>\n",
       "      <td>1</td>\n",
       "      <td>1</td>\n",
       "      <td>Futrelle, Mrs. Jacques Heath (Lily May Peel)</td>\n",
       "      <td>35.0</td>\n",
       "      <td>1</td>\n",
       "      <td>0</td>\n",
       "      <td>113803</td>\n",
       "      <td>53.1000</td>\n",
       "      <td>C123</td>\n",
       "      <td>0.0</td>\n",
       "      <td>0.0</td>\n",
       "      <td>1.0</td>\n",
       "      <td>0.0</td>\n",
       "      <td>1.0</td>\n",
       "      <td>0.0</td>\n",
       "    </tr>\n",
       "    <tr>\n",
       "      <th>4</th>\n",
       "      <td>5</td>\n",
       "      <td>0</td>\n",
       "      <td>3</td>\n",
       "      <td>Allen, Mr. William Henry</td>\n",
       "      <td>35.0</td>\n",
       "      <td>0</td>\n",
       "      <td>0</td>\n",
       "      <td>373450</td>\n",
       "      <td>8.0500</td>\n",
       "      <td>NaN</td>\n",
       "      <td>0.0</td>\n",
       "      <td>0.0</td>\n",
       "      <td>1.0</td>\n",
       "      <td>0.0</td>\n",
       "      <td>0.0</td>\n",
       "      <td>1.0</td>\n",
       "    </tr>\n",
       "  </tbody>\n",
       "</table>\n",
       "</div>"
      ],
      "text/plain": [
       "   PassengerId  Survived  Pclass  \\\n",
       "0            1         0       3   \n",
       "1            2         1       1   \n",
       "2            3         1       3   \n",
       "3            4         1       1   \n",
       "4            5         0       3   \n",
       "\n",
       "                                                Name   Age  SibSp  Parch  \\\n",
       "0                            Braund, Mr. Owen Harris  22.0      1      0   \n",
       "1  Cumings, Mrs. John Bradley (Florence Briggs Th...  38.0      1      0   \n",
       "2                             Heikkinen, Miss. Laina  26.0      0      0   \n",
       "3       Futrelle, Mrs. Jacques Heath (Lily May Peel)  35.0      1      0   \n",
       "4                           Allen, Mr. William Henry  35.0      0      0   \n",
       "\n",
       "             Ticket     Fare Cabin  Embarked_C  Embarked_Q  Embarked_S  \\\n",
       "0         A/5 21171   7.2500   NaN         0.0         0.0         1.0   \n",
       "1          PC 17599  71.2833   C85         1.0         0.0         0.0   \n",
       "2  STON/O2. 3101282   7.9250   NaN         0.0         0.0         1.0   \n",
       "3            113803  53.1000  C123         0.0         0.0         1.0   \n",
       "4            373450   8.0500   NaN         0.0         0.0         1.0   \n",
       "\n",
       "   Embarked_Unknown  Sex_female  Sex_male  \n",
       "0               0.0         0.0       1.0  \n",
       "1               0.0         1.0       0.0  \n",
       "2               0.0         1.0       0.0  \n",
       "3               0.0         1.0       0.0  \n",
       "4               0.0         0.0       1.0  "
      ]
     },
     "execution_count": 5,
     "metadata": {},
     "output_type": "execute_result"
    }
   ],
   "source": [
    "train_data.head()"
   ]
  },
  {
   "cell_type": "code",
   "execution_count": 6,
   "id": "3b6eb5b8",
   "metadata": {
    "execution": {
     "iopub.execute_input": "2025-01-28T15:17:54.431416Z",
     "iopub.status.busy": "2025-01-28T15:17:54.431033Z",
     "iopub.status.idle": "2025-01-28T15:17:54.448028Z",
     "shell.execute_reply": "2025-01-28T15:17:54.446832Z"
    },
    "papermill": {
     "duration": 0.025202,
     "end_time": "2025-01-28T15:17:54.450230",
     "exception": false,
     "start_time": "2025-01-28T15:17:54.425028",
     "status": "completed"
    },
    "tags": []
   },
   "outputs": [
    {
     "data": {
      "text/html": [
       "<div>\n",
       "<style scoped>\n",
       "    .dataframe tbody tr th:only-of-type {\n",
       "        vertical-align: middle;\n",
       "    }\n",
       "\n",
       "    .dataframe tbody tr th {\n",
       "        vertical-align: top;\n",
       "    }\n",
       "\n",
       "    .dataframe thead th {\n",
       "        text-align: right;\n",
       "    }\n",
       "</style>\n",
       "<table border=\"1\" class=\"dataframe\">\n",
       "  <thead>\n",
       "    <tr style=\"text-align: right;\">\n",
       "      <th></th>\n",
       "      <th>PassengerId</th>\n",
       "      <th>Pclass</th>\n",
       "      <th>Name</th>\n",
       "      <th>Age</th>\n",
       "      <th>SibSp</th>\n",
       "      <th>Parch</th>\n",
       "      <th>Ticket</th>\n",
       "      <th>Fare</th>\n",
       "      <th>Cabin</th>\n",
       "      <th>Sex_female</th>\n",
       "      <th>Sex_male</th>\n",
       "      <th>Embarked_C</th>\n",
       "      <th>Embarked_Q</th>\n",
       "      <th>Embarked_S</th>\n",
       "    </tr>\n",
       "  </thead>\n",
       "  <tbody>\n",
       "    <tr>\n",
       "      <th>0</th>\n",
       "      <td>892</td>\n",
       "      <td>3</td>\n",
       "      <td>Kelly, Mr. James</td>\n",
       "      <td>34.5</td>\n",
       "      <td>0</td>\n",
       "      <td>0</td>\n",
       "      <td>330911</td>\n",
       "      <td>7.8292</td>\n",
       "      <td>NaN</td>\n",
       "      <td>0.0</td>\n",
       "      <td>1.0</td>\n",
       "      <td>0.0</td>\n",
       "      <td>1.0</td>\n",
       "      <td>0.0</td>\n",
       "    </tr>\n",
       "    <tr>\n",
       "      <th>1</th>\n",
       "      <td>893</td>\n",
       "      <td>3</td>\n",
       "      <td>Wilkes, Mrs. James (Ellen Needs)</td>\n",
       "      <td>47.0</td>\n",
       "      <td>1</td>\n",
       "      <td>0</td>\n",
       "      <td>363272</td>\n",
       "      <td>7.0000</td>\n",
       "      <td>NaN</td>\n",
       "      <td>1.0</td>\n",
       "      <td>0.0</td>\n",
       "      <td>0.0</td>\n",
       "      <td>0.0</td>\n",
       "      <td>1.0</td>\n",
       "    </tr>\n",
       "    <tr>\n",
       "      <th>2</th>\n",
       "      <td>894</td>\n",
       "      <td>2</td>\n",
       "      <td>Myles, Mr. Thomas Francis</td>\n",
       "      <td>62.0</td>\n",
       "      <td>0</td>\n",
       "      <td>0</td>\n",
       "      <td>240276</td>\n",
       "      <td>9.6875</td>\n",
       "      <td>NaN</td>\n",
       "      <td>0.0</td>\n",
       "      <td>1.0</td>\n",
       "      <td>0.0</td>\n",
       "      <td>1.0</td>\n",
       "      <td>0.0</td>\n",
       "    </tr>\n",
       "    <tr>\n",
       "      <th>3</th>\n",
       "      <td>895</td>\n",
       "      <td>3</td>\n",
       "      <td>Wirz, Mr. Albert</td>\n",
       "      <td>27.0</td>\n",
       "      <td>0</td>\n",
       "      <td>0</td>\n",
       "      <td>315154</td>\n",
       "      <td>8.6625</td>\n",
       "      <td>NaN</td>\n",
       "      <td>0.0</td>\n",
       "      <td>1.0</td>\n",
       "      <td>0.0</td>\n",
       "      <td>0.0</td>\n",
       "      <td>1.0</td>\n",
       "    </tr>\n",
       "    <tr>\n",
       "      <th>4</th>\n",
       "      <td>896</td>\n",
       "      <td>3</td>\n",
       "      <td>Hirvonen, Mrs. Alexander (Helga E Lindqvist)</td>\n",
       "      <td>22.0</td>\n",
       "      <td>1</td>\n",
       "      <td>1</td>\n",
       "      <td>3101298</td>\n",
       "      <td>12.2875</td>\n",
       "      <td>NaN</td>\n",
       "      <td>1.0</td>\n",
       "      <td>0.0</td>\n",
       "      <td>0.0</td>\n",
       "      <td>0.0</td>\n",
       "      <td>1.0</td>\n",
       "    </tr>\n",
       "  </tbody>\n",
       "</table>\n",
       "</div>"
      ],
      "text/plain": [
       "   PassengerId  Pclass                                          Name   Age  \\\n",
       "0          892       3                              Kelly, Mr. James  34.5   \n",
       "1          893       3              Wilkes, Mrs. James (Ellen Needs)  47.0   \n",
       "2          894       2                     Myles, Mr. Thomas Francis  62.0   \n",
       "3          895       3                              Wirz, Mr. Albert  27.0   \n",
       "4          896       3  Hirvonen, Mrs. Alexander (Helga E Lindqvist)  22.0   \n",
       "\n",
       "   SibSp  Parch   Ticket     Fare Cabin  Sex_female  Sex_male  Embarked_C  \\\n",
       "0      0      0   330911   7.8292   NaN         0.0       1.0         0.0   \n",
       "1      1      0   363272   7.0000   NaN         1.0       0.0         0.0   \n",
       "2      0      0   240276   9.6875   NaN         0.0       1.0         0.0   \n",
       "3      0      0   315154   8.6625   NaN         0.0       1.0         0.0   \n",
       "4      1      1  3101298  12.2875   NaN         1.0       0.0         0.0   \n",
       "\n",
       "   Embarked_Q  Embarked_S  \n",
       "0         1.0         0.0  \n",
       "1         0.0         1.0  \n",
       "2         1.0         0.0  \n",
       "3         0.0         1.0  \n",
       "4         0.0         1.0  "
      ]
     },
     "execution_count": 6,
     "metadata": {},
     "output_type": "execute_result"
    }
   ],
   "source": [
    "test_data.head()"
   ]
  },
  {
   "cell_type": "code",
   "execution_count": 7,
   "id": "b002959a",
   "metadata": {
    "execution": {
     "iopub.execute_input": "2025-01-28T15:17:54.462902Z",
     "iopub.status.busy": "2025-01-28T15:17:54.462546Z",
     "iopub.status.idle": "2025-01-28T15:17:54.469105Z",
     "shell.execute_reply": "2025-01-28T15:17:54.467812Z"
    },
    "papermill": {
     "duration": 0.015176,
     "end_time": "2025-01-28T15:17:54.471509",
     "exception": false,
     "start_time": "2025-01-28T15:17:54.456333",
     "status": "completed"
    },
    "tags": []
   },
   "outputs": [],
   "source": [
    "Y = train_data.Survived\n",
    "feature_names = [\"Pclass\",\"Sex_female\",\"Sex_male\",\"Age\",\"SibSp\",\"Parch\",\"Fare\",\"Embarked_C\",\"Embarked_Q\",\"Embarked_S\"]\n",
    "X = train_data[feature_names]\n"
   ]
  },
  {
   "cell_type": "code",
   "execution_count": 8,
   "id": "ed149bb7",
   "metadata": {
    "execution": {
     "iopub.execute_input": "2025-01-28T15:17:54.488876Z",
     "iopub.status.busy": "2025-01-28T15:17:54.488417Z",
     "iopub.status.idle": "2025-01-28T15:17:54.527233Z",
     "shell.execute_reply": "2025-01-28T15:17:54.525900Z"
    },
    "papermill": {
     "duration": 0.048386,
     "end_time": "2025-01-28T15:17:54.529513",
     "exception": false,
     "start_time": "2025-01-28T15:17:54.481127",
     "status": "completed"
    },
    "tags": []
   },
   "outputs": [
    {
     "name": "stdout",
     "output_type": "stream",
     "text": [
      "           Pclass  Sex_female    Sex_male         Age       SibSp       Parch  \\\n",
      "count  891.000000  891.000000  891.000000  891.000000  891.000000  891.000000   \n",
      "mean     2.308642    0.352413    0.647587   29.066409    0.523008    0.381594   \n",
      "std      0.836071    0.477990    0.477990   13.244532    1.102743    0.806057   \n",
      "min      1.000000    0.000000    0.000000    0.420000    0.000000    0.000000   \n",
      "25%      2.000000    0.000000    0.000000   22.000000    0.000000    0.000000   \n",
      "50%      3.000000    0.000000    1.000000   26.000000    0.000000    0.000000   \n",
      "75%      3.000000    1.000000    1.000000   37.000000    1.000000    0.000000   \n",
      "max      3.000000    1.000000    1.000000   80.000000    8.000000    6.000000   \n",
      "\n",
      "             Fare  Embarked_C  Embarked_Q  Embarked_S  \n",
      "count  891.000000  891.000000  891.000000  891.000000  \n",
      "mean    32.204208    0.188552    0.086420    0.722783  \n",
      "std     49.693429    0.391372    0.281141    0.447876  \n",
      "min      0.000000    0.000000    0.000000    0.000000  \n",
      "25%      7.910400    0.000000    0.000000    0.000000  \n",
      "50%     14.454200    0.000000    0.000000    1.000000  \n",
      "75%     31.000000    0.000000    0.000000    1.000000  \n",
      "max    512.329200    1.000000    1.000000    1.000000  \n",
      "   Pclass  Sex_female  Sex_male   Age  SibSp  Parch     Fare  Embarked_C  \\\n",
      "0       3         0.0       1.0  22.0      1      0   7.2500         0.0   \n",
      "1       1         1.0       0.0  38.0      1      0  71.2833         1.0   \n",
      "2       3         1.0       0.0  26.0      0      0   7.9250         0.0   \n",
      "3       1         1.0       0.0  35.0      1      0  53.1000         0.0   \n",
      "4       3         0.0       1.0  35.0      0      0   8.0500         0.0   \n",
      "\n",
      "   Embarked_Q  Embarked_S  \n",
      "0         0.0         1.0  \n",
      "1         0.0         0.0  \n",
      "2         0.0         1.0  \n",
      "3         0.0         1.0  \n",
      "4         0.0         1.0  \n"
     ]
    }
   ],
   "source": [
    "print(X.describe())\n",
    "print(X.head())"
   ]
  },
  {
   "cell_type": "code",
   "execution_count": 9,
   "id": "8db78ac5",
   "metadata": {
    "execution": {
     "iopub.execute_input": "2025-01-28T15:17:54.546651Z",
     "iopub.status.busy": "2025-01-28T15:17:54.546118Z",
     "iopub.status.idle": "2025-01-28T15:17:54.554196Z",
     "shell.execute_reply": "2025-01-28T15:17:54.552950Z"
    },
    "papermill": {
     "duration": 0.016597,
     "end_time": "2025-01-28T15:17:54.555976",
     "exception": false,
     "start_time": "2025-01-28T15:17:54.539379",
     "status": "completed"
    },
    "tags": []
   },
   "outputs": [
    {
     "name": "stdout",
     "output_type": "stream",
     "text": [
      "Pclass        0\n",
      "Sex_female    0\n",
      "Sex_male      0\n",
      "Age           0\n",
      "SibSp         0\n",
      "Parch         0\n",
      "Fare          0\n",
      "Embarked_C    0\n",
      "Embarked_Q    0\n",
      "Embarked_S    0\n",
      "dtype: int64\n"
     ]
    }
   ],
   "source": [
    "#titanic_model.fit(X,Y)\n",
    "print(X.isna().sum())"
   ]
  },
  {
   "cell_type": "code",
   "execution_count": 10,
   "id": "1603f805",
   "metadata": {
    "execution": {
     "iopub.execute_input": "2025-01-28T15:17:54.568672Z",
     "iopub.status.busy": "2025-01-28T15:17:54.568172Z",
     "iopub.status.idle": "2025-01-28T15:17:54.576346Z",
     "shell.execute_reply": "2025-01-28T15:17:54.575245Z"
    },
    "papermill": {
     "duration": 0.016523,
     "end_time": "2025-01-28T15:17:54.578292",
     "exception": false,
     "start_time": "2025-01-28T15:17:54.561769",
     "status": "completed"
    },
    "tags": []
   },
   "outputs": [
    {
     "name": "stdout",
     "output_type": "stream",
     "text": [
      "Pclass        0\n",
      "Sex_female    0\n",
      "Sex_male      0\n",
      "Age           0\n",
      "SibSp         0\n",
      "Parch         0\n",
      "Fare          0\n",
      "Embarked_C    0\n",
      "Embarked_Q    0\n",
      "Embarked_S    0\n",
      "dtype: int64\n"
     ]
    }
   ],
   "source": [
    "print(test_data[feature_names].isna().sum())"
   ]
  },
  {
   "cell_type": "code",
   "execution_count": 11,
   "id": "076810f1",
   "metadata": {
    "execution": {
     "iopub.execute_input": "2025-01-28T15:17:54.599724Z",
     "iopub.status.busy": "2025-01-28T15:17:54.599310Z",
     "iopub.status.idle": "2025-01-28T15:17:54.613213Z",
     "shell.execute_reply": "2025-01-28T15:17:54.612126Z"
    },
    "papermill": {
     "duration": 0.026476,
     "end_time": "2025-01-28T15:17:54.615193",
     "exception": false,
     "start_time": "2025-01-28T15:17:54.588717",
     "status": "completed"
    },
    "tags": []
   },
   "outputs": [
    {
     "data": {
      "text/html": [
       "<div>\n",
       "<style scoped>\n",
       "    .dataframe tbody tr th:only-of-type {\n",
       "        vertical-align: middle;\n",
       "    }\n",
       "\n",
       "    .dataframe tbody tr th {\n",
       "        vertical-align: top;\n",
       "    }\n",
       "\n",
       "    .dataframe thead th {\n",
       "        text-align: right;\n",
       "    }\n",
       "</style>\n",
       "<table border=\"1\" class=\"dataframe\">\n",
       "  <thead>\n",
       "    <tr style=\"text-align: right;\">\n",
       "      <th></th>\n",
       "      <th>Embarked_C</th>\n",
       "      <th>Embarked_Q</th>\n",
       "      <th>Embarked_S</th>\n",
       "      <th>Embarked_Unknown</th>\n",
       "    </tr>\n",
       "  </thead>\n",
       "  <tbody>\n",
       "    <tr>\n",
       "      <th>0</th>\n",
       "      <td>0.0</td>\n",
       "      <td>0.0</td>\n",
       "      <td>1.0</td>\n",
       "      <td>0.0</td>\n",
       "    </tr>\n",
       "    <tr>\n",
       "      <th>1</th>\n",
       "      <td>1.0</td>\n",
       "      <td>0.0</td>\n",
       "      <td>0.0</td>\n",
       "      <td>0.0</td>\n",
       "    </tr>\n",
       "    <tr>\n",
       "      <th>2</th>\n",
       "      <td>0.0</td>\n",
       "      <td>0.0</td>\n",
       "      <td>1.0</td>\n",
       "      <td>0.0</td>\n",
       "    </tr>\n",
       "    <tr>\n",
       "      <th>3</th>\n",
       "      <td>0.0</td>\n",
       "      <td>0.0</td>\n",
       "      <td>1.0</td>\n",
       "      <td>0.0</td>\n",
       "    </tr>\n",
       "    <tr>\n",
       "      <th>4</th>\n",
       "      <td>0.0</td>\n",
       "      <td>0.0</td>\n",
       "      <td>1.0</td>\n",
       "      <td>0.0</td>\n",
       "    </tr>\n",
       "    <tr>\n",
       "      <th>...</th>\n",
       "      <td>...</td>\n",
       "      <td>...</td>\n",
       "      <td>...</td>\n",
       "      <td>...</td>\n",
       "    </tr>\n",
       "    <tr>\n",
       "      <th>886</th>\n",
       "      <td>0.0</td>\n",
       "      <td>0.0</td>\n",
       "      <td>1.0</td>\n",
       "      <td>0.0</td>\n",
       "    </tr>\n",
       "    <tr>\n",
       "      <th>887</th>\n",
       "      <td>0.0</td>\n",
       "      <td>0.0</td>\n",
       "      <td>1.0</td>\n",
       "      <td>0.0</td>\n",
       "    </tr>\n",
       "    <tr>\n",
       "      <th>888</th>\n",
       "      <td>0.0</td>\n",
       "      <td>0.0</td>\n",
       "      <td>1.0</td>\n",
       "      <td>0.0</td>\n",
       "    </tr>\n",
       "    <tr>\n",
       "      <th>889</th>\n",
       "      <td>1.0</td>\n",
       "      <td>0.0</td>\n",
       "      <td>0.0</td>\n",
       "      <td>0.0</td>\n",
       "    </tr>\n",
       "    <tr>\n",
       "      <th>890</th>\n",
       "      <td>0.0</td>\n",
       "      <td>1.0</td>\n",
       "      <td>0.0</td>\n",
       "      <td>0.0</td>\n",
       "    </tr>\n",
       "  </tbody>\n",
       "</table>\n",
       "<p>891 rows × 4 columns</p>\n",
       "</div>"
      ],
      "text/plain": [
       "     Embarked_C  Embarked_Q  Embarked_S  Embarked_Unknown\n",
       "0           0.0         0.0         1.0               0.0\n",
       "1           1.0         0.0         0.0               0.0\n",
       "2           0.0         0.0         1.0               0.0\n",
       "3           0.0         0.0         1.0               0.0\n",
       "4           0.0         0.0         1.0               0.0\n",
       "..          ...         ...         ...               ...\n",
       "886         0.0         0.0         1.0               0.0\n",
       "887         0.0         0.0         1.0               0.0\n",
       "888         0.0         0.0         1.0               0.0\n",
       "889         1.0         0.0         0.0               0.0\n",
       "890         0.0         1.0         0.0               0.0\n",
       "\n",
       "[891 rows x 4 columns]"
      ]
     },
     "execution_count": 11,
     "metadata": {},
     "output_type": "execute_result"
    }
   ],
   "source": [
    "ohetransform\n",
    "ohetransformtwo"
   ]
  },
  {
   "cell_type": "code",
   "execution_count": null,
   "id": "6f256e97",
   "metadata": {
    "execution": {
     "iopub.execute_input": "2025-01-28T03:27:33.697223Z",
     "iopub.status.busy": "2025-01-28T03:27:33.696816Z",
     "iopub.status.idle": "2025-01-28T03:27:33.705398Z",
     "shell.execute_reply": "2025-01-28T03:27:33.704237Z",
     "shell.execute_reply.started": "2025-01-28T03:27:33.697191Z"
    },
    "papermill": {
     "duration": 0.008464,
     "end_time": "2025-01-28T15:17:54.634107",
     "exception": false,
     "start_time": "2025-01-28T15:17:54.625643",
     "status": "completed"
    },
    "tags": []
   },
   "outputs": [],
   "source": []
  },
  {
   "cell_type": "code",
   "execution_count": 12,
   "id": "ff13e747",
   "metadata": {
    "execution": {
     "iopub.execute_input": "2025-01-28T15:17:54.646841Z",
     "iopub.status.busy": "2025-01-28T15:17:54.646395Z",
     "iopub.status.idle": "2025-01-28T15:17:54.672518Z",
     "shell.execute_reply": "2025-01-28T15:17:54.671402Z"
    },
    "papermill": {
     "duration": 0.034441,
     "end_time": "2025-01-28T15:17:54.674240",
     "exception": false,
     "start_time": "2025-01-28T15:17:54.639799",
     "status": "completed"
    },
    "tags": []
   },
   "outputs": [
    {
     "data": {
      "text/html": [
       "<div>\n",
       "<style scoped>\n",
       "    .dataframe tbody tr th:only-of-type {\n",
       "        vertical-align: middle;\n",
       "    }\n",
       "\n",
       "    .dataframe tbody tr th {\n",
       "        vertical-align: top;\n",
       "    }\n",
       "\n",
       "    .dataframe thead th {\n",
       "        text-align: right;\n",
       "    }\n",
       "</style>\n",
       "<table border=\"1\" class=\"dataframe\">\n",
       "  <thead>\n",
       "    <tr style=\"text-align: right;\">\n",
       "      <th></th>\n",
       "      <th>PassengerId</th>\n",
       "      <th>Survived</th>\n",
       "      <th>Pclass</th>\n",
       "      <th>Name</th>\n",
       "      <th>Age</th>\n",
       "      <th>SibSp</th>\n",
       "      <th>Parch</th>\n",
       "      <th>Ticket</th>\n",
       "      <th>Fare</th>\n",
       "      <th>Cabin</th>\n",
       "      <th>Embarked_C</th>\n",
       "      <th>Embarked_Q</th>\n",
       "      <th>Embarked_S</th>\n",
       "      <th>Embarked_Unknown</th>\n",
       "      <th>Sex_female</th>\n",
       "      <th>Sex_male</th>\n",
       "    </tr>\n",
       "  </thead>\n",
       "  <tbody>\n",
       "    <tr>\n",
       "      <th>0</th>\n",
       "      <td>1</td>\n",
       "      <td>0</td>\n",
       "      <td>3</td>\n",
       "      <td>Braund, Mr. Owen Harris</td>\n",
       "      <td>22.0</td>\n",
       "      <td>1</td>\n",
       "      <td>0</td>\n",
       "      <td>A/5 21171</td>\n",
       "      <td>7.2500</td>\n",
       "      <td>NaN</td>\n",
       "      <td>0.0</td>\n",
       "      <td>0.0</td>\n",
       "      <td>1.0</td>\n",
       "      <td>0.0</td>\n",
       "      <td>0.0</td>\n",
       "      <td>1.0</td>\n",
       "    </tr>\n",
       "    <tr>\n",
       "      <th>1</th>\n",
       "      <td>2</td>\n",
       "      <td>1</td>\n",
       "      <td>1</td>\n",
       "      <td>Cumings, Mrs. John Bradley (Florence Briggs Th...</td>\n",
       "      <td>38.0</td>\n",
       "      <td>1</td>\n",
       "      <td>0</td>\n",
       "      <td>PC 17599</td>\n",
       "      <td>71.2833</td>\n",
       "      <td>C85</td>\n",
       "      <td>1.0</td>\n",
       "      <td>0.0</td>\n",
       "      <td>0.0</td>\n",
       "      <td>0.0</td>\n",
       "      <td>1.0</td>\n",
       "      <td>0.0</td>\n",
       "    </tr>\n",
       "    <tr>\n",
       "      <th>2</th>\n",
       "      <td>3</td>\n",
       "      <td>1</td>\n",
       "      <td>3</td>\n",
       "      <td>Heikkinen, Miss. Laina</td>\n",
       "      <td>26.0</td>\n",
       "      <td>0</td>\n",
       "      <td>0</td>\n",
       "      <td>STON/O2. 3101282</td>\n",
       "      <td>7.9250</td>\n",
       "      <td>NaN</td>\n",
       "      <td>0.0</td>\n",
       "      <td>0.0</td>\n",
       "      <td>1.0</td>\n",
       "      <td>0.0</td>\n",
       "      <td>1.0</td>\n",
       "      <td>0.0</td>\n",
       "    </tr>\n",
       "    <tr>\n",
       "      <th>3</th>\n",
       "      <td>4</td>\n",
       "      <td>1</td>\n",
       "      <td>1</td>\n",
       "      <td>Futrelle, Mrs. Jacques Heath (Lily May Peel)</td>\n",
       "      <td>35.0</td>\n",
       "      <td>1</td>\n",
       "      <td>0</td>\n",
       "      <td>113803</td>\n",
       "      <td>53.1000</td>\n",
       "      <td>C123</td>\n",
       "      <td>0.0</td>\n",
       "      <td>0.0</td>\n",
       "      <td>1.0</td>\n",
       "      <td>0.0</td>\n",
       "      <td>1.0</td>\n",
       "      <td>0.0</td>\n",
       "    </tr>\n",
       "    <tr>\n",
       "      <th>4</th>\n",
       "      <td>5</td>\n",
       "      <td>0</td>\n",
       "      <td>3</td>\n",
       "      <td>Allen, Mr. William Henry</td>\n",
       "      <td>35.0</td>\n",
       "      <td>0</td>\n",
       "      <td>0</td>\n",
       "      <td>373450</td>\n",
       "      <td>8.0500</td>\n",
       "      <td>NaN</td>\n",
       "      <td>0.0</td>\n",
       "      <td>0.0</td>\n",
       "      <td>1.0</td>\n",
       "      <td>0.0</td>\n",
       "      <td>0.0</td>\n",
       "      <td>1.0</td>\n",
       "    </tr>\n",
       "  </tbody>\n",
       "</table>\n",
       "</div>"
      ],
      "text/plain": [
       "   PassengerId  Survived  Pclass  \\\n",
       "0            1         0       3   \n",
       "1            2         1       1   \n",
       "2            3         1       3   \n",
       "3            4         1       1   \n",
       "4            5         0       3   \n",
       "\n",
       "                                                Name   Age  SibSp  Parch  \\\n",
       "0                            Braund, Mr. Owen Harris  22.0      1      0   \n",
       "1  Cumings, Mrs. John Bradley (Florence Briggs Th...  38.0      1      0   \n",
       "2                             Heikkinen, Miss. Laina  26.0      0      0   \n",
       "3       Futrelle, Mrs. Jacques Heath (Lily May Peel)  35.0      1      0   \n",
       "4                           Allen, Mr. William Henry  35.0      0      0   \n",
       "\n",
       "             Ticket     Fare Cabin  Embarked_C  Embarked_Q  Embarked_S  \\\n",
       "0         A/5 21171   7.2500   NaN         0.0         0.0         1.0   \n",
       "1          PC 17599  71.2833   C85         1.0         0.0         0.0   \n",
       "2  STON/O2. 3101282   7.9250   NaN         0.0         0.0         1.0   \n",
       "3            113803  53.1000  C123         0.0         0.0         1.0   \n",
       "4            373450   8.0500   NaN         0.0         0.0         1.0   \n",
       "\n",
       "   Embarked_Unknown  Sex_female  Sex_male  \n",
       "0               0.0         0.0       1.0  \n",
       "1               0.0         1.0       0.0  \n",
       "2               0.0         1.0       0.0  \n",
       "3               0.0         1.0       0.0  \n",
       "4               0.0         0.0       1.0  "
      ]
     },
     "execution_count": 12,
     "metadata": {},
     "output_type": "execute_result"
    }
   ],
   "source": [
    "train_data.head()\n",
    "train_data.dropna(axis=1)\n",
    "train_data.head()"
   ]
  },
  {
   "cell_type": "code",
   "execution_count": 13,
   "id": "04220e09",
   "metadata": {
    "execution": {
     "iopub.execute_input": "2025-01-28T15:17:54.687491Z",
     "iopub.status.busy": "2025-01-28T15:17:54.687019Z",
     "iopub.status.idle": "2025-01-28T15:17:54.693711Z",
     "shell.execute_reply": "2025-01-28T15:17:54.692585Z"
    },
    "papermill": {
     "duration": 0.015134,
     "end_time": "2025-01-28T15:17:54.695284",
     "exception": false,
     "start_time": "2025-01-28T15:17:54.680150",
     "status": "completed"
    },
    "tags": []
   },
   "outputs": [],
   "source": [
    "feature_names = [\"Pclass\",\"Sex_female\",\"Sex_male\",\"Age\",\"SibSp\",\"Parch\",\"Fare\",\"Embarked_C\",\"Embarked_Q\",\"Embarked_S\"]\n",
    "X = train_data[feature_names]"
   ]
  },
  {
   "cell_type": "code",
   "execution_count": 14,
   "id": "ec5a8d7e",
   "metadata": {
    "execution": {
     "iopub.execute_input": "2025-01-28T15:17:54.708708Z",
     "iopub.status.busy": "2025-01-28T15:17:54.708231Z",
     "iopub.status.idle": "2025-01-28T15:17:54.731480Z",
     "shell.execute_reply": "2025-01-28T15:17:54.730297Z"
    },
    "papermill": {
     "duration": 0.032248,
     "end_time": "2025-01-28T15:17:54.733612",
     "exception": false,
     "start_time": "2025-01-28T15:17:54.701364",
     "status": "completed"
    },
    "tags": []
   },
   "outputs": [
    {
     "data": {
      "text/html": [
       "<style>#sk-container-id-1 {color: black;background-color: white;}#sk-container-id-1 pre{padding: 0;}#sk-container-id-1 div.sk-toggleable {background-color: white;}#sk-container-id-1 label.sk-toggleable__label {cursor: pointer;display: block;width: 100%;margin-bottom: 0;padding: 0.3em;box-sizing: border-box;text-align: center;}#sk-container-id-1 label.sk-toggleable__label-arrow:before {content: \"▸\";float: left;margin-right: 0.25em;color: #696969;}#sk-container-id-1 label.sk-toggleable__label-arrow:hover:before {color: black;}#sk-container-id-1 div.sk-estimator:hover label.sk-toggleable__label-arrow:before {color: black;}#sk-container-id-1 div.sk-toggleable__content {max-height: 0;max-width: 0;overflow: hidden;text-align: left;background-color: #f0f8ff;}#sk-container-id-1 div.sk-toggleable__content pre {margin: 0.2em;color: black;border-radius: 0.25em;background-color: #f0f8ff;}#sk-container-id-1 input.sk-toggleable__control:checked~div.sk-toggleable__content {max-height: 200px;max-width: 100%;overflow: auto;}#sk-container-id-1 input.sk-toggleable__control:checked~label.sk-toggleable__label-arrow:before {content: \"▾\";}#sk-container-id-1 div.sk-estimator input.sk-toggleable__control:checked~label.sk-toggleable__label {background-color: #d4ebff;}#sk-container-id-1 div.sk-label input.sk-toggleable__control:checked~label.sk-toggleable__label {background-color: #d4ebff;}#sk-container-id-1 input.sk-hidden--visually {border: 0;clip: rect(1px 1px 1px 1px);clip: rect(1px, 1px, 1px, 1px);height: 1px;margin: -1px;overflow: hidden;padding: 0;position: absolute;width: 1px;}#sk-container-id-1 div.sk-estimator {font-family: monospace;background-color: #f0f8ff;border: 1px dotted black;border-radius: 0.25em;box-sizing: border-box;margin-bottom: 0.5em;}#sk-container-id-1 div.sk-estimator:hover {background-color: #d4ebff;}#sk-container-id-1 div.sk-parallel-item::after {content: \"\";width: 100%;border-bottom: 1px solid gray;flex-grow: 1;}#sk-container-id-1 div.sk-label:hover label.sk-toggleable__label {background-color: #d4ebff;}#sk-container-id-1 div.sk-serial::before {content: \"\";position: absolute;border-left: 1px solid gray;box-sizing: border-box;top: 0;bottom: 0;left: 50%;z-index: 0;}#sk-container-id-1 div.sk-serial {display: flex;flex-direction: column;align-items: center;background-color: white;padding-right: 0.2em;padding-left: 0.2em;position: relative;}#sk-container-id-1 div.sk-item {position: relative;z-index: 1;}#sk-container-id-1 div.sk-parallel {display: flex;align-items: stretch;justify-content: center;background-color: white;position: relative;}#sk-container-id-1 div.sk-item::before, #sk-container-id-1 div.sk-parallel-item::before {content: \"\";position: absolute;border-left: 1px solid gray;box-sizing: border-box;top: 0;bottom: 0;left: 50%;z-index: -1;}#sk-container-id-1 div.sk-parallel-item {display: flex;flex-direction: column;z-index: 1;position: relative;background-color: white;}#sk-container-id-1 div.sk-parallel-item:first-child::after {align-self: flex-end;width: 50%;}#sk-container-id-1 div.sk-parallel-item:last-child::after {align-self: flex-start;width: 50%;}#sk-container-id-1 div.sk-parallel-item:only-child::after {width: 0;}#sk-container-id-1 div.sk-dashed-wrapped {border: 1px dashed gray;margin: 0 0.4em 0.5em 0.4em;box-sizing: border-box;padding-bottom: 0.4em;background-color: white;}#sk-container-id-1 div.sk-label label {font-family: monospace;font-weight: bold;display: inline-block;line-height: 1.2em;}#sk-container-id-1 div.sk-label-container {text-align: center;}#sk-container-id-1 div.sk-container {/* jupyter's `normalize.less` sets `[hidden] { display: none; }` but bootstrap.min.css set `[hidden] { display: none !important; }` so we also need the `!important` here to be able to override the default hidden behavior on the sphinx rendered scikit-learn.org. See: https://github.com/scikit-learn/scikit-learn/issues/21755 */display: inline-block !important;position: relative;}#sk-container-id-1 div.sk-text-repr-fallback {display: none;}</style><div id=\"sk-container-id-1\" class=\"sk-top-container\"><div class=\"sk-text-repr-fallback\"><pre>DecisionTreeRegressor(random_state=1)</pre><b>In a Jupyter environment, please rerun this cell to show the HTML representation or trust the notebook. <br />On GitHub, the HTML representation is unable to render, please try loading this page with nbviewer.org.</b></div><div class=\"sk-container\" hidden><div class=\"sk-item\"><div class=\"sk-estimator sk-toggleable\"><input class=\"sk-toggleable__control sk-hidden--visually\" id=\"sk-estimator-id-1\" type=\"checkbox\" checked><label for=\"sk-estimator-id-1\" class=\"sk-toggleable__label sk-toggleable__label-arrow\">DecisionTreeRegressor</label><div class=\"sk-toggleable__content\"><pre>DecisionTreeRegressor(random_state=1)</pre></div></div></div></div></div>"
      ],
      "text/plain": [
       "DecisionTreeRegressor(random_state=1)"
      ]
     },
     "execution_count": 14,
     "metadata": {},
     "output_type": "execute_result"
    }
   ],
   "source": [
    "titanic_model.fit(X,Y)"
   ]
  },
  {
   "cell_type": "code",
   "execution_count": 15,
   "id": "95f57860",
   "metadata": {
    "execution": {
     "iopub.execute_input": "2025-01-28T15:17:54.752253Z",
     "iopub.status.busy": "2025-01-28T15:17:54.751932Z",
     "iopub.status.idle": "2025-01-28T15:17:54.759002Z",
     "shell.execute_reply": "2025-01-28T15:17:54.758049Z"
    },
    "papermill": {
     "duration": 0.016141,
     "end_time": "2025-01-28T15:17:54.760897",
     "exception": false,
     "start_time": "2025-01-28T15:17:54.744756",
     "status": "completed"
    },
    "tags": []
   },
   "outputs": [],
   "source": [
    "predictions = titanic_model.predict(test_data[feature_names])"
   ]
  },
  {
   "cell_type": "code",
   "execution_count": 16,
   "id": "91a4cc07",
   "metadata": {
    "execution": {
     "iopub.execute_input": "2025-01-28T15:17:54.782771Z",
     "iopub.status.busy": "2025-01-28T15:17:54.782261Z",
     "iopub.status.idle": "2025-01-28T15:17:54.799769Z",
     "shell.execute_reply": "2025-01-28T15:17:54.798587Z"
    },
    "papermill": {
     "duration": 0.029333,
     "end_time": "2025-01-28T15:17:54.801825",
     "exception": false,
     "start_time": "2025-01-28T15:17:54.772492",
     "status": "completed"
    },
    "tags": []
   },
   "outputs": [
    {
     "name": "stdout",
     "output_type": "stream",
     "text": [
      "Your submission was successfully saved!\n"
     ]
    }
   ],
   "source": [
    "output = pd.DataFrame({'PassengerId': test_data.PassengerId, 'Survived': predictions})\n",
    "output['Survived'] = output['Survived'].round().astype(int)\n",
    "output.to_csv('submission.csv', index=False)\n",
    "print(\"Your submission was successfully saved!\")"
   ]
  },
  {
   "cell_type": "code",
   "execution_count": 17,
   "id": "72ded9d2",
   "metadata": {
    "execution": {
     "iopub.execute_input": "2025-01-28T15:17:54.815848Z",
     "iopub.status.busy": "2025-01-28T15:17:54.815393Z",
     "iopub.status.idle": "2025-01-28T15:17:54.831326Z",
     "shell.execute_reply": "2025-01-28T15:17:54.830217Z"
    },
    "papermill": {
     "duration": 0.025405,
     "end_time": "2025-01-28T15:17:54.833590",
     "exception": false,
     "start_time": "2025-01-28T15:17:54.808185",
     "status": "completed"
    },
    "tags": []
   },
   "outputs": [
    {
     "data": {
      "text/html": [
       "<div>\n",
       "<style scoped>\n",
       "    .dataframe tbody tr th:only-of-type {\n",
       "        vertical-align: middle;\n",
       "    }\n",
       "\n",
       "    .dataframe tbody tr th {\n",
       "        vertical-align: top;\n",
       "    }\n",
       "\n",
       "    .dataframe thead th {\n",
       "        text-align: right;\n",
       "    }\n",
       "</style>\n",
       "<table border=\"1\" class=\"dataframe\">\n",
       "  <thead>\n",
       "    <tr style=\"text-align: right;\">\n",
       "      <th></th>\n",
       "      <th>PassengerId</th>\n",
       "      <th>Survived</th>\n",
       "    </tr>\n",
       "  </thead>\n",
       "  <tbody>\n",
       "    <tr>\n",
       "      <th>count</th>\n",
       "      <td>418.000000</td>\n",
       "      <td>418.000000</td>\n",
       "    </tr>\n",
       "    <tr>\n",
       "      <th>mean</th>\n",
       "      <td>1100.500000</td>\n",
       "      <td>0.385167</td>\n",
       "    </tr>\n",
       "    <tr>\n",
       "      <th>std</th>\n",
       "      <td>120.810458</td>\n",
       "      <td>0.487218</td>\n",
       "    </tr>\n",
       "    <tr>\n",
       "      <th>min</th>\n",
       "      <td>892.000000</td>\n",
       "      <td>0.000000</td>\n",
       "    </tr>\n",
       "    <tr>\n",
       "      <th>25%</th>\n",
       "      <td>996.250000</td>\n",
       "      <td>0.000000</td>\n",
       "    </tr>\n",
       "    <tr>\n",
       "      <th>50%</th>\n",
       "      <td>1100.500000</td>\n",
       "      <td>0.000000</td>\n",
       "    </tr>\n",
       "    <tr>\n",
       "      <th>75%</th>\n",
       "      <td>1204.750000</td>\n",
       "      <td>1.000000</td>\n",
       "    </tr>\n",
       "    <tr>\n",
       "      <th>max</th>\n",
       "      <td>1309.000000</td>\n",
       "      <td>1.000000</td>\n",
       "    </tr>\n",
       "  </tbody>\n",
       "</table>\n",
       "</div>"
      ],
      "text/plain": [
       "       PassengerId    Survived\n",
       "count   418.000000  418.000000\n",
       "mean   1100.500000    0.385167\n",
       "std     120.810458    0.487218\n",
       "min     892.000000    0.000000\n",
       "25%     996.250000    0.000000\n",
       "50%    1100.500000    0.000000\n",
       "75%    1204.750000    1.000000\n",
       "max    1309.000000    1.000000"
      ]
     },
     "execution_count": 17,
     "metadata": {},
     "output_type": "execute_result"
    }
   ],
   "source": [
    "output.describe()"
   ]
  },
  {
   "cell_type": "code",
   "execution_count": null,
   "id": "43063048",
   "metadata": {
    "papermill": {
     "duration": 0.009051,
     "end_time": "2025-01-28T15:17:54.855234",
     "exception": false,
     "start_time": "2025-01-28T15:17:54.846183",
     "status": "completed"
    },
    "tags": []
   },
   "outputs": [],
   "source": []
  },
  {
   "cell_type": "code",
   "execution_count": null,
   "id": "7b2dad1b",
   "metadata": {
    "papermill": {
     "duration": 0.006145,
     "end_time": "2025-01-28T15:17:54.868005",
     "exception": false,
     "start_time": "2025-01-28T15:17:54.861860",
     "status": "completed"
    },
    "tags": []
   },
   "outputs": [],
   "source": []
  }
 ],
 "metadata": {
  "kaggle": {
   "accelerator": "none",
   "dataSources": [
    {
     "databundleVersionId": 26502,
     "sourceId": 3136,
     "sourceType": "competition"
    }
   ],
   "dockerImageVersionId": 30839,
   "isGpuEnabled": false,
   "isInternetEnabled": false,
   "language": "python",
   "sourceType": "notebook"
  },
  "kernelspec": {
   "display_name": "Python 3",
   "language": "python",
   "name": "python3"
  },
  "language_info": {
   "codemirror_mode": {
    "name": "ipython",
    "version": 3
   },
   "file_extension": ".py",
   "mimetype": "text/x-python",
   "name": "python",
   "nbconvert_exporter": "python",
   "pygments_lexer": "ipython3",
   "version": "3.10.12"
  },
  "papermill": {
   "default_parameters": {},
   "duration": 6.943487,
   "end_time": "2025-01-28T15:17:55.594959",
   "environment_variables": {},
   "exception": null,
   "input_path": "__notebook__.ipynb",
   "output_path": "__notebook__.ipynb",
   "parameters": {},
   "start_time": "2025-01-28T15:17:48.651472",
   "version": "2.6.0"
  }
 },
 "nbformat": 4,
 "nbformat_minor": 5
}
