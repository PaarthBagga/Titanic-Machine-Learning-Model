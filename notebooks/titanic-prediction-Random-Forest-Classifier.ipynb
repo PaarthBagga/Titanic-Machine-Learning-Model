{
 "cells": [
  {
   "cell_type": "code",
   "execution_count": 1,
   "id": "c5800deb",
   "metadata": {
    "_cell_guid": "b1076dfc-b9ad-4769-8c92-a6c4dae69d19",
    "_uuid": "8f2839f25d086af736a60e9eeb907d3b93b6e0e5",
    "execution": {
     "iopub.execute_input": "2025-02-04T00:13:30.938568Z",
     "iopub.status.busy": "2025-02-04T00:13:30.938161Z",
     "iopub.status.idle": "2025-02-04T00:13:34.201544Z",
     "shell.execute_reply": "2025-02-04T00:13:34.199794Z"
    },
    "papermill": {
     "duration": 3.272486,
     "end_time": "2025-02-04T00:13:34.203549",
     "exception": false,
     "start_time": "2025-02-04T00:13:30.931063",
     "status": "completed"
    },
    "tags": []
   },
   "outputs": [
    {
     "name": "stdout",
     "output_type": "stream",
     "text": [
      "/kaggle/input/titanic/train.csv\n",
      "/kaggle/input/titanic/test.csv\n",
      "/kaggle/input/titanic/gender_submission.csv\n"
     ]
    }
   ],
   "source": [
    "import numpy as np \n",
    "import pandas as pd \n",
    "from sklearn.tree import DecisionTreeClassifier\n",
    "from sklearn.ensemble import RandomForestClassifier\n",
    "from sklearn.metrics import mean_absolute_error\n",
    "from sklearn.model_selection import train_test_split\n",
    "from sklearn.preprocessing import OneHotEncoder\n",
    "\n",
    "import os\n",
    "for dirname, _, filenames in os.walk('/kaggle/input'):\n",
    "    for filename in filenames:\n",
    "        print(os.path.join(dirname, filename))\n",
    "\n"
   ]
  },
  {
   "cell_type": "markdown",
   "id": "0064cf0f",
   "metadata": {
    "papermill": {
     "duration": 0.005001,
     "end_time": "2025-02-04T00:13:34.213734",
     "exception": false,
     "start_time": "2025-02-04T00:13:34.208733",
     "status": "completed"
    },
    "tags": []
   },
   "source": [
    "Upload the csv and replace any NaN in the Embarked column with Unknown"
   ]
  },
  {
   "cell_type": "code",
   "execution_count": 2,
   "id": "5160666e",
   "metadata": {
    "execution": {
     "iopub.execute_input": "2025-02-04T00:13:34.225689Z",
     "iopub.status.busy": "2025-02-04T00:13:34.225158Z",
     "iopub.status.idle": "2025-02-04T00:13:34.282552Z",
     "shell.execute_reply": "2025-02-04T00:13:34.281413Z"
    },
    "papermill": {
     "duration": 0.065266,
     "end_time": "2025-02-04T00:13:34.284510",
     "exception": false,
     "start_time": "2025-02-04T00:13:34.219244",
     "status": "completed"
    },
    "tags": []
   },
   "outputs": [
    {
     "data": {
      "text/html": [
       "<div>\n",
       "<style scoped>\n",
       "    .dataframe tbody tr th:only-of-type {\n",
       "        vertical-align: middle;\n",
       "    }\n",
       "\n",
       "    .dataframe tbody tr th {\n",
       "        vertical-align: top;\n",
       "    }\n",
       "\n",
       "    .dataframe thead th {\n",
       "        text-align: right;\n",
       "    }\n",
       "</style>\n",
       "<table border=\"1\" class=\"dataframe\">\n",
       "  <thead>\n",
       "    <tr style=\"text-align: right;\">\n",
       "      <th></th>\n",
       "      <th>PassengerId</th>\n",
       "      <th>Pclass</th>\n",
       "      <th>Name</th>\n",
       "      <th>Sex</th>\n",
       "      <th>Age</th>\n",
       "      <th>SibSp</th>\n",
       "      <th>Parch</th>\n",
       "      <th>Ticket</th>\n",
       "      <th>Fare</th>\n",
       "      <th>Cabin</th>\n",
       "      <th>Embarked</th>\n",
       "    </tr>\n",
       "  </thead>\n",
       "  <tbody>\n",
       "    <tr>\n",
       "      <th>0</th>\n",
       "      <td>892</td>\n",
       "      <td>3</td>\n",
       "      <td>Kelly, Mr. James</td>\n",
       "      <td>male</td>\n",
       "      <td>34.5</td>\n",
       "      <td>0</td>\n",
       "      <td>0</td>\n",
       "      <td>330911</td>\n",
       "      <td>7.8292</td>\n",
       "      <td>NaN</td>\n",
       "      <td>Q</td>\n",
       "    </tr>\n",
       "    <tr>\n",
       "      <th>1</th>\n",
       "      <td>893</td>\n",
       "      <td>3</td>\n",
       "      <td>Wilkes, Mrs. James (Ellen Needs)</td>\n",
       "      <td>female</td>\n",
       "      <td>47.0</td>\n",
       "      <td>1</td>\n",
       "      <td>0</td>\n",
       "      <td>363272</td>\n",
       "      <td>7.0000</td>\n",
       "      <td>NaN</td>\n",
       "      <td>S</td>\n",
       "    </tr>\n",
       "    <tr>\n",
       "      <th>2</th>\n",
       "      <td>894</td>\n",
       "      <td>2</td>\n",
       "      <td>Myles, Mr. Thomas Francis</td>\n",
       "      <td>male</td>\n",
       "      <td>62.0</td>\n",
       "      <td>0</td>\n",
       "      <td>0</td>\n",
       "      <td>240276</td>\n",
       "      <td>9.6875</td>\n",
       "      <td>NaN</td>\n",
       "      <td>Q</td>\n",
       "    </tr>\n",
       "    <tr>\n",
       "      <th>3</th>\n",
       "      <td>895</td>\n",
       "      <td>3</td>\n",
       "      <td>Wirz, Mr. Albert</td>\n",
       "      <td>male</td>\n",
       "      <td>27.0</td>\n",
       "      <td>0</td>\n",
       "      <td>0</td>\n",
       "      <td>315154</td>\n",
       "      <td>8.6625</td>\n",
       "      <td>NaN</td>\n",
       "      <td>S</td>\n",
       "    </tr>\n",
       "    <tr>\n",
       "      <th>4</th>\n",
       "      <td>896</td>\n",
       "      <td>3</td>\n",
       "      <td>Hirvonen, Mrs. Alexander (Helga E Lindqvist)</td>\n",
       "      <td>female</td>\n",
       "      <td>22.0</td>\n",
       "      <td>1</td>\n",
       "      <td>1</td>\n",
       "      <td>3101298</td>\n",
       "      <td>12.2875</td>\n",
       "      <td>NaN</td>\n",
       "      <td>S</td>\n",
       "    </tr>\n",
       "  </tbody>\n",
       "</table>\n",
       "</div>"
      ],
      "text/plain": [
       "   PassengerId  Pclass                                          Name     Sex  \\\n",
       "0          892       3                              Kelly, Mr. James    male   \n",
       "1          893       3              Wilkes, Mrs. James (Ellen Needs)  female   \n",
       "2          894       2                     Myles, Mr. Thomas Francis    male   \n",
       "3          895       3                              Wirz, Mr. Albert    male   \n",
       "4          896       3  Hirvonen, Mrs. Alexander (Helga E Lindqvist)  female   \n",
       "\n",
       "    Age  SibSp  Parch   Ticket     Fare Cabin Embarked  \n",
       "0  34.5      0      0   330911   7.8292   NaN        Q  \n",
       "1  47.0      1      0   363272   7.0000   NaN        S  \n",
       "2  62.0      0      0   240276   9.6875   NaN        Q  \n",
       "3  27.0      0      0   315154   8.6625   NaN        S  \n",
       "4  22.0      1      1  3101298  12.2875   NaN        S  "
      ]
     },
     "execution_count": 2,
     "metadata": {},
     "output_type": "execute_result"
    }
   ],
   "source": [
    "train_data = pd.read_csv(\"/kaggle/input/titanic/train.csv\")\n",
    "train_data['Embarked'] = train_data['Embarked'].fillna('Unknown')\n",
    "train_data.head()\n",
    "test_data = pd.read_csv(\"/kaggle/input/titanic/test.csv\")\n",
    "test_data.head()"
   ]
  },
  {
   "cell_type": "markdown",
   "id": "38a4674c",
   "metadata": {
    "papermill": {
     "duration": 0.005079,
     "end_time": "2025-02-04T00:13:34.294844",
     "exception": false,
     "start_time": "2025-02-04T00:13:34.289765",
     "status": "completed"
    },
    "tags": []
   },
   "source": [
    "## Import One Hot Encoder in order to transform columns with categorical data like Embarked and Sex to quantitative data"
   ]
  },
  {
   "cell_type": "code",
   "execution_count": 3,
   "id": "b0d9372c",
   "metadata": {
    "execution": {
     "iopub.execute_input": "2025-02-04T00:13:34.306384Z",
     "iopub.status.busy": "2025-02-04T00:13:34.305992Z",
     "iopub.status.idle": "2025-02-04T00:13:34.341241Z",
     "shell.execute_reply": "2025-02-04T00:13:34.340000Z"
    },
    "papermill": {
     "duration": 0.043391,
     "end_time": "2025-02-04T00:13:34.343324",
     "exception": false,
     "start_time": "2025-02-04T00:13:34.299933",
     "status": "completed"
    },
    "tags": []
   },
   "outputs": [],
   "source": [
    "ohe = OneHotEncoder(handle_unknown = 'ignore',sparse_output = False).set_output(transform=\"pandas\")\n",
    "ohetransform = ohe.fit_transform(train_data[[\"Sex\"]])\n",
    "ohetransformtwo = ohe.fit_transform(train_data[[\"Embarked\"]])\n",
    "ohetransformthree = ohe.fit_transform(test_data[[\"Sex\"]])\n",
    "ohetransformfour = ohe.fit_transform(test_data[[\"Embarked\"]])\n",
    "train_data = pd.concat([train_data,ohetransformtwo],axis=1).drop(columns = [\"Embarked\"])\n",
    "train_data = pd.concat([train_data,ohetransform],axis=1).drop(columns= [\"Sex\"])\n",
    "test_data = pd.concat([test_data,ohetransformthree],axis=1).drop(columns = [\"Embarked\"])\n",
    "test_data = pd.concat([test_data,ohetransformfour],axis=1).drop(columns= [\"Sex\"])"
   ]
  },
  {
   "cell_type": "markdown",
   "id": "d9e9a480",
   "metadata": {
    "papermill": {
     "duration": 0.004727,
     "end_time": "2025-02-04T00:13:34.353392",
     "exception": false,
     "start_time": "2025-02-04T00:13:34.348665",
     "status": "completed"
    },
    "tags": []
   },
   "source": [
    "## For the missing values in Age and Fare, use the median to insert a value"
   ]
  },
  {
   "cell_type": "code",
   "execution_count": 4,
   "id": "114d0a71",
   "metadata": {
    "execution": {
     "iopub.execute_input": "2025-02-04T00:13:34.365816Z",
     "iopub.status.busy": "2025-02-04T00:13:34.365354Z",
     "iopub.status.idle": "2025-02-04T00:13:34.381194Z",
     "shell.execute_reply": "2025-02-04T00:13:34.380115Z"
    },
    "papermill": {
     "duration": 0.024639,
     "end_time": "2025-02-04T00:13:34.383614",
     "exception": false,
     "start_time": "2025-02-04T00:13:34.358975",
     "status": "completed"
    },
    "tags": []
   },
   "outputs": [],
   "source": [
    "train_data['Age'] = train_data['Age'].fillna(train_data.groupby('Pclass')['Age'].transform('median'))\n",
    "test_data['Age'] = test_data['Age'].fillna(test_data.groupby('Pclass')['Age'].transform('median'))\n",
    "test_data['Fare'] = test_data['Fare'].fillna(test_data.groupby('Pclass')['Fare'].transform('median'))"
   ]
  },
  {
   "cell_type": "markdown",
   "id": "e1060f52",
   "metadata": {
    "papermill": {
     "duration": 0.004899,
     "end_time": "2025-02-04T00:13:34.393975",
     "exception": false,
     "start_time": "2025-02-04T00:13:34.389076",
     "status": "completed"
    },
    "tags": []
   },
   "source": [
    "## Ensure that all columns are as wanted"
   ]
  },
  {
   "cell_type": "code",
   "execution_count": 5,
   "id": "b5bb130c",
   "metadata": {
    "execution": {
     "iopub.execute_input": "2025-02-04T00:13:34.405182Z",
     "iopub.status.busy": "2025-02-04T00:13:34.404806Z",
     "iopub.status.idle": "2025-02-04T00:13:34.423382Z",
     "shell.execute_reply": "2025-02-04T00:13:34.422245Z"
    },
    "papermill": {
     "duration": 0.026288,
     "end_time": "2025-02-04T00:13:34.425297",
     "exception": false,
     "start_time": "2025-02-04T00:13:34.399009",
     "status": "completed"
    },
    "tags": []
   },
   "outputs": [
    {
     "data": {
      "text/html": [
       "<div>\n",
       "<style scoped>\n",
       "    .dataframe tbody tr th:only-of-type {\n",
       "        vertical-align: middle;\n",
       "    }\n",
       "\n",
       "    .dataframe tbody tr th {\n",
       "        vertical-align: top;\n",
       "    }\n",
       "\n",
       "    .dataframe thead th {\n",
       "        text-align: right;\n",
       "    }\n",
       "</style>\n",
       "<table border=\"1\" class=\"dataframe\">\n",
       "  <thead>\n",
       "    <tr style=\"text-align: right;\">\n",
       "      <th></th>\n",
       "      <th>PassengerId</th>\n",
       "      <th>Survived</th>\n",
       "      <th>Pclass</th>\n",
       "      <th>Name</th>\n",
       "      <th>Age</th>\n",
       "      <th>SibSp</th>\n",
       "      <th>Parch</th>\n",
       "      <th>Ticket</th>\n",
       "      <th>Fare</th>\n",
       "      <th>Cabin</th>\n",
       "      <th>Embarked_C</th>\n",
       "      <th>Embarked_Q</th>\n",
       "      <th>Embarked_S</th>\n",
       "      <th>Embarked_Unknown</th>\n",
       "      <th>Sex_female</th>\n",
       "      <th>Sex_male</th>\n",
       "    </tr>\n",
       "  </thead>\n",
       "  <tbody>\n",
       "    <tr>\n",
       "      <th>0</th>\n",
       "      <td>1</td>\n",
       "      <td>0</td>\n",
       "      <td>3</td>\n",
       "      <td>Braund, Mr. Owen Harris</td>\n",
       "      <td>22.0</td>\n",
       "      <td>1</td>\n",
       "      <td>0</td>\n",
       "      <td>A/5 21171</td>\n",
       "      <td>7.2500</td>\n",
       "      <td>NaN</td>\n",
       "      <td>0.0</td>\n",
       "      <td>0.0</td>\n",
       "      <td>1.0</td>\n",
       "      <td>0.0</td>\n",
       "      <td>0.0</td>\n",
       "      <td>1.0</td>\n",
       "    </tr>\n",
       "    <tr>\n",
       "      <th>1</th>\n",
       "      <td>2</td>\n",
       "      <td>1</td>\n",
       "      <td>1</td>\n",
       "      <td>Cumings, Mrs. John Bradley (Florence Briggs Th...</td>\n",
       "      <td>38.0</td>\n",
       "      <td>1</td>\n",
       "      <td>0</td>\n",
       "      <td>PC 17599</td>\n",
       "      <td>71.2833</td>\n",
       "      <td>C85</td>\n",
       "      <td>1.0</td>\n",
       "      <td>0.0</td>\n",
       "      <td>0.0</td>\n",
       "      <td>0.0</td>\n",
       "      <td>1.0</td>\n",
       "      <td>0.0</td>\n",
       "    </tr>\n",
       "    <tr>\n",
       "      <th>2</th>\n",
       "      <td>3</td>\n",
       "      <td>1</td>\n",
       "      <td>3</td>\n",
       "      <td>Heikkinen, Miss. Laina</td>\n",
       "      <td>26.0</td>\n",
       "      <td>0</td>\n",
       "      <td>0</td>\n",
       "      <td>STON/O2. 3101282</td>\n",
       "      <td>7.9250</td>\n",
       "      <td>NaN</td>\n",
       "      <td>0.0</td>\n",
       "      <td>0.0</td>\n",
       "      <td>1.0</td>\n",
       "      <td>0.0</td>\n",
       "      <td>1.0</td>\n",
       "      <td>0.0</td>\n",
       "    </tr>\n",
       "    <tr>\n",
       "      <th>3</th>\n",
       "      <td>4</td>\n",
       "      <td>1</td>\n",
       "      <td>1</td>\n",
       "      <td>Futrelle, Mrs. Jacques Heath (Lily May Peel)</td>\n",
       "      <td>35.0</td>\n",
       "      <td>1</td>\n",
       "      <td>0</td>\n",
       "      <td>113803</td>\n",
       "      <td>53.1000</td>\n",
       "      <td>C123</td>\n",
       "      <td>0.0</td>\n",
       "      <td>0.0</td>\n",
       "      <td>1.0</td>\n",
       "      <td>0.0</td>\n",
       "      <td>1.0</td>\n",
       "      <td>0.0</td>\n",
       "    </tr>\n",
       "    <tr>\n",
       "      <th>4</th>\n",
       "      <td>5</td>\n",
       "      <td>0</td>\n",
       "      <td>3</td>\n",
       "      <td>Allen, Mr. William Henry</td>\n",
       "      <td>35.0</td>\n",
       "      <td>0</td>\n",
       "      <td>0</td>\n",
       "      <td>373450</td>\n",
       "      <td>8.0500</td>\n",
       "      <td>NaN</td>\n",
       "      <td>0.0</td>\n",
       "      <td>0.0</td>\n",
       "      <td>1.0</td>\n",
       "      <td>0.0</td>\n",
       "      <td>0.0</td>\n",
       "      <td>1.0</td>\n",
       "    </tr>\n",
       "  </tbody>\n",
       "</table>\n",
       "</div>"
      ],
      "text/plain": [
       "   PassengerId  Survived  Pclass  \\\n",
       "0            1         0       3   \n",
       "1            2         1       1   \n",
       "2            3         1       3   \n",
       "3            4         1       1   \n",
       "4            5         0       3   \n",
       "\n",
       "                                                Name   Age  SibSp  Parch  \\\n",
       "0                            Braund, Mr. Owen Harris  22.0      1      0   \n",
       "1  Cumings, Mrs. John Bradley (Florence Briggs Th...  38.0      1      0   \n",
       "2                             Heikkinen, Miss. Laina  26.0      0      0   \n",
       "3       Futrelle, Mrs. Jacques Heath (Lily May Peel)  35.0      1      0   \n",
       "4                           Allen, Mr. William Henry  35.0      0      0   \n",
       "\n",
       "             Ticket     Fare Cabin  Embarked_C  Embarked_Q  Embarked_S  \\\n",
       "0         A/5 21171   7.2500   NaN         0.0         0.0         1.0   \n",
       "1          PC 17599  71.2833   C85         1.0         0.0         0.0   \n",
       "2  STON/O2. 3101282   7.9250   NaN         0.0         0.0         1.0   \n",
       "3            113803  53.1000  C123         0.0         0.0         1.0   \n",
       "4            373450   8.0500   NaN         0.0         0.0         1.0   \n",
       "\n",
       "   Embarked_Unknown  Sex_female  Sex_male  \n",
       "0               0.0         0.0       1.0  \n",
       "1               0.0         1.0       0.0  \n",
       "2               0.0         1.0       0.0  \n",
       "3               0.0         1.0       0.0  \n",
       "4               0.0         0.0       1.0  "
      ]
     },
     "execution_count": 5,
     "metadata": {},
     "output_type": "execute_result"
    }
   ],
   "source": [
    "train_data.head()"
   ]
  },
  {
   "cell_type": "code",
   "execution_count": 6,
   "id": "f520f8f2",
   "metadata": {
    "execution": {
     "iopub.execute_input": "2025-02-04T00:13:34.437978Z",
     "iopub.status.busy": "2025-02-04T00:13:34.437485Z",
     "iopub.status.idle": "2025-02-04T00:13:34.455705Z",
     "shell.execute_reply": "2025-02-04T00:13:34.454484Z"
    },
    "papermill": {
     "duration": 0.026607,
     "end_time": "2025-02-04T00:13:34.457478",
     "exception": false,
     "start_time": "2025-02-04T00:13:34.430871",
     "status": "completed"
    },
    "tags": []
   },
   "outputs": [
    {
     "data": {
      "text/html": [
       "<div>\n",
       "<style scoped>\n",
       "    .dataframe tbody tr th:only-of-type {\n",
       "        vertical-align: middle;\n",
       "    }\n",
       "\n",
       "    .dataframe tbody tr th {\n",
       "        vertical-align: top;\n",
       "    }\n",
       "\n",
       "    .dataframe thead th {\n",
       "        text-align: right;\n",
       "    }\n",
       "</style>\n",
       "<table border=\"1\" class=\"dataframe\">\n",
       "  <thead>\n",
       "    <tr style=\"text-align: right;\">\n",
       "      <th></th>\n",
       "      <th>PassengerId</th>\n",
       "      <th>Pclass</th>\n",
       "      <th>Name</th>\n",
       "      <th>Age</th>\n",
       "      <th>SibSp</th>\n",
       "      <th>Parch</th>\n",
       "      <th>Ticket</th>\n",
       "      <th>Fare</th>\n",
       "      <th>Cabin</th>\n",
       "      <th>Sex_female</th>\n",
       "      <th>Sex_male</th>\n",
       "      <th>Embarked_C</th>\n",
       "      <th>Embarked_Q</th>\n",
       "      <th>Embarked_S</th>\n",
       "    </tr>\n",
       "  </thead>\n",
       "  <tbody>\n",
       "    <tr>\n",
       "      <th>0</th>\n",
       "      <td>892</td>\n",
       "      <td>3</td>\n",
       "      <td>Kelly, Mr. James</td>\n",
       "      <td>34.5</td>\n",
       "      <td>0</td>\n",
       "      <td>0</td>\n",
       "      <td>330911</td>\n",
       "      <td>7.8292</td>\n",
       "      <td>NaN</td>\n",
       "      <td>0.0</td>\n",
       "      <td>1.0</td>\n",
       "      <td>0.0</td>\n",
       "      <td>1.0</td>\n",
       "      <td>0.0</td>\n",
       "    </tr>\n",
       "    <tr>\n",
       "      <th>1</th>\n",
       "      <td>893</td>\n",
       "      <td>3</td>\n",
       "      <td>Wilkes, Mrs. James (Ellen Needs)</td>\n",
       "      <td>47.0</td>\n",
       "      <td>1</td>\n",
       "      <td>0</td>\n",
       "      <td>363272</td>\n",
       "      <td>7.0000</td>\n",
       "      <td>NaN</td>\n",
       "      <td>1.0</td>\n",
       "      <td>0.0</td>\n",
       "      <td>0.0</td>\n",
       "      <td>0.0</td>\n",
       "      <td>1.0</td>\n",
       "    </tr>\n",
       "    <tr>\n",
       "      <th>2</th>\n",
       "      <td>894</td>\n",
       "      <td>2</td>\n",
       "      <td>Myles, Mr. Thomas Francis</td>\n",
       "      <td>62.0</td>\n",
       "      <td>0</td>\n",
       "      <td>0</td>\n",
       "      <td>240276</td>\n",
       "      <td>9.6875</td>\n",
       "      <td>NaN</td>\n",
       "      <td>0.0</td>\n",
       "      <td>1.0</td>\n",
       "      <td>0.0</td>\n",
       "      <td>1.0</td>\n",
       "      <td>0.0</td>\n",
       "    </tr>\n",
       "    <tr>\n",
       "      <th>3</th>\n",
       "      <td>895</td>\n",
       "      <td>3</td>\n",
       "      <td>Wirz, Mr. Albert</td>\n",
       "      <td>27.0</td>\n",
       "      <td>0</td>\n",
       "      <td>0</td>\n",
       "      <td>315154</td>\n",
       "      <td>8.6625</td>\n",
       "      <td>NaN</td>\n",
       "      <td>0.0</td>\n",
       "      <td>1.0</td>\n",
       "      <td>0.0</td>\n",
       "      <td>0.0</td>\n",
       "      <td>1.0</td>\n",
       "    </tr>\n",
       "    <tr>\n",
       "      <th>4</th>\n",
       "      <td>896</td>\n",
       "      <td>3</td>\n",
       "      <td>Hirvonen, Mrs. Alexander (Helga E Lindqvist)</td>\n",
       "      <td>22.0</td>\n",
       "      <td>1</td>\n",
       "      <td>1</td>\n",
       "      <td>3101298</td>\n",
       "      <td>12.2875</td>\n",
       "      <td>NaN</td>\n",
       "      <td>1.0</td>\n",
       "      <td>0.0</td>\n",
       "      <td>0.0</td>\n",
       "      <td>0.0</td>\n",
       "      <td>1.0</td>\n",
       "    </tr>\n",
       "  </tbody>\n",
       "</table>\n",
       "</div>"
      ],
      "text/plain": [
       "   PassengerId  Pclass                                          Name   Age  \\\n",
       "0          892       3                              Kelly, Mr. James  34.5   \n",
       "1          893       3              Wilkes, Mrs. James (Ellen Needs)  47.0   \n",
       "2          894       2                     Myles, Mr. Thomas Francis  62.0   \n",
       "3          895       3                              Wirz, Mr. Albert  27.0   \n",
       "4          896       3  Hirvonen, Mrs. Alexander (Helga E Lindqvist)  22.0   \n",
       "\n",
       "   SibSp  Parch   Ticket     Fare Cabin  Sex_female  Sex_male  Embarked_C  \\\n",
       "0      0      0   330911   7.8292   NaN         0.0       1.0         0.0   \n",
       "1      1      0   363272   7.0000   NaN         1.0       0.0         0.0   \n",
       "2      0      0   240276   9.6875   NaN         0.0       1.0         0.0   \n",
       "3      0      0   315154   8.6625   NaN         0.0       1.0         0.0   \n",
       "4      1      1  3101298  12.2875   NaN         1.0       0.0         0.0   \n",
       "\n",
       "   Embarked_Q  Embarked_S  \n",
       "0         1.0         0.0  \n",
       "1         0.0         1.0  \n",
       "2         1.0         0.0  \n",
       "3         0.0         1.0  \n",
       "4         0.0         1.0  "
      ]
     },
     "execution_count": 6,
     "metadata": {},
     "output_type": "execute_result"
    }
   ],
   "source": [
    "test_data.head()"
   ]
  },
  {
   "cell_type": "markdown",
   "id": "17cb8177",
   "metadata": {
    "papermill": {
     "duration": 0.005237,
     "end_time": "2025-02-04T00:13:34.468220",
     "exception": false,
     "start_time": "2025-02-04T00:13:34.462983",
     "status": "completed"
    },
    "tags": []
   },
   "source": [
    "## Preprocess data in order to train model, split into 2 sections"
   ]
  },
  {
   "cell_type": "code",
   "execution_count": 7,
   "id": "8e3439fe",
   "metadata": {
    "execution": {
     "iopub.execute_input": "2025-02-04T00:13:34.480335Z",
     "iopub.status.busy": "2025-02-04T00:13:34.479967Z",
     "iopub.status.idle": "2025-02-04T00:13:34.488196Z",
     "shell.execute_reply": "2025-02-04T00:13:34.487185Z"
    },
    "papermill": {
     "duration": 0.016336,
     "end_time": "2025-02-04T00:13:34.490020",
     "exception": false,
     "start_time": "2025-02-04T00:13:34.473684",
     "status": "completed"
    },
    "tags": []
   },
   "outputs": [],
   "source": [
    "Y = train_data.Survived\n",
    "feature_names = [\"Pclass\",\"Sex_female\",\"Sex_male\",\"Age\",\"SibSp\",\"Parch\",\"Fare\",\"Embarked_C\",\"Embarked_Q\",\"Embarked_S\"]\n",
    "X = train_data[feature_names]\n",
    "train_X, val_X, train_y, val_y = train_test_split(X,Y)"
   ]
  },
  {
   "cell_type": "code",
   "execution_count": 8,
   "id": "e86dc9a0",
   "metadata": {
    "execution": {
     "iopub.execute_input": "2025-02-04T00:13:34.502052Z",
     "iopub.status.busy": "2025-02-04T00:13:34.501724Z",
     "iopub.status.idle": "2025-02-04T00:13:34.537886Z",
     "shell.execute_reply": "2025-02-04T00:13:34.536514Z"
    },
    "papermill": {
     "duration": 0.044392,
     "end_time": "2025-02-04T00:13:34.539904",
     "exception": false,
     "start_time": "2025-02-04T00:13:34.495512",
     "status": "completed"
    },
    "tags": []
   },
   "outputs": [
    {
     "name": "stdout",
     "output_type": "stream",
     "text": [
      "           Pclass  Sex_female    Sex_male         Age       SibSp       Parch  \\\n",
      "count  891.000000  891.000000  891.000000  891.000000  891.000000  891.000000   \n",
      "mean     2.308642    0.352413    0.647587   29.066409    0.523008    0.381594   \n",
      "std      0.836071    0.477990    0.477990   13.244532    1.102743    0.806057   \n",
      "min      1.000000    0.000000    0.000000    0.420000    0.000000    0.000000   \n",
      "25%      2.000000    0.000000    0.000000   22.000000    0.000000    0.000000   \n",
      "50%      3.000000    0.000000    1.000000   26.000000    0.000000    0.000000   \n",
      "75%      3.000000    1.000000    1.000000   37.000000    1.000000    0.000000   \n",
      "max      3.000000    1.000000    1.000000   80.000000    8.000000    6.000000   \n",
      "\n",
      "             Fare  Embarked_C  Embarked_Q  Embarked_S  \n",
      "count  891.000000  891.000000  891.000000  891.000000  \n",
      "mean    32.204208    0.188552    0.086420    0.722783  \n",
      "std     49.693429    0.391372    0.281141    0.447876  \n",
      "min      0.000000    0.000000    0.000000    0.000000  \n",
      "25%      7.910400    0.000000    0.000000    0.000000  \n",
      "50%     14.454200    0.000000    0.000000    1.000000  \n",
      "75%     31.000000    0.000000    0.000000    1.000000  \n",
      "max    512.329200    1.000000    1.000000    1.000000  \n",
      "   Pclass  Sex_female  Sex_male   Age  SibSp  Parch     Fare  Embarked_C  \\\n",
      "0       3         0.0       1.0  22.0      1      0   7.2500         0.0   \n",
      "1       1         1.0       0.0  38.0      1      0  71.2833         1.0   \n",
      "2       3         1.0       0.0  26.0      0      0   7.9250         0.0   \n",
      "3       1         1.0       0.0  35.0      1      0  53.1000         0.0   \n",
      "4       3         0.0       1.0  35.0      0      0   8.0500         0.0   \n",
      "\n",
      "   Embarked_Q  Embarked_S  \n",
      "0         0.0         1.0  \n",
      "1         0.0         0.0  \n",
      "2         0.0         1.0  \n",
      "3         0.0         1.0  \n",
      "4         0.0         1.0  \n"
     ]
    }
   ],
   "source": [
    "print(X.describe())\n",
    "print(X.head())"
   ]
  },
  {
   "cell_type": "markdown",
   "id": "0ab9564a",
   "metadata": {
    "papermill": {
     "duration": 0.005314,
     "end_time": "2025-02-04T00:13:34.551022",
     "exception": false,
     "start_time": "2025-02-04T00:13:34.545708",
     "status": "completed"
    },
    "tags": []
   },
   "source": [
    "## Ensure no columns are empty"
   ]
  },
  {
   "cell_type": "code",
   "execution_count": 9,
   "id": "84db29ab",
   "metadata": {
    "execution": {
     "iopub.execute_input": "2025-02-04T00:13:34.564273Z",
     "iopub.status.busy": "2025-02-04T00:13:34.563924Z",
     "iopub.status.idle": "2025-02-04T00:13:34.570838Z",
     "shell.execute_reply": "2025-02-04T00:13:34.569630Z"
    },
    "papermill": {
     "duration": 0.015348,
     "end_time": "2025-02-04T00:13:34.572349",
     "exception": false,
     "start_time": "2025-02-04T00:13:34.557001",
     "status": "completed"
    },
    "tags": []
   },
   "outputs": [
    {
     "name": "stdout",
     "output_type": "stream",
     "text": [
      "Pclass        0\n",
      "Sex_female    0\n",
      "Sex_male      0\n",
      "Age           0\n",
      "SibSp         0\n",
      "Parch         0\n",
      "Fare          0\n",
      "Embarked_C    0\n",
      "Embarked_Q    0\n",
      "Embarked_S    0\n",
      "dtype: int64\n"
     ]
    }
   ],
   "source": [
    "#titanic_model.fit(X,Y)\n",
    "print(X.isna().sum())"
   ]
  },
  {
   "cell_type": "code",
   "execution_count": 10,
   "id": "a1b7c576",
   "metadata": {
    "execution": {
     "iopub.execute_input": "2025-02-04T00:13:34.584923Z",
     "iopub.status.busy": "2025-02-04T00:13:34.584570Z",
     "iopub.status.idle": "2025-02-04T00:13:34.592049Z",
     "shell.execute_reply": "2025-02-04T00:13:34.590767Z"
    },
    "papermill": {
     "duration": 0.015633,
     "end_time": "2025-02-04T00:13:34.593709",
     "exception": false,
     "start_time": "2025-02-04T00:13:34.578076",
     "status": "completed"
    },
    "tags": []
   },
   "outputs": [
    {
     "name": "stdout",
     "output_type": "stream",
     "text": [
      "Pclass        0\n",
      "Sex_female    0\n",
      "Sex_male      0\n",
      "Age           0\n",
      "SibSp         0\n",
      "Parch         0\n",
      "Fare          0\n",
      "Embarked_C    0\n",
      "Embarked_Q    0\n",
      "Embarked_S    0\n",
      "dtype: int64\n"
     ]
    }
   ],
   "source": [
    "print(test_data[feature_names].isna().sum())"
   ]
  },
  {
   "cell_type": "code",
   "execution_count": 11,
   "id": "2cf342c5",
   "metadata": {
    "execution": {
     "iopub.execute_input": "2025-02-04T00:13:34.606945Z",
     "iopub.status.busy": "2025-02-04T00:13:34.606601Z",
     "iopub.status.idle": "2025-02-04T00:13:34.627474Z",
     "shell.execute_reply": "2025-02-04T00:13:34.626389Z"
    },
    "papermill": {
     "duration": 0.029504,
     "end_time": "2025-02-04T00:13:34.629406",
     "exception": false,
     "start_time": "2025-02-04T00:13:34.599902",
     "status": "completed"
    },
    "tags": []
   },
   "outputs": [
    {
     "data": {
      "text/html": [
       "<div>\n",
       "<style scoped>\n",
       "    .dataframe tbody tr th:only-of-type {\n",
       "        vertical-align: middle;\n",
       "    }\n",
       "\n",
       "    .dataframe tbody tr th {\n",
       "        vertical-align: top;\n",
       "    }\n",
       "\n",
       "    .dataframe thead th {\n",
       "        text-align: right;\n",
       "    }\n",
       "</style>\n",
       "<table border=\"1\" class=\"dataframe\">\n",
       "  <thead>\n",
       "    <tr style=\"text-align: right;\">\n",
       "      <th></th>\n",
       "      <th>PassengerId</th>\n",
       "      <th>Survived</th>\n",
       "      <th>Pclass</th>\n",
       "      <th>Name</th>\n",
       "      <th>Age</th>\n",
       "      <th>SibSp</th>\n",
       "      <th>Parch</th>\n",
       "      <th>Ticket</th>\n",
       "      <th>Fare</th>\n",
       "      <th>Cabin</th>\n",
       "      <th>Embarked_C</th>\n",
       "      <th>Embarked_Q</th>\n",
       "      <th>Embarked_S</th>\n",
       "      <th>Embarked_Unknown</th>\n",
       "      <th>Sex_female</th>\n",
       "      <th>Sex_male</th>\n",
       "    </tr>\n",
       "  </thead>\n",
       "  <tbody>\n",
       "    <tr>\n",
       "      <th>0</th>\n",
       "      <td>1</td>\n",
       "      <td>0</td>\n",
       "      <td>3</td>\n",
       "      <td>Braund, Mr. Owen Harris</td>\n",
       "      <td>22.0</td>\n",
       "      <td>1</td>\n",
       "      <td>0</td>\n",
       "      <td>A/5 21171</td>\n",
       "      <td>7.2500</td>\n",
       "      <td>NaN</td>\n",
       "      <td>0.0</td>\n",
       "      <td>0.0</td>\n",
       "      <td>1.0</td>\n",
       "      <td>0.0</td>\n",
       "      <td>0.0</td>\n",
       "      <td>1.0</td>\n",
       "    </tr>\n",
       "    <tr>\n",
       "      <th>1</th>\n",
       "      <td>2</td>\n",
       "      <td>1</td>\n",
       "      <td>1</td>\n",
       "      <td>Cumings, Mrs. John Bradley (Florence Briggs Th...</td>\n",
       "      <td>38.0</td>\n",
       "      <td>1</td>\n",
       "      <td>0</td>\n",
       "      <td>PC 17599</td>\n",
       "      <td>71.2833</td>\n",
       "      <td>C85</td>\n",
       "      <td>1.0</td>\n",
       "      <td>0.0</td>\n",
       "      <td>0.0</td>\n",
       "      <td>0.0</td>\n",
       "      <td>1.0</td>\n",
       "      <td>0.0</td>\n",
       "    </tr>\n",
       "    <tr>\n",
       "      <th>2</th>\n",
       "      <td>3</td>\n",
       "      <td>1</td>\n",
       "      <td>3</td>\n",
       "      <td>Heikkinen, Miss. Laina</td>\n",
       "      <td>26.0</td>\n",
       "      <td>0</td>\n",
       "      <td>0</td>\n",
       "      <td>STON/O2. 3101282</td>\n",
       "      <td>7.9250</td>\n",
       "      <td>NaN</td>\n",
       "      <td>0.0</td>\n",
       "      <td>0.0</td>\n",
       "      <td>1.0</td>\n",
       "      <td>0.0</td>\n",
       "      <td>1.0</td>\n",
       "      <td>0.0</td>\n",
       "    </tr>\n",
       "    <tr>\n",
       "      <th>3</th>\n",
       "      <td>4</td>\n",
       "      <td>1</td>\n",
       "      <td>1</td>\n",
       "      <td>Futrelle, Mrs. Jacques Heath (Lily May Peel)</td>\n",
       "      <td>35.0</td>\n",
       "      <td>1</td>\n",
       "      <td>0</td>\n",
       "      <td>113803</td>\n",
       "      <td>53.1000</td>\n",
       "      <td>C123</td>\n",
       "      <td>0.0</td>\n",
       "      <td>0.0</td>\n",
       "      <td>1.0</td>\n",
       "      <td>0.0</td>\n",
       "      <td>1.0</td>\n",
       "      <td>0.0</td>\n",
       "    </tr>\n",
       "    <tr>\n",
       "      <th>4</th>\n",
       "      <td>5</td>\n",
       "      <td>0</td>\n",
       "      <td>3</td>\n",
       "      <td>Allen, Mr. William Henry</td>\n",
       "      <td>35.0</td>\n",
       "      <td>0</td>\n",
       "      <td>0</td>\n",
       "      <td>373450</td>\n",
       "      <td>8.0500</td>\n",
       "      <td>NaN</td>\n",
       "      <td>0.0</td>\n",
       "      <td>0.0</td>\n",
       "      <td>1.0</td>\n",
       "      <td>0.0</td>\n",
       "      <td>0.0</td>\n",
       "      <td>1.0</td>\n",
       "    </tr>\n",
       "  </tbody>\n",
       "</table>\n",
       "</div>"
      ],
      "text/plain": [
       "   PassengerId  Survived  Pclass  \\\n",
       "0            1         0       3   \n",
       "1            2         1       1   \n",
       "2            3         1       3   \n",
       "3            4         1       1   \n",
       "4            5         0       3   \n",
       "\n",
       "                                                Name   Age  SibSp  Parch  \\\n",
       "0                            Braund, Mr. Owen Harris  22.0      1      0   \n",
       "1  Cumings, Mrs. John Bradley (Florence Briggs Th...  38.0      1      0   \n",
       "2                             Heikkinen, Miss. Laina  26.0      0      0   \n",
       "3       Futrelle, Mrs. Jacques Heath (Lily May Peel)  35.0      1      0   \n",
       "4                           Allen, Mr. William Henry  35.0      0      0   \n",
       "\n",
       "             Ticket     Fare Cabin  Embarked_C  Embarked_Q  Embarked_S  \\\n",
       "0         A/5 21171   7.2500   NaN         0.0         0.0         1.0   \n",
       "1          PC 17599  71.2833   C85         1.0         0.0         0.0   \n",
       "2  STON/O2. 3101282   7.9250   NaN         0.0         0.0         1.0   \n",
       "3            113803  53.1000  C123         0.0         0.0         1.0   \n",
       "4            373450   8.0500   NaN         0.0         0.0         1.0   \n",
       "\n",
       "   Embarked_Unknown  Sex_female  Sex_male  \n",
       "0               0.0         0.0       1.0  \n",
       "1               0.0         1.0       0.0  \n",
       "2               0.0         1.0       0.0  \n",
       "3               0.0         1.0       0.0  \n",
       "4               0.0         0.0       1.0  "
      ]
     },
     "execution_count": 11,
     "metadata": {},
     "output_type": "execute_result"
    }
   ],
   "source": [
    "train_data.head()\n",
    "train_data.dropna(axis=1)\n",
    "train_data.head()"
   ]
  },
  {
   "cell_type": "markdown",
   "id": "ecf42a3b",
   "metadata": {
    "papermill": {
     "duration": 0.005984,
     "end_time": "2025-02-04T00:13:34.641743",
     "exception": false,
     "start_time": "2025-02-04T00:13:34.635759",
     "status": "completed"
    },
    "tags": []
   },
   "source": []
  },
  {
   "cell_type": "markdown",
   "id": "db204d1d",
   "metadata": {
    "papermill": {
     "duration": 0.005762,
     "end_time": "2025-02-04T00:13:34.653786",
     "exception": false,
     "start_time": "2025-02-04T00:13:34.648024",
     "status": "completed"
    },
    "tags": []
   },
   "source": [
    "## Feature engineer the max_leaf_nodes sizes of a DecisionTreeClassifier and a RandomForestClassifier model to see which is the lowest"
   ]
  },
  {
   "cell_type": "code",
   "execution_count": 12,
   "id": "b27189b1",
   "metadata": {
    "execution": {
     "iopub.execute_input": "2025-02-04T00:13:34.666895Z",
     "iopub.status.busy": "2025-02-04T00:13:34.666427Z",
     "iopub.status.idle": "2025-02-04T00:13:54.030002Z",
     "shell.execute_reply": "2025-02-04T00:13:54.028789Z"
    },
    "papermill": {
     "duration": 19.372298,
     "end_time": "2025-02-04T00:13:54.031909",
     "exception": false,
     "start_time": "2025-02-04T00:13:34.659611",
     "status": "completed"
    },
    "tags": []
   },
   "outputs": [
    {
     "name": "stdout",
     "output_type": "stream",
     "text": [
      "0.21973094170403587 the number is:  2\n",
      "0.21973094170403587 the number is:  3\n",
      "0.2242152466367713 the number is:  4\n",
      "0.20179372197309417 the number is:  5\n",
      "0.17937219730941703 the number is:  6\n",
      "0.17937219730941703 the number is:  7\n",
      "0.17488789237668162 the number is:  8\n",
      "0.17488789237668162 the number is:  9\n",
      "0.17488789237668162 the number is:  10\n",
      "0.17488789237668162 the number is:  11\n",
      "0.16591928251121077 the number is:  12\n",
      "0.16591928251121077 the number is:  13\n",
      "0.17040358744394618 the number is:  14\n",
      "0.17040358744394618 the number is:  15\n",
      "0.17040358744394618 the number is:  16\n",
      "0.17040358744394618 the number is:  17\n",
      "0.16591928251121077 the number is:  18\n",
      "0.16591928251121077 the number is:  19\n",
      "0.16591928251121077 the number is:  20\n",
      "0.17040358744394618 the number is:  21\n",
      "0.16591928251121077 the number is:  22\n",
      "0.16591928251121077 the number is:  23\n",
      "0.16591928251121077 the number is:  24\n",
      "0.17040358744394618 the number is:  25\n",
      "0.17040358744394618 the number is:  26\n",
      "0.17488789237668162 the number is:  27\n",
      "0.17488789237668162 the number is:  28\n",
      "0.18385650224215247 the number is:  29\n",
      "0.17488789237668162 the number is:  30\n",
      "0.17488789237668162 the number is:  31\n",
      "0.17488789237668162 the number is:  32\n",
      "0.17488789237668162 the number is:  33\n",
      "0.16143497757847533 the number is:  34\n",
      "0.17488789237668162 the number is:  35\n",
      "0.16143497757847533 the number is:  36\n",
      "0.16591928251121077 the number is:  37\n",
      "0.16591928251121077 the number is:  38\n",
      "0.17488789237668162 the number is:  39\n",
      "0.17488789237668162 the number is:  40\n",
      "0.17488789237668162 the number is:  41\n",
      "0.17488789237668162 the number is:  42\n",
      "0.17488789237668162 the number is:  43\n",
      "0.18834080717488788 the number is:  44\n",
      "0.17488789237668162 the number is:  45\n",
      "0.17488789237668162 the number is:  46\n",
      "0.17937219730941703 the number is:  47\n",
      "0.17937219730941703 the number is:  48\n",
      "0.17937219730941703 the number is:  49\n",
      "0.17937219730941703 the number is:  50\n",
      "0.18834080717488788 the number is:  51\n",
      "0.18834080717488788 the number is:  52\n",
      "0.18834080717488788 the number is:  53\n",
      "0.18834080717488788 the number is:  54\n",
      "0.18834080717488788 the number is:  55\n",
      "0.18834080717488788 the number is:  56\n",
      "0.18834080717488788 the number is:  57\n",
      "0.18834080717488788 the number is:  58\n",
      "0.18834080717488788 the number is:  59\n",
      "0.18834080717488788 the number is:  60\n",
      "0.18834080717488788 the number is:  61\n",
      "0.18834080717488788 the number is:  62\n",
      "0.18834080717488788 the number is:  63\n",
      "0.18834080717488788 the number is:  64\n",
      "0.18834080717488788 the number is:  65\n",
      "0.18834080717488788 the number is:  66\n",
      "0.18834080717488788 the number is:  67\n",
      "0.18834080717488788 the number is:  68\n",
      "0.18834080717488788 the number is:  69\n",
      "0.19282511210762332 the number is:  70\n",
      "0.19282511210762332 the number is:  71\n",
      "0.19282511210762332 the number is:  72\n",
      "0.18834080717488788 the number is:  73\n",
      "0.18834080717488788 the number is:  74\n",
      "0.18834080717488788 the number is:  75\n",
      "0.18834080717488788 the number is:  76\n",
      "0.18834080717488788 the number is:  77\n",
      "0.18385650224215247 the number is:  78\n",
      "0.18385650224215247 the number is:  79\n",
      "0.18834080717488788 the number is:  80\n",
      "0.19730941704035873 the number is:  81\n",
      "0.18834080717488788 the number is:  82\n",
      "0.19730941704035873 the number is:  83\n",
      "0.19282511210762332 the number is:  84\n",
      "0.19282511210762332 the number is:  85\n",
      "0.19282511210762332 the number is:  86\n",
      "0.19282511210762332 the number is:  87\n",
      "0.19282511210762332 the number is:  88\n",
      "0.18834080717488788 the number is:  89\n",
      "0.18834080717488788 the number is:  90\n",
      "0.18834080717488788 the number is:  91\n",
      "0.18834080717488788 the number is:  92\n",
      "0.18834080717488788 the number is:  93\n",
      "0.18385650224215247 the number is:  94\n",
      "0.18385650224215247 the number is:  95\n",
      "0.18385650224215247 the number is:  96\n",
      "0.18385650224215247 the number is:  97\n",
      "0.18385650224215247 the number is:  98\n",
      "0.18385650224215247 the number is:  99\n",
      "0.18385650224215247 the number is:  100\n",
      "0.18385650224215247 the number is:  101\n",
      "0.16143497757847533 at index: 32\n",
      "0.21973094170403587 the number is:  2\n",
      "0.21973094170403587 the number is:  3\n",
      "0.21076233183856502 the number is:  4\n",
      "0.20179372197309417 the number is:  5\n",
      "0.19730941704035873 the number is:  6\n",
      "0.20179372197309417 the number is:  7\n",
      "0.18834080717488788 the number is:  8\n",
      "0.18834080717488788 the number is:  9\n",
      "0.18834080717488788 the number is:  10\n",
      "0.18385650224215247 the number is:  11\n",
      "0.18385650224215247 the number is:  12\n",
      "0.17937219730941703 the number is:  13\n",
      "0.17937219730941703 the number is:  14\n",
      "0.17488789237668162 the number is:  15\n",
      "0.17488789237668162 the number is:  16\n",
      "0.17488789237668162 the number is:  17\n",
      "0.17040358744394618 the number is:  18\n",
      "0.17040358744394618 the number is:  19\n",
      "0.16591928251121077 the number is:  20\n",
      "0.16591928251121077 the number is:  21\n",
      "0.16591928251121077 the number is:  22\n",
      "0.16591928251121077 the number is:  23\n",
      "0.16591928251121077 the number is:  24\n",
      "0.16143497757847533 the number is:  25\n",
      "0.16591928251121077 the number is:  26\n",
      "0.16591928251121077 the number is:  27\n",
      "0.16591928251121077 the number is:  28\n",
      "0.15695067264573992 the number is:  29\n",
      "0.15695067264573992 the number is:  30\n",
      "0.16143497757847533 the number is:  31\n",
      "0.15695067264573992 the number is:  32\n",
      "0.16591928251121077 the number is:  33\n",
      "0.15695067264573992 the number is:  34\n",
      "0.15695067264573992 the number is:  35\n",
      "0.14798206278026907 the number is:  36\n",
      "0.14798206278026907 the number is:  37\n",
      "0.15246636771300448 the number is:  38\n",
      "0.15695067264573992 the number is:  39\n",
      "0.15246636771300448 the number is:  40\n",
      "0.16143497757847533 the number is:  41\n",
      "0.16143497757847533 the number is:  42\n",
      "0.16143497757847533 the number is:  43\n",
      "0.16143497757847533 the number is:  44\n",
      "0.15695067264573992 the number is:  45\n",
      "0.16143497757847533 the number is:  46\n",
      "0.16143497757847533 the number is:  47\n",
      "0.16143497757847533 the number is:  48\n",
      "0.16143497757847533 the number is:  49\n",
      "0.16143497757847533 the number is:  50\n",
      "0.15695067264573992 the number is:  51\n",
      "0.15695067264573992 the number is:  52\n",
      "0.15695067264573992 the number is:  53\n",
      "0.15695067264573992 the number is:  54\n",
      "0.15695067264573992 the number is:  55\n",
      "0.15695067264573992 the number is:  56\n",
      "0.15695067264573992 the number is:  57\n",
      "0.15695067264573992 the number is:  58\n",
      "0.15695067264573992 the number is:  59\n",
      "0.15695067264573992 the number is:  60\n",
      "0.15246636771300448 the number is:  61\n",
      "0.15246636771300448 the number is:  62\n",
      "0.15246636771300448 the number is:  63\n",
      "0.15246636771300448 the number is:  64\n",
      "0.15246636771300448 the number is:  65\n",
      "0.15695067264573992 the number is:  66\n",
      "0.15695067264573992 the number is:  67\n",
      "0.15695067264573992 the number is:  68\n",
      "0.15695067264573992 the number is:  69\n",
      "0.15695067264573992 the number is:  70\n",
      "0.15695067264573992 the number is:  71\n",
      "0.15695067264573992 the number is:  72\n",
      "0.15695067264573992 the number is:  73\n",
      "0.15695067264573992 the number is:  74\n",
      "0.15695067264573992 the number is:  75\n",
      "0.15695067264573992 the number is:  76\n",
      "0.15695067264573992 the number is:  77\n",
      "0.15695067264573992 the number is:  78\n",
      "0.15695067264573992 the number is:  79\n",
      "0.15246636771300448 the number is:  80\n",
      "0.15246636771300448 the number is:  81\n",
      "0.15695067264573992 the number is:  82\n",
      "0.15246636771300448 the number is:  83\n",
      "0.15695067264573992 the number is:  84\n",
      "0.15695067264573992 the number is:  85\n",
      "0.15246636771300448 the number is:  86\n",
      "0.15246636771300448 the number is:  87\n",
      "0.15246636771300448 the number is:  88\n",
      "0.14798206278026907 the number is:  89\n",
      "0.15695067264573992 the number is:  90\n",
      "0.15246636771300448 the number is:  91\n",
      "0.14798206278026907 the number is:  92\n",
      "0.14798206278026907 the number is:  93\n",
      "0.14798206278026907 the number is:  94\n",
      "0.14798206278026907 the number is:  95\n",
      "0.15246636771300448 the number is:  96\n",
      "0.15246636771300448 the number is:  97\n",
      "0.15695067264573992 the number is:  98\n",
      "0.15695067264573992 the number is:  99\n",
      "0.15695067264573992 the number is:  100\n",
      "0.15695067264573992 the number is:  101\n",
      "0.16143497757847533 at index: 34\n",
      "0.14798206278026907  at index:  36\n"
     ]
    }
   ],
   "source": [
    "feature_names = [\"Pclass\",\"Sex_female\",\"Sex_male\",\"Age\",\"SibSp\",\"Parch\",\"Fare\",\"Embarked_C\",\"Embarked_Q\",\"Embarked_S\"]\n",
    "X = train_data[feature_names]\n",
    "train_X, val_X, train_y, val_y = train_test_split(X,Y,random_state=0)\n",
    "\n",
    "def get_mae(max_leaf_nodes,train_X,val_X,train_y,val_y):\n",
    "    model = DecisionTreeClassifier(max_leaf_nodes = max_leaf_nodes,random_state =25)\n",
    "    model.fit(train_X,train_y)\n",
    "    prediction = model.predict(val_X)\n",
    "    mae = mean_absolute_error(val_y,prediction)\n",
    "    return mae\n",
    "\n",
    "def get_mae_rf(max_leaf_nodes,train_X,val_X,train_y,val_y):\n",
    "    model = RandomForestClassifier(max_leaf_nodes = max_leaf_nodes,random_state =25)\n",
    "    model.fit(train_X,train_y)\n",
    "    prediction = model.predict(val_X)\n",
    "    mae = mean_absolute_error(val_y,prediction)\n",
    "    return mae\n",
    "\n",
    "\n",
    "\n",
    "list = []\n",
    "list_two = []\n",
    "x = range(100)\n",
    "for i in x:\n",
    "    i = i +2\n",
    "    mae = get_mae(i,train_X,val_X,train_y,val_y)\n",
    "    list.append(mae)\n",
    "    print(mae, \"the number is: \", i)\n",
    "    \n",
    "print(min(list),\"at index:\", np.argmin(list))\n",
    "for a in x:\n",
    "    a = a +2\n",
    "    mae = get_mae_rf(a,train_X,val_X,train_y,val_y)\n",
    "    list_two.append(mae)\n",
    "    print(mae, \"the number is: \", a)\n",
    "    \n",
    "print(min(list),\"at index:\", np.argmin(list)+2)\n",
    "print(min(list_two),\" at index: \", np.argmin(list_two)+2)"
   ]
  },
  {
   "cell_type": "markdown",
   "id": "270d64ab",
   "metadata": {
    "papermill": {
     "duration": 0.009115,
     "end_time": "2025-02-04T00:13:54.051036",
     "exception": false,
     "start_time": "2025-02-04T00:13:54.041921",
     "status": "completed"
    },
    "tags": []
   },
   "source": [
    "## Random Forest Model was the lowest mean absolute error with 36 leaf nodes, create and train model"
   ]
  },
  {
   "cell_type": "code",
   "execution_count": 13,
   "id": "b25644ca",
   "metadata": {
    "execution": {
     "iopub.execute_input": "2025-02-04T00:13:54.071394Z",
     "iopub.status.busy": "2025-02-04T00:13:54.070949Z",
     "iopub.status.idle": "2025-02-04T00:13:54.450615Z",
     "shell.execute_reply": "2025-02-04T00:13:54.449151Z"
    },
    "papermill": {
     "duration": 0.392071,
     "end_time": "2025-02-04T00:13:54.452725",
     "exception": false,
     "start_time": "2025-02-04T00:13:54.060654",
     "status": "completed"
    },
    "tags": []
   },
   "outputs": [
    {
     "data": {
      "text/html": [
       "<style>#sk-container-id-1 {color: black;background-color: white;}#sk-container-id-1 pre{padding: 0;}#sk-container-id-1 div.sk-toggleable {background-color: white;}#sk-container-id-1 label.sk-toggleable__label {cursor: pointer;display: block;width: 100%;margin-bottom: 0;padding: 0.3em;box-sizing: border-box;text-align: center;}#sk-container-id-1 label.sk-toggleable__label-arrow:before {content: \"▸\";float: left;margin-right: 0.25em;color: #696969;}#sk-container-id-1 label.sk-toggleable__label-arrow:hover:before {color: black;}#sk-container-id-1 div.sk-estimator:hover label.sk-toggleable__label-arrow:before {color: black;}#sk-container-id-1 div.sk-toggleable__content {max-height: 0;max-width: 0;overflow: hidden;text-align: left;background-color: #f0f8ff;}#sk-container-id-1 div.sk-toggleable__content pre {margin: 0.2em;color: black;border-radius: 0.25em;background-color: #f0f8ff;}#sk-container-id-1 input.sk-toggleable__control:checked~div.sk-toggleable__content {max-height: 200px;max-width: 100%;overflow: auto;}#sk-container-id-1 input.sk-toggleable__control:checked~label.sk-toggleable__label-arrow:before {content: \"▾\";}#sk-container-id-1 div.sk-estimator input.sk-toggleable__control:checked~label.sk-toggleable__label {background-color: #d4ebff;}#sk-container-id-1 div.sk-label input.sk-toggleable__control:checked~label.sk-toggleable__label {background-color: #d4ebff;}#sk-container-id-1 input.sk-hidden--visually {border: 0;clip: rect(1px 1px 1px 1px);clip: rect(1px, 1px, 1px, 1px);height: 1px;margin: -1px;overflow: hidden;padding: 0;position: absolute;width: 1px;}#sk-container-id-1 div.sk-estimator {font-family: monospace;background-color: #f0f8ff;border: 1px dotted black;border-radius: 0.25em;box-sizing: border-box;margin-bottom: 0.5em;}#sk-container-id-1 div.sk-estimator:hover {background-color: #d4ebff;}#sk-container-id-1 div.sk-parallel-item::after {content: \"\";width: 100%;border-bottom: 1px solid gray;flex-grow: 1;}#sk-container-id-1 div.sk-label:hover label.sk-toggleable__label {background-color: #d4ebff;}#sk-container-id-1 div.sk-serial::before {content: \"\";position: absolute;border-left: 1px solid gray;box-sizing: border-box;top: 0;bottom: 0;left: 50%;z-index: 0;}#sk-container-id-1 div.sk-serial {display: flex;flex-direction: column;align-items: center;background-color: white;padding-right: 0.2em;padding-left: 0.2em;position: relative;}#sk-container-id-1 div.sk-item {position: relative;z-index: 1;}#sk-container-id-1 div.sk-parallel {display: flex;align-items: stretch;justify-content: center;background-color: white;position: relative;}#sk-container-id-1 div.sk-item::before, #sk-container-id-1 div.sk-parallel-item::before {content: \"\";position: absolute;border-left: 1px solid gray;box-sizing: border-box;top: 0;bottom: 0;left: 50%;z-index: -1;}#sk-container-id-1 div.sk-parallel-item {display: flex;flex-direction: column;z-index: 1;position: relative;background-color: white;}#sk-container-id-1 div.sk-parallel-item:first-child::after {align-self: flex-end;width: 50%;}#sk-container-id-1 div.sk-parallel-item:last-child::after {align-self: flex-start;width: 50%;}#sk-container-id-1 div.sk-parallel-item:only-child::after {width: 0;}#sk-container-id-1 div.sk-dashed-wrapped {border: 1px dashed gray;margin: 0 0.4em 0.5em 0.4em;box-sizing: border-box;padding-bottom: 0.4em;background-color: white;}#sk-container-id-1 div.sk-label label {font-family: monospace;font-weight: bold;display: inline-block;line-height: 1.2em;}#sk-container-id-1 div.sk-label-container {text-align: center;}#sk-container-id-1 div.sk-container {/* jupyter's `normalize.less` sets `[hidden] { display: none; }` but bootstrap.min.css set `[hidden] { display: none !important; }` so we also need the `!important` here to be able to override the default hidden behavior on the sphinx rendered scikit-learn.org. See: https://github.com/scikit-learn/scikit-learn/issues/21755 */display: inline-block !important;position: relative;}#sk-container-id-1 div.sk-text-repr-fallback {display: none;}</style><div id=\"sk-container-id-1\" class=\"sk-top-container\"><div class=\"sk-text-repr-fallback\"><pre>RandomForestClassifier(max_leaf_nodes=36, random_state=25)</pre><b>In a Jupyter environment, please rerun this cell to show the HTML representation or trust the notebook. <br />On GitHub, the HTML representation is unable to render, please try loading this page with nbviewer.org.</b></div><div class=\"sk-container\" hidden><div class=\"sk-item\"><div class=\"sk-estimator sk-toggleable\"><input class=\"sk-toggleable__control sk-hidden--visually\" id=\"sk-estimator-id-1\" type=\"checkbox\" checked><label for=\"sk-estimator-id-1\" class=\"sk-toggleable__label sk-toggleable__label-arrow\">RandomForestClassifier</label><div class=\"sk-toggleable__content\"><pre>RandomForestClassifier(max_leaf_nodes=36, random_state=25)</pre></div></div></div></div></div>"
      ],
      "text/plain": [
       "RandomForestClassifier(max_leaf_nodes=36, random_state=25)"
      ]
     },
     "execution_count": 13,
     "metadata": {},
     "output_type": "execute_result"
    }
   ],
   "source": [
    "rf_model = RandomForestClassifier(max_leaf_nodes =36,random_state=25)\n",
    "rf_model.fit(train_X,train_y)\n",
    "rf_prediction = rf_model.predict(val_X)\n",
    "rf_mae = mean_absolute_error(rf_prediction,val_y)\n",
    "rf_model.fit(X,Y)"
   ]
  },
  {
   "cell_type": "code",
   "execution_count": 14,
   "id": "d963a9c3",
   "metadata": {
    "execution": {
     "iopub.execute_input": "2025-02-04T00:13:54.477294Z",
     "iopub.status.busy": "2025-02-04T00:13:54.476914Z",
     "iopub.status.idle": "2025-02-04T00:13:54.495757Z",
     "shell.execute_reply": "2025-02-04T00:13:54.494322Z"
    },
    "papermill": {
     "duration": 0.034377,
     "end_time": "2025-02-04T00:13:54.498579",
     "exception": false,
     "start_time": "2025-02-04T00:13:54.464202",
     "status": "completed"
    },
    "tags": []
   },
   "outputs": [],
   "source": [
    "predictions = rf_model.predict(test_data[feature_names])"
   ]
  },
  {
   "cell_type": "code",
   "execution_count": 15,
   "id": "c2c424ec",
   "metadata": {
    "execution": {
     "iopub.execute_input": "2025-02-04T00:13:54.524208Z",
     "iopub.status.busy": "2025-02-04T00:13:54.523742Z",
     "iopub.status.idle": "2025-02-04T00:13:54.536850Z",
     "shell.execute_reply": "2025-02-04T00:13:54.535471Z"
    },
    "papermill": {
     "duration": 0.02707,
     "end_time": "2025-02-04T00:13:54.538797",
     "exception": false,
     "start_time": "2025-02-04T00:13:54.511727",
     "status": "completed"
    },
    "tags": []
   },
   "outputs": [
    {
     "name": "stdout",
     "output_type": "stream",
     "text": [
      "Your submission was successfully saved!\n"
     ]
    }
   ],
   "source": [
    "#output = pd.DataFrame({'PassengerId': test_data.PassengerId, 'Survived': predictions})\n",
    "#output['Survived'] = output['Survived'].round().astype(int)\n",
    "#output.to_csv('submission.csv', index=False)\n",
    "output = pd.DataFrame({'PassengerID': test_data.PassengerId, 'Survived': predictions})\n",
    "output.to_csv('submission.csv',index=False)\n",
    "print(\"Your submission was successfully saved!\")"
   ]
  }
 ],
 "metadata": {
  "kaggle": {
   "accelerator": "none",
   "dataSources": [
    {
     "databundleVersionId": 26502,
     "sourceId": 3136,
     "sourceType": "competition"
    }
   ],
   "dockerImageVersionId": 30839,
   "isGpuEnabled": false,
   "isInternetEnabled": false,
   "language": "python",
   "sourceType": "notebook"
  },
  "kernelspec": {
   "display_name": "Python 3",
   "language": "python",
   "name": "python3"
  },
  "language_info": {
   "codemirror_mode": {
    "name": "ipython",
    "version": 3
   },
   "file_extension": ".py",
   "mimetype": "text/x-python",
   "name": "python",
   "nbconvert_exporter": "python",
   "pygments_lexer": "ipython3",
   "version": "3.10.12"
  },
  "papermill": {
   "default_parameters": {},
   "duration": 27.276392,
   "end_time": "2025-02-04T00:13:55.271351",
   "environment_variables": {},
   "exception": null,
   "input_path": "__notebook__.ipynb",
   "output_path": "__notebook__.ipynb",
   "parameters": {},
   "start_time": "2025-02-04T00:13:27.994959",
   "version": "2.6.0"
  }
 },
 "nbformat": 4,
 "nbformat_minor": 5
}
