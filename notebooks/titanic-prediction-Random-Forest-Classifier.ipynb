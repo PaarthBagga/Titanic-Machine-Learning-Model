{
 "cells": [
  {
   "cell_type": "code",
   "execution_count": null,
   "metadata": {
    "_cell_guid": "b1076dfc-b9ad-4769-8c92-a6c4dae69d19",
    "_uuid": "8f2839f25d086af736a60e9eeb907d3b93b6e0e5",
    "execution": {
     "iopub.execute_input": "2025-02-01T01:18:39.559343Z",
     "iopub.status.busy": "2025-02-01T01:18:39.558858Z",
     "iopub.status.idle": "2025-02-01T01:18:39.568053Z",
     "shell.execute_reply": "2025-02-01T01:18:39.566538Z",
     "shell.execute_reply.started": "2025-02-01T01:18:39.559307Z"
    },
    "trusted": true
   },
   "outputs": [],
   "source": [
    "import numpy as np \n",
    "import pandas as pd \n",
    "from sklearn.tree import DecisionTreeClassifier\n",
    "from sklearn.ensemble import RandomForestClassifier\n",
    "from sklearn.metrics import mean_absolute_error\n",
    "from sklearn.model_selection import train_test_split\n",
    "from sklearn.preprocessing import OneHotEncoder\n",
    "\n",
    "import os\n",
    "for dirname, _, filenames in os.walk('/kaggle/input'):\n",
    "    for filename in filenames:\n",
    "        print(os.path.join(dirname, filename))\n",
    "\n"
   ]
  },
  {
   "cell_type": "markdown",
   "metadata": {},
   "source": [
    "Upload the csv and replace any NaN in the Embarked column with Unknown"
   ]
  },
  {
   "cell_type": "code",
   "execution_count": null,
   "metadata": {
    "execution": {
     "iopub.execute_input": "2025-02-01T01:18:39.570556Z",
     "iopub.status.busy": "2025-02-01T01:18:39.569955Z",
     "iopub.status.idle": "2025-02-01T01:18:39.616382Z",
     "shell.execute_reply": "2025-02-01T01:18:39.615238Z",
     "shell.execute_reply.started": "2025-02-01T01:18:39.570432Z"
    },
    "trusted": true
   },
   "outputs": [],
   "source": [
    "train_data = pd.read_csv(\"/kaggle/input/titanic/train.csv\")\n",
    "train_data['Embarked'] = train_data['Embarked'].fillna('Unknown')\n",
    "train_data.head()\n",
    "test_data = pd.read_csv(\"/kaggle/input/titanic/test.csv\")\n",
    "test_data.head()"
   ]
  },
  {
   "cell_type": "markdown",
   "metadata": {},
   "source": [
    "## Import One Hot Encoder in order to transform columns with categorical data like Embarked and Sex to quantitative data"
   ]
  },
  {
   "cell_type": "code",
   "execution_count": null,
   "metadata": {
    "execution": {
     "iopub.execute_input": "2025-02-01T01:18:39.618548Z",
     "iopub.status.busy": "2025-02-01T01:18:39.618147Z",
     "iopub.status.idle": "2025-02-01T01:18:39.645797Z",
     "shell.execute_reply": "2025-02-01T01:18:39.644456Z",
     "shell.execute_reply.started": "2025-02-01T01:18:39.618501Z"
    },
    "trusted": true
   },
   "outputs": [],
   "source": [
    "ohe = OneHotEncoder(handle_unknown = 'ignore',sparse_output = False).set_output(transform=\"pandas\")\n",
    "ohetransform = ohe.fit_transform(train_data[[\"Sex\"]])\n",
    "ohetransformtwo = ohe.fit_transform(train_data[[\"Embarked\"]])\n",
    "ohetransformthree = ohe.fit_transform(test_data[[\"Sex\"]])\n",
    "ohetransformfour = ohe.fit_transform(test_data[[\"Embarked\"]])\n",
    "train_data = pd.concat([train_data,ohetransformtwo],axis=1).drop(columns = [\"Embarked\"])\n",
    "train_data = pd.concat([train_data,ohetransform],axis=1).drop(columns= [\"Sex\"])\n",
    "test_data = pd.concat([test_data,ohetransformthree],axis=1).drop(columns = [\"Embarked\"])\n",
    "test_data = pd.concat([test_data,ohetransformfour],axis=1).drop(columns= [\"Sex\"])"
   ]
  },
  {
   "cell_type": "markdown",
   "metadata": {},
   "source": [
    "## For the missing values in Age and Fare, use the median to insert a value"
   ]
  },
  {
   "cell_type": "code",
   "execution_count": null,
   "metadata": {
    "execution": {
     "iopub.execute_input": "2025-02-01T01:18:39.648201Z",
     "iopub.status.busy": "2025-02-01T01:18:39.647717Z",
     "iopub.status.idle": "2025-02-01T01:18:39.668371Z",
     "shell.execute_reply": "2025-02-01T01:18:39.667135Z",
     "shell.execute_reply.started": "2025-02-01T01:18:39.648151Z"
    },
    "trusted": true
   },
   "outputs": [],
   "source": [
    "train_data['Age'] = train_data['Age'].fillna(train_data.groupby('Pclass')['Age'].transform('median'))\n",
    "test_data['Age'] = test_data['Age'].fillna(test_data.groupby('Pclass')['Age'].transform('median'))\n",
    "test_data['Fare'] = test_data['Fare'].fillna(test_data.groupby('Pclass')['Fare'].transform('median'))"
   ]
  },
  {
   "cell_type": "markdown",
   "metadata": {},
   "source": [
    "## Ensure that all columns are as wanted"
   ]
  },
  {
   "cell_type": "code",
   "execution_count": null,
   "metadata": {
    "execution": {
     "iopub.execute_input": "2025-02-01T01:18:39.670093Z",
     "iopub.status.busy": "2025-02-01T01:18:39.669703Z",
     "iopub.status.idle": "2025-02-01T01:18:39.703452Z",
     "shell.execute_reply": "2025-02-01T01:18:39.702135Z",
     "shell.execute_reply.started": "2025-02-01T01:18:39.670060Z"
    },
    "trusted": true
   },
   "outputs": [],
   "source": [
    "train_data.head()"
   ]
  },
  {
   "cell_type": "code",
   "execution_count": null,
   "metadata": {
    "execution": {
     "iopub.execute_input": "2025-02-01T01:18:39.705182Z",
     "iopub.status.busy": "2025-02-01T01:18:39.704774Z",
     "iopub.status.idle": "2025-02-01T01:18:39.734662Z",
     "shell.execute_reply": "2025-02-01T01:18:39.733368Z",
     "shell.execute_reply.started": "2025-02-01T01:18:39.705139Z"
    },
    "trusted": true
   },
   "outputs": [],
   "source": [
    "test_data.head()"
   ]
  },
  {
   "cell_type": "markdown",
   "metadata": {},
   "source": [
    "## Preprocess data in order to train model, split into 2 sections"
   ]
  },
  {
   "cell_type": "code",
   "execution_count": null,
   "metadata": {
    "execution": {
     "iopub.execute_input": "2025-02-01T01:18:39.736102Z",
     "iopub.status.busy": "2025-02-01T01:18:39.735724Z",
     "iopub.status.idle": "2025-02-01T01:18:39.755291Z",
     "shell.execute_reply": "2025-02-01T01:18:39.754114Z",
     "shell.execute_reply.started": "2025-02-01T01:18:39.736072Z"
    },
    "trusted": true
   },
   "outputs": [],
   "source": [
    "Y = train_data.Survived\n",
    "feature_names = [\"Pclass\",\"Sex_female\",\"Sex_male\",\"Age\",\"SibSp\",\"Parch\",\"Fare\",\"Embarked_C\",\"Embarked_Q\",\"Embarked_S\"]\n",
    "X = train_data[feature_names]\n",
    "train_X, val_X, train_y, val_y = train_test_split(X,Y)"
   ]
  },
  {
   "cell_type": "code",
   "execution_count": null,
   "metadata": {
    "execution": {
     "iopub.execute_input": "2025-02-01T01:18:39.759144Z",
     "iopub.status.busy": "2025-02-01T01:18:39.758670Z",
     "iopub.status.idle": "2025-02-01T01:18:39.805446Z",
     "shell.execute_reply": "2025-02-01T01:18:39.804326Z",
     "shell.execute_reply.started": "2025-02-01T01:18:39.759083Z"
    },
    "trusted": true
   },
   "outputs": [],
   "source": [
    "print(X.describe())\n",
    "print(X.head())"
   ]
  },
  {
   "cell_type": "markdown",
   "metadata": {},
   "source": [
    "## Ensure no columns are empty"
   ]
  },
  {
   "cell_type": "code",
   "execution_count": null,
   "metadata": {
    "execution": {
     "iopub.execute_input": "2025-02-01T01:18:39.807048Z",
     "iopub.status.busy": "2025-02-01T01:18:39.806733Z",
     "iopub.status.idle": "2025-02-01T01:18:39.814361Z",
     "shell.execute_reply": "2025-02-01T01:18:39.813193Z",
     "shell.execute_reply.started": "2025-02-01T01:18:39.807022Z"
    },
    "trusted": true
   },
   "outputs": [],
   "source": [
    "#titanic_model.fit(X,Y)\n",
    "print(X.isna().sum())"
   ]
  },
  {
   "cell_type": "code",
   "execution_count": null,
   "metadata": {
    "execution": {
     "iopub.execute_input": "2025-02-01T01:18:39.816098Z",
     "iopub.status.busy": "2025-02-01T01:18:39.815684Z",
     "iopub.status.idle": "2025-02-01T01:18:39.834728Z",
     "shell.execute_reply": "2025-02-01T01:18:39.833624Z",
     "shell.execute_reply.started": "2025-02-01T01:18:39.816066Z"
    },
    "trusted": true
   },
   "outputs": [],
   "source": [
    "print(test_data[feature_names].isna().sum())"
   ]
  },
  {
   "cell_type": "code",
   "execution_count": null,
   "metadata": {
    "execution": {
     "iopub.execute_input": "2025-02-01T01:18:39.836672Z",
     "iopub.status.busy": "2025-02-01T01:18:39.836027Z",
     "iopub.status.idle": "2025-02-01T01:18:39.870262Z",
     "shell.execute_reply": "2025-02-01T01:18:39.868961Z",
     "shell.execute_reply.started": "2025-02-01T01:18:39.836624Z"
    },
    "trusted": true
   },
   "outputs": [],
   "source": [
    "train_data.head()\n",
    "train_data.dropna(axis=1)\n",
    "train_data.head()"
   ]
  },
  {
   "cell_type": "markdown",
   "metadata": {},
   "source": []
  },
  {
   "cell_type": "markdown",
   "metadata": {},
   "source": [
    "## Feature engineer the max_leaf_nodes sizes of a DecisionTreeClassifier and a RandomForestClassifier model to see which is the lowest"
   ]
  },
  {
   "cell_type": "code",
   "execution_count": null,
   "metadata": {
    "execution": {
     "iopub.execute_input": "2025-02-01T01:18:39.872016Z",
     "iopub.status.busy": "2025-02-01T01:18:39.871578Z",
     "iopub.status.idle": "2025-02-01T01:18:59.730246Z",
     "shell.execute_reply": "2025-02-01T01:18:59.729066Z",
     "shell.execute_reply.started": "2025-02-01T01:18:39.871959Z"
    },
    "trusted": true
   },
   "outputs": [],
   "source": [
    "feature_names = [\"Pclass\",\"Sex_female\",\"Sex_male\",\"Age\",\"SibSp\",\"Parch\",\"Fare\",\"Embarked_C\",\"Embarked_Q\",\"Embarked_S\"]\n",
    "X = train_data[feature_names]\n",
    "train_X, val_X, train_y, val_y = train_test_split(X,Y,random_state=0)\n",
    "\n",
    "def get_mae(max_leaf_nodes,train_X,val_X,train_y,val_y):\n",
    "    model = DecisionTreeClassifier(max_leaf_nodes = max_leaf_nodes,random_state =25)\n",
    "    model.fit(train_X,train_y)\n",
    "    prediction = model.predict(val_X)\n",
    "    mae = mean_absolute_error(val_y,prediction)\n",
    "    return mae\n",
    "\n",
    "def get_mae_rf(max_leaf_nodes,train_X,val_X,train_y,val_y):\n",
    "    model = RandomForestClassifier(max_leaf_nodes = max_leaf_nodes,random_state =25)\n",
    "    model.fit(train_X,train_y)\n",
    "    prediction = model.predict(val_X)\n",
    "    mae = mean_absolute_error(val_y,prediction)\n",
    "    return mae\n",
    "\n",
    "\n",
    "\n",
    "list = []\n",
    "list_two = []\n",
    "x = range(100)\n",
    "for i in x:\n",
    "    i = i +2\n",
    "    mae = get_mae(i,train_X,val_X,train_y,val_y)\n",
    "    list.append(mae)\n",
    "    print(mae, \"the number is: \", i)\n",
    "    \n",
    "print(min(list),\"at index:\", np.argmin(list))\n",
    "for a in x:\n",
    "    a = a +2\n",
    "    mae = get_mae_rf(a,train_X,val_X,train_y,val_y)\n",
    "    list_two.append(mae)\n",
    "    print(mae, \"the number is: \", a)\n",
    "    \n",
    "print(min(list),\"at index:\", np.argmin(list)+2)\n",
    "print(min(list_two),\" at index: \", np.argmin(list_two)+2)"
   ]
  },
  {
   "cell_type": "markdown",
   "metadata": {},
   "source": [
    "## Random Forest Model was the lowest mean absolute error with 36 leaf nodes, create and train model"
   ]
  },
  {
   "cell_type": "code",
   "execution_count": null,
   "metadata": {
    "execution": {
     "iopub.execute_input": "2025-02-01T01:18:59.731803Z",
     "iopub.status.busy": "2025-02-01T01:18:59.731403Z",
     "iopub.status.idle": "2025-02-01T01:19:00.122645Z",
     "shell.execute_reply": "2025-02-01T01:19:00.121405Z",
     "shell.execute_reply.started": "2025-02-01T01:18:59.731766Z"
    },
    "trusted": true
   },
   "outputs": [],
   "source": [
    "rf_model = RandomForestClassifier(max_leaf_nodes =36,random_state=25)\n",
    "rf_model.fit(train_X,train_y)\n",
    "rf_prediction = rf_model.predict(val_X)\n",
    "rf_mae = mean_absolute_error(rf_prediction,val_y)\n",
    "rf_model.fit(X,Y)"
   ]
  },
  {
   "cell_type": "code",
   "execution_count": null,
   "metadata": {
    "execution": {
     "iopub.execute_input": "2025-02-01T01:19:15.484165Z",
     "iopub.status.busy": "2025-02-01T01:19:15.483692Z",
     "iopub.status.idle": "2025-02-01T01:19:15.504433Z",
     "shell.execute_reply": "2025-02-01T01:19:15.503186Z",
     "shell.execute_reply.started": "2025-02-01T01:19:15.484130Z"
    },
    "trusted": true
   },
   "outputs": [],
   "source": [
    "predictions = rf_model.predict(test_data[feature_names])"
   ]
  },
  {
   "cell_type": "code",
   "execution_count": null,
   "metadata": {
    "execution": {
     "iopub.execute_input": "2025-02-01T01:19:17.451110Z",
     "iopub.status.busy": "2025-02-01T01:19:17.450618Z",
     "iopub.status.idle": "2025-02-01T01:19:17.466664Z",
     "shell.execute_reply": "2025-02-01T01:19:17.465122Z",
     "shell.execute_reply.started": "2025-02-01T01:19:17.451070Z"
    },
    "trusted": true
   },
   "outputs": [],
   "source": [
    "#output = pd.DataFrame({'PassengerId': test_data.PassengerId, 'Survived': predictions})\n",
    "#output['Survived'] = output['Survived'].round().astype(int)\n",
    "#output.to_csv('submission.csv', index=False)\n",
    "output = pd.DataFrame({'PassengerID': test_data.PassengerId, 'Survived': predictions})\n",
    "output.to_csv('submission.csv',index=False)\n",
    "print(\"Your submission was successfully saved!\")"
   ]
  },
  {
   "cell_type": "code",
   "execution_count": null,
   "metadata": {
    "trusted": true
   },
   "outputs": [],
   "source": []
  }
 ],
 "metadata": {
  "kaggle": {
   "accelerator": "none",
   "dataSources": [
    {
     "databundleVersionId": 26502,
     "sourceId": 3136,
     "sourceType": "competition"
    }
   ],
   "dockerImageVersionId": 30839,
   "isGpuEnabled": false,
   "isInternetEnabled": false,
   "language": "python",
   "sourceType": "notebook"
  },
  "kernelspec": {
   "display_name": "Python 3",
   "language": "python",
   "name": "python3"
  },
  "language_info": {
   "codemirror_mode": {
    "name": "ipython",
    "version": 3
   },
   "file_extension": ".py",
   "mimetype": "text/x-python",
   "name": "python",
   "nbconvert_exporter": "python",
   "pygments_lexer": "ipython3",
   "version": "3.10.12"
  }
 },
 "nbformat": 4,
 "nbformat_minor": 4
}
